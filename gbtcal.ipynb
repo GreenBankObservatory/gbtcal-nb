{
 "cells": [
  {
   "cell_type": "markdown",
   "metadata": {
    "slideshow": {
     "slide_type": "slide"
    }
   },
   "source": [
    "# GBT DCR \"Decoding\""
   ]
  },
  {
   "cell_type": "markdown",
   "metadata": {
    "slideshow": {
     "slide_type": "-"
    }
   },
   "source": [
    "We use the term \"decoding\" to refer to the process by which the relevant FITS files associated with a given DCR scan are processed and merged together. You might also hear the term \"filling\" used instead.\n",
    "\n",
    "There are two FITS files that contribute to \"the data\":\n",
    "1. `DCR`: contains \"the data\" and the DCR-related metadata\n",
    "2. `IF`: contains receiver metadata\n",
    "\n",
    "These must be properly parsed, ordered, and joined in order for sensible queries to be performed on the result.\n",
    "\n",
    "This document is based on commit `ba57ddacb649fa85ee8e08acfc0e962babf2812f`"
   ]
  },
  {
   "cell_type": "markdown",
   "metadata": {},
   "source": [
    "For this demo, we will be a _single_ scan from a given receiver. For example, if we select the Ku band receiver (Rcvr12_18), which has 2 beams, each with 1 polarization (circular), then we essentially have two physical incoming data streams:\n",
    "\n",
    "\n",
    "| Port | Receptor | Polarization |  \n",
    "| ---- | -------- | ------------ |  \n",
    "| 2    | L1       | L            |  \n",
    "| 4    | R1       | R            |  \n",
    "\n",
    "However, since this data was taken over time as a series of integrations, it is not stored as a simple port->data mapping! It was taken with the DCR backend, which provides a calibration diode and a signal/reference beam switch. By combining these two binary states, we end up with 4 \"phases\" under which data was taken:\n",
    "\n",
    "| `SIGREF` | `CAL` |      Phase key       | Phase index |\n",
    "|----------|-------|----------------------|-------------|\n",
    "|        0 |     0 | `Signal / No Cal`    |           0 |\n",
    "|        0 |     1 | `Signal / Cal`       |           1 |\n",
    "|        1 |     0 | `Reference / No Cal` |           2 |\n",
    "|        1 |     1 | `Reference / Cal`    |           3 |\n",
    "\n",
    "So, our resultant data is actually time-domain data (i.e. per-integration) of the shape `(integration, port, phase)`. Our task, then is to figure out how to map each physical datastream up with its data"
   ]
  },
  {
   "cell_type": "markdown",
   "metadata": {
    "slideshow": {
     "slide_type": "slide"
    }
   },
   "source": [
    "## Step 1: Data Aquisition"
   ]
  },
  {
   "cell_type": "code",
   "execution_count": 1,
   "metadata": {
    "slideshow": {
     "slide_type": "-"
    }
   },
   "outputs": [],
   "source": [
    "import os\n",
    "\n",
    "from astropy.io import fits\n",
    "\n",
    "# Examples to choose from:\n",
    "examples = {\n",
    "    \"L\": (\"./AGBT16B_285_01:1:Rcvr1_2\", \"2016_11_02_09:07:00.fits\"),\n",
    "    \"X\": (\"./AGBT17A_056_10:1:Rcvr8_10\", \"2017_04_02_18:30:39.fits\"),\n",
    "    \"Ku\": (\"./AGBT02A_025_01:1000:Rcvr12_18\", \"2004_03_04_00:56:43.fits\"),\n",
    "    \"W\": (\"./AGBT17A_212_05:6:Rcvr68_92\", \"2017_08_06_04:29:10.fits\"),\n",
    "    \"Q\": (\"./AGBT16A_473_01:1:Rcvr40_52\", \"2016_12_13_09:09:56.fits\"),\n",
    "}\n",
    "\n",
    "receiver = \"Ku\"\n",
    "\n",
    "# We have the contents of a single scan tracked within this repo\n",
    "fits_dir = examples[receiver][0]\n",
    "dcr_hdul = fits.open(os.path.join(fits_dir, 'DCR', examples[receiver][1]))\n",
    "if_hdul = fits.open(os.path.join(fits_dir, 'IF', examples[receiver][1]))"
   ]
  },
  {
   "cell_type": "markdown",
   "metadata": {
    "slideshow": {
     "slide_type": "slide"
    }
   },
   "source": [
    "## Step 2: Table Initialization\n",
    "\n",
    "We will now convert our `HDUList` objects to `Table` objects so they can be more easily manipulated"
   ]
  },
  {
   "cell_type": "markdown",
   "metadata": {
    "slideshow": {
     "slide_type": "subslide"
    }
   },
   "source": [
    "### Step 2.1: DCR State Table Conversion"
   ]
  },
  {
   "cell_type": "code",
   "execution_count": 2,
   "metadata": {
    "scrolled": true,
    "slideshow": {
     "slide_type": "-"
    }
   },
   "outputs": [
    {
     "data": {
      "text/html": [
       "<i>Table length=4</i>\n",
       "<table id=\"table140303120272744\" class=\"table-striped table-bordered table-condensed\">\n",
       "<thead><tr><th>BLANKTIM</th><th>PHASETIM</th><th>SIGREF</th><th>CAL</th><th>SWSIG1</th><th>SWSIG2</th><th>SWSIG3</th><th>SWSIG4</th><th>SWSIG5</th></tr></thead>\n",
       "<thead><tr><th>s</th><th>s</th><th></th><th></th><th></th><th></th><th></th><th></th><th></th></tr></thead>\n",
       "<thead><tr><th>float64</th><th>float64</th><th>uint8</th><th>uint8</th><th>uint8</th><th>uint8</th><th>uint8</th><th>uint8</th><th>uint8</th></tr></thead>\n",
       "<tr><td>0.002</td><td>0.05</td><td>0</td><td>0</td><td>0</td><td>0</td><td>0</td><td>0</td><td>1</td></tr>\n",
       "<tr><td>0.002</td><td>0.05</td><td>0</td><td>1</td><td>0</td><td>0</td><td>0</td><td>0</td><td>0</td></tr>\n",
       "<tr><td>0.002</td><td>0.05</td><td>1</td><td>0</td><td>0</td><td>0</td><td>0</td><td>0</td><td>1</td></tr>\n",
       "<tr><td>0.002</td><td>0.05</td><td>1</td><td>1</td><td>0</td><td>0</td><td>0</td><td>0</td><td>0</td></tr>\n",
       "</table>"
      ],
      "text/plain": [
       "<Table length=4>\n",
       "BLANKTIM PHASETIM SIGREF  CAL  SWSIG1 SWSIG2 SWSIG3 SWSIG4 SWSIG5\n",
       "   s        s                                                    \n",
       "float64  float64  uint8  uint8 uint8  uint8  uint8  uint8  uint8 \n",
       "-------- -------- ------ ----- ------ ------ ------ ------ ------\n",
       "   0.002     0.05      0     0      0      0      0      0      1\n",
       "   0.002     0.05      0     1      0      0      0      0      0\n",
       "   0.002     0.05      1     0      0      0      0      0      1\n",
       "   0.002     0.05      1     1      0      0      0      0      0"
      ]
     },
     "execution_count": 2,
     "metadata": {},
     "output_type": "execute_result"
    }
   ],
   "source": [
    "from astropy.table import Table\n",
    "\n",
    "# Load the FITS STATE table into an astropy Table\n",
    "dcr_state_table = Table.read(dcr_hdul[dcr_hdul.index_of('STATE')])\n",
    "# Show it below\n",
    "dcr_state_table"
   ]
  },
  {
   "cell_type": "markdown",
   "metadata": {
    "slideshow": {
     "slide_type": "subslide"
    }
   },
   "source": [
    "Now let's trim off the columns we don't need, and then add some \"helper\" columns that more concisely describe the phase represented (since this is how we'll be thinking about the data) anyway"
   ]
  },
  {
   "cell_type": "code",
   "execution_count": 3,
   "metadata": {
    "slideshow": {
     "slide_type": "-"
    }
   },
   "outputs": [
    {
     "data": {
      "text/html": [
       "<i>Table length=4</i>\n",
       "<table id=\"table140303117814528\" class=\"table-striped table-bordered table-condensed\">\n",
       "<thead><tr><th>SIGREF</th><th>CAL</th><th>PHASE_INDEX</th><th>PHASE</th></tr></thead>\n",
       "<thead><tr><th>uint8</th><th>uint8</th><th>int64</th><th>str18</th></tr></thead>\n",
       "<tr><td>0</td><td>0</td><td>0</td><td>Signal / No Cal</td></tr>\n",
       "<tr><td>0</td><td>1</td><td>1</td><td>Signal / Cal</td></tr>\n",
       "<tr><td>1</td><td>0</td><td>2</td><td>Reference / No Cal</td></tr>\n",
       "<tr><td>1</td><td>1</td><td>3</td><td>Reference / Cal</td></tr>\n",
       "</table>"
      ],
      "text/plain": [
       "<Table length=4>\n",
       "SIGREF  CAL  PHASE_INDEX       PHASE       \n",
       "uint8  uint8    int64          str18       \n",
       "------ ----- ----------- ------------------\n",
       "     0     0           0    Signal / No Cal\n",
       "     0     1           1       Signal / Cal\n",
       "     1     0           2 Reference / No Cal\n",
       "     1     1           3    Reference / Cal"
      ]
     },
     "execution_count": 3,
     "metadata": {},
     "output_type": "execute_result"
    }
   ],
   "source": [
    "import numpy as np\n",
    "from astropy.table import Column\n",
    "\n",
    "# Trim off unneeded columns\n",
    "# This creates a new \"view\" into the Table; no copy\n",
    "dcr_state_table = dcr_state_table['SIGREF', 'CAL']\n",
    "\n",
    "# Construct the \"verbose\" phases\n",
    "phases_verbose = [\n",
    "    '{} / {}'.format('Signal' if not sigref else 'Reference', 'Cal' if cal else 'No Cal')\n",
    "    for sigref, cal in dcr_state_table\n",
    "]\n",
    "# Create the two new columns and add them to the state table\n",
    "dcr_state_table.add_columns([\n",
    "    # This column holds the phase index -- see above table\n",
    "    Column(\n",
    "        name='PHASE_INDEX',\n",
    "        data=np.arange(len(phases_verbose))\n",
    "    ),\n",
    "    # This column holds the verbose name of each phase -- see above table\n",
    "    Column(\n",
    "        name='PHASE',\n",
    "        data=phases_verbose\n",
    "    )\n",
    "])\n",
    "dcr_state_table"
   ]
  },
  {
   "cell_type": "markdown",
   "metadata": {
    "slideshow": {
     "slide_type": "subslide"
    }
   },
   "source": [
    "### Step 2.2: DCR Data Table Initialization"
   ]
  },
  {
   "cell_type": "code",
   "execution_count": 4,
   "metadata": {
    "scrolled": true,
    "slideshow": {
     "slide_type": "-"
    }
   },
   "outputs": [
    {
     "data": {
      "text/html": [
       "<i>Table length=149</i>\n",
       "<table id=\"table140303117785856\" class=\"table-striped table-bordered table-condensed\">\n",
       "<thead><tr><th>IFFLAG</th><th>SUBSCAN</th><th>TIMETAG</th><th>DATA [2,4]</th></tr></thead>\n",
       "<thead><tr><th>CODE</th><th>CODE</th><th>DMJD</th><th>COUNTS</th></tr></thead>\n",
       "<thead><tr><th>int16</th><th>int32</th><th>float64</th><th>int32</th></tr></thead>\n",
       "<tr><td>0</td><td>1</td><td>53068.039386580334</td><td>188315 .. 211099</td></tr>\n",
       "<tr><td>0</td><td>2</td><td>53068.03938889521</td><td>188380 .. 209369</td></tr>\n",
       "<tr><td>0</td><td>3</td><td>53068.03939121</td><td>188290 .. 206591</td></tr>\n",
       "<tr><td>0</td><td>4</td><td>53068.039393524814</td><td>188440 .. 202913</td></tr>\n",
       "<tr><td>0</td><td>5</td><td>53068.03939584034</td><td>188634 .. 201291</td></tr>\n",
       "<tr><td>0</td><td>6</td><td>53068.03939815451</td><td>188737 .. 197217</td></tr>\n",
       "<tr><td>0</td><td>7</td><td>53068.03940046931</td><td>188785 .. 194893</td></tr>\n",
       "<tr><td>0</td><td>8</td><td>53068.03940278415</td><td>188706 .. 194166</td></tr>\n",
       "<tr><td>0</td><td>9</td><td>53068.03940509893</td><td>188497 .. 194098</td></tr>\n",
       "<tr><td>...</td><td>...</td><td>...</td><td>...</td></tr>\n",
       "<tr><td>0</td><td>140</td><td>53068.039708340344</td><td>186929 .. 191651</td></tr>\n",
       "<tr><td>0</td><td>141</td><td>53068.0397106544</td><td>187060 .. 191859</td></tr>\n",
       "<tr><td>0</td><td>142</td><td>53068.03971296925</td><td>186974 .. 192082</td></tr>\n",
       "<tr><td>0</td><td>143</td><td>53068.03971528405</td><td>187040 .. 192077</td></tr>\n",
       "<tr><td>0</td><td>144</td><td>53068.03971759876</td><td>187239 .. 192180</td></tr>\n",
       "<tr><td>0</td><td>145</td><td>53068.03971991446</td><td>187126 .. 192334</td></tr>\n",
       "<tr><td>0</td><td>146</td><td>53068.039722228554</td><td>187228 .. 192421</td></tr>\n",
       "<tr><td>0</td><td>147</td><td>53068.03972454332</td><td>187178 .. 192453</td></tr>\n",
       "<tr><td>0</td><td>148</td><td>53068.03972685817</td><td>187008 .. 192439</td></tr>\n",
       "<tr><td>0</td><td>149</td><td>53068.039729172975</td><td>186796 .. 192353</td></tr>\n",
       "</table>"
      ],
      "text/plain": [
       "<Table length=149>\n",
       "IFFLAG SUBSCAN      TIMETAG          DATA [2,4]   \n",
       " CODE    CODE         DMJD             COUNTS     \n",
       "int16   int32       float64            int32      \n",
       "------ ------- ------------------ ----------------\n",
       "     0       1 53068.039386580334 188315 .. 211099\n",
       "     0       2  53068.03938889521 188380 .. 209369\n",
       "     0       3     53068.03939121 188290 .. 206591\n",
       "     0       4 53068.039393524814 188440 .. 202913\n",
       "     0       5  53068.03939584034 188634 .. 201291\n",
       "     0       6  53068.03939815451 188737 .. 197217\n",
       "     0       7  53068.03940046931 188785 .. 194893\n",
       "     0       8  53068.03940278415 188706 .. 194166\n",
       "     0       9  53068.03940509893 188497 .. 194098\n",
       "   ...     ...                ...              ...\n",
       "     0     140 53068.039708340344 186929 .. 191651\n",
       "     0     141   53068.0397106544 187060 .. 191859\n",
       "     0     142  53068.03971296925 186974 .. 192082\n",
       "     0     143  53068.03971528405 187040 .. 192077\n",
       "     0     144  53068.03971759876 187239 .. 192180\n",
       "     0     145  53068.03971991446 187126 .. 192334\n",
       "     0     146 53068.039722228554 187228 .. 192421\n",
       "     0     147  53068.03972454332 187178 .. 192453\n",
       "     0     148  53068.03972685817 187008 .. 192439\n",
       "     0     149 53068.039729172975 186796 .. 192353"
      ]
     },
     "execution_count": 4,
     "metadata": {},
     "output_type": "execute_result"
    }
   ],
   "source": [
    "# Load the FITS DATA table into an astropy Table\n",
    "dcr_data_table = Table.read(dcr_hdul[dcr_hdul.index_of('DATA')])\n",
    "dcr_data_table"
   ]
  },
  {
   "cell_type": "markdown",
   "metadata": {
    "slideshow": {
     "slide_type": "subslide"
    }
   },
   "source": [
    "### Step 2.3: IF IF Table Initialization\n",
    "\n",
    "(The IF table of the IF `HDUList`)"
   ]
  },
  {
   "cell_type": "markdown",
   "metadata": {
    "slideshow": {
     "slide_type": "-"
    }
   },
   "source": [
    "Initialize the table:"
   ]
  },
  {
   "cell_type": "code",
   "execution_count": 5,
   "metadata": {
    "slideshow": {
     "slide_type": "-"
    }
   },
   "outputs": [
    {
     "data": {
      "text/html": [
       "<i>Table length=10</i>\n",
       "<table id=\"table140303117908568\" class=\"table-striped table-bordered table-condensed\">\n",
       "<thead><tr><th>BACKEND</th><th>BANK</th><th>PORT</th><th>RECEIVER</th><th>FEED</th><th>SRFEED1</th><th>SRFEED2</th><th>RECEPTOR</th><th>LO_CIRCUIT</th><th>LO_COMPONENT</th><th>SIDEBAND</th><th>POLARIZE</th><th>CENTER_IF</th><th>CENTER_SKY</th><th>BANDWDTH</th><th>HIGH_CAL</th><th>TEST_TONE_IF</th><th>TEST_TONE_SKY</th><th>TEST_TONE_CIRCUIT</th><th>TEST_TONE_COMPONENT</th><th>SFF_MULTIPLIER</th><th>SFF_SIDEBAND</th><th>SFF_OFFSET</th><th>TRANSFORM_COUNT</th><th>TRANSFORMS</th></tr></thead>\n",
       "<thead><tr><th>none</th><th>none</th><th>none</th><th>none</th><th>none</th><th>none</th><th>none</th><th>none</th><th>none</th><th>none</th><th>none</th><th>none</th><th>Hz</th><th>Hz</th><th>Hz</th><th>none</th><th>Hz</th><th>Hz</th><th>none</th><th>none</th><th>none</th><th>none</th><th>none</th><th>none</th><th>none</th></tr></thead>\n",
       "<thead><tr><th>str32</th><th>str2</th><th>int32</th><th>str32</th><th>int32</th><th>int32</th><th>int32</th><th>str8</th><th>str32</th><th>str32</th><th>str2</th><th>str2</th><th>float32</th><th>float32</th><th>float32</th><th>int32</th><th>float32</th><th>float32</th><th>str32</th><th>str32</th><th>float64</th><th>float64</th><th>float64</th><th>int32</th><th>str4096</th></tr></thead>\n",
       "<tr><td>DCR</td><td>A</td><td>2</td><td>Rcvr12_18</td><td>1</td><td>1</td><td>2</td><td>L1</td><td>LO1A</td><td>synthesizer</td><td>U</td><td>L</td><td>2752000000.0</td><td>14098000000.0</td><td>3004000000.0</td><td>0</td><td>nan</td><td>nan</td><td></td><td></td><td>1.0</td><td>1.0</td><td>0.0</td><td>12</td><td>feed(Rcvr12_18:L1): 11800 to 15600, left_circular polarization; tone(Rcvr12_18:C1L): 0 x0; filter(Rcvr12_18:FL1L): 11800 to 15600; mixer(Rcvr12_18:MX1L): LO: 11346 (x1) from LO1A:synthesizer, IFo =  IFi - 11346; filter(Rcvr12_18:FL4L): 1250 to 4750; (Rcvr12_18:J5): ; (IFRouter:J10): ; (IFRouter:J66): ; (OpticalDriver2:J1): ; attenuator(OpticalDriver2:attenuator): ; (OpticalDriver2:J4): ; (DCR:J2): ;</td></tr>\n",
       "<tr><td>DCR</td><td>A</td><td>4</td><td>Rcvr12_18</td><td>1</td><td>1</td><td>2</td><td>R1</td><td>LO1A</td><td>synthesizer</td><td>U</td><td>R</td><td>2752000000.0</td><td>14098000000.0</td><td>3004000000.0</td><td>0</td><td>nan</td><td>nan</td><td></td><td></td><td>1.0</td><td>1.0</td><td>0.0</td><td>12</td><td>feed(Rcvr12_18:R1): 11800 to 15600, right_circular polarization; tone(Rcvr12_18:C1R): 0 x0; filter(Rcvr12_18:FL1R): 11800 to 15600; mixer(Rcvr12_18:MX1R): LO: 11346 (x1) from LO1A:synthesizer, IFo =  IFi - 11346; filter(Rcvr12_18:FL4R): 1250 to 4750; (Rcvr12_18:J3): ; (IFRouter:J26): ; (IFRouter:J68): ; (OpticalDriver4:J1): ; attenuator(OpticalDriver4:attenuator): ; (OpticalDriver4:J4): ; (DCR:J4): ;</td></tr>\n",
       "<tr><td>Spectrometer</td><td>A</td><td>1</td><td>Rcvr12_18</td><td>1</td><td>1</td><td>2</td><td>L1</td><td>LO1A</td><td>synthesizer</td><td>U</td><td>L</td><td>900000000.0</td><td>13457000000.0</td><td>200000000.0</td><td>0</td><td>nan</td><td>nan</td><td></td><td></td><td>1.0</td><td>1.0</td><td>1211000000.0</td><td>24</td><td>feed(Rcvr12_18:L1): 11800 to 15600, left_circular polarization; tone(Rcvr12_18:C1L): 0 x0; filter(Rcvr12_18:FL1L): 11800 to 15600; mixer(Rcvr12_18:MX1L): LO: 11346 (x1) from LO1A:synthesizer, IFo =  IFi - 11346; filter(Rcvr12_18:FL4L): 1250 to 4750; (Rcvr12_18:J5): ; (IFRouter:J10): ; (IFRouter:J66): ; (OpticalDriver2:J1): ; attenuator(OpticalDriver2:attenuator): ; (OpticalDriver2:J2): ; (OpticalReceiver2:J1): ; (OpticalReceiver2:J2): ; (ConverterModule1:J2): ; mixer(ConverterModule1:MX2): LO: 11711 (x1) from LO2_G1:synthesizer, IFo = 11711 - IFi; filter(ConverterModule1:FL1): 8500 to 10350; mixer(ConverterModule1:MX3): LO: 10500 (x1) from LO3Distribution1:synthesizer, IFo = 10500 - IFi; filter(ConverterModule1:FL2): 0 to 2200; attenuator(ConverterModule1:AT1): ; (ConverterModule1:J3): ; (SamplerFilter1:J1): ; filter(SamplerFilter1:FL2): 800 to 1000; (SamplerFilter1:J5): ; (Spectrometer:J1): ;</td></tr>\n",
       "<tr><td>Spectrometer</td><td>A</td><td>2</td><td>Rcvr12_18</td><td>1</td><td>1</td><td>2</td><td>R1</td><td>LO1A</td><td>synthesizer</td><td>U</td><td>R</td><td>900000000.0</td><td>13457000000.0</td><td>200000000.0</td><td>0</td><td>nan</td><td>nan</td><td></td><td></td><td>1.0</td><td>1.0</td><td>1211000000.0</td><td>24</td><td>feed(Rcvr12_18:R1): 11800 to 15600, right_circular polarization; tone(Rcvr12_18:C1R): 0 x0; filter(Rcvr12_18:FL1R): 11800 to 15600; mixer(Rcvr12_18:MX1R): LO: 11346 (x1) from LO1A:synthesizer, IFo =  IFi - 11346; filter(Rcvr12_18:FL4R): 1250 to 4750; (Rcvr12_18:J3): ; (IFRouter:J26): ; (IFRouter:J68): ; (OpticalDriver4:J1): ; attenuator(OpticalDriver4:attenuator): ; (OpticalDriver4:J2): ; (OpticalReceiver4:J1): ; (OpticalReceiver4:J2): ; (ConverterModule5:J2): ; mixer(ConverterModule5:MX2): LO: 11711 (x1) from LO2_G1:synthesizer, IFo = 11711 - IFi; filter(ConverterModule5:FL1): 8500 to 10350; mixer(ConverterModule5:MX3): LO: 10500 (x1) from LO3Distribution1:synthesizer, IFo = 10500 - IFi; filter(ConverterModule5:FL2): 0 to 2200; attenuator(ConverterModule5:AT1): ; (ConverterModule5:J3): ; (SamplerFilter5:J1): ; filter(SamplerFilter5:FL2): 800 to 1000; (SamplerFilter5:J5): ; (Spectrometer:J2): ;</td></tr>\n",
       "<tr><td>Spectrometer</td><td>B</td><td>3</td><td>Rcvr12_18</td><td>1</td><td>1</td><td>2</td><td>L1</td><td>LO1A</td><td>synthesizer</td><td>U</td><td>L</td><td>900000000.0</td><td>13879000000.0</td><td>200000000.0</td><td>0</td><td>nan</td><td>nan</td><td></td><td></td><td>1.0</td><td>1.0</td><td>1633000000.0</td><td>24</td><td>feed(Rcvr12_18:L1): 11800 to 15600, left_circular polarization; tone(Rcvr12_18:C1L): 0 x0; filter(Rcvr12_18:FL1L): 11800 to 15600; mixer(Rcvr12_18:MX1L): LO: 11346 (x1) from LO1A:synthesizer, IFo =  IFi - 11346; filter(Rcvr12_18:FL4L): 1250 to 4750; (Rcvr12_18:J5): ; (IFRouter:J10): ; (IFRouter:J66): ; (OpticalDriver2:J1): ; attenuator(OpticalDriver2:attenuator): ; (OpticalDriver2:J2): ; (OpticalReceiver2:J1): ; (OpticalReceiver2:J3): ; (ConverterModule2:J2): ; mixer(ConverterModule2:MX2): LO: 12133 (x1) from LO2_G2:synthesizer, IFo = 12133 - IFi; filter(ConverterModule2:FL1): 8500 to 10350; mixer(ConverterModule2:MX3): LO: 10500 (x1) from LO3Distribution1:synthesizer, IFo = 10500 - IFi; filter(ConverterModule2:FL2): 0 to 2200; attenuator(ConverterModule2:AT1): ; (ConverterModule2:J3): ; (SamplerFilter2:J1): ; filter(SamplerFilter2:FL2): 800 to 1000; (SamplerFilter2:J5): ; (Spectrometer:J3): ;</td></tr>\n",
       "<tr><td>Spectrometer</td><td>B</td><td>4</td><td>Rcvr12_18</td><td>1</td><td>1</td><td>2</td><td>R1</td><td>LO1A</td><td>synthesizer</td><td>U</td><td>R</td><td>900000000.0</td><td>13879000000.0</td><td>200000000.0</td><td>0</td><td>nan</td><td>nan</td><td></td><td></td><td>1.0</td><td>1.0</td><td>1633000000.0</td><td>24</td><td>feed(Rcvr12_18:R1): 11800 to 15600, right_circular polarization; tone(Rcvr12_18:C1R): 0 x0; filter(Rcvr12_18:FL1R): 11800 to 15600; mixer(Rcvr12_18:MX1R): LO: 11346 (x1) from LO1A:synthesizer, IFo =  IFi - 11346; filter(Rcvr12_18:FL4R): 1250 to 4750; (Rcvr12_18:J3): ; (IFRouter:J26): ; (IFRouter:J68): ; (OpticalDriver4:J1): ; attenuator(OpticalDriver4:attenuator): ; (OpticalDriver4:J2): ; (OpticalReceiver4:J1): ; (OpticalReceiver4:J3): ; (ConverterModule6:J2): ; mixer(ConverterModule6:MX2): LO: 12133 (x1) from LO2_G2:synthesizer, IFo = 12133 - IFi; filter(ConverterModule6:FL1): 8500 to 10350; mixer(ConverterModule6:MX3): LO: 10500 (x1) from LO3Distribution1:synthesizer, IFo = 10500 - IFi; filter(ConverterModule6:FL2): 0 to 2200; attenuator(ConverterModule6:AT1): ; (ConverterModule6:J3): ; (SamplerFilter6:J1): ; filter(SamplerFilter6:FL2): 800 to 1000; (SamplerFilter6:J5): ; (Spectrometer:J4): ;</td></tr>\n",
       "<tr><td>Spectrometer</td><td>C</td><td>5</td><td>Rcvr12_18</td><td>1</td><td>1</td><td>2</td><td>L1</td><td>LO1A</td><td>synthesizer</td><td>U</td><td>L</td><td>900000000.0</td><td>14500000000.0</td><td>200000000.0</td><td>0</td><td>nan</td><td>nan</td><td></td><td></td><td>1.0</td><td>1.0</td><td>2254000000.0</td><td>24</td><td>feed(Rcvr12_18:L1): 11800 to 15600, left_circular polarization; tone(Rcvr12_18:C1L): 0 x0; filter(Rcvr12_18:FL1L): 11800 to 15600; mixer(Rcvr12_18:MX1L): LO: 11346 (x1) from LO1A:synthesizer, IFo =  IFi - 11346; filter(Rcvr12_18:FL4L): 1250 to 4750; (Rcvr12_18:J5): ; (IFRouter:J10): ; (IFRouter:J66): ; (OpticalDriver2:J1): ; attenuator(OpticalDriver2:attenuator): ; (OpticalDriver2:J2): ; (OpticalReceiver2:J1): ; (OpticalReceiver2:J4): ; (ConverterModule3:J2): ; mixer(ConverterModule3:MX2): LO: 12754 (x1) from LO2_G3:synthesizer, IFo = 12754 - IFi; filter(ConverterModule3:FL1): 8500 to 10350; mixer(ConverterModule3:MX3): LO: 10500 (x1) from LO3Distribution1:synthesizer, IFo = 10500 - IFi; filter(ConverterModule3:FL2): 0 to 2200; attenuator(ConverterModule3:AT1): ; (ConverterModule3:J3): ; (SamplerFilter3:J1): ; filter(SamplerFilter3:FL2): 800 to 1000; (SamplerFilter3:J5): ; (Spectrometer:J5): ;</td></tr>\n",
       "<tr><td>Spectrometer</td><td>C</td><td>6</td><td>Rcvr12_18</td><td>1</td><td>1</td><td>2</td><td>R1</td><td>LO1A</td><td>synthesizer</td><td>U</td><td>R</td><td>900000000.0</td><td>14500000000.0</td><td>200000000.0</td><td>0</td><td>nan</td><td>nan</td><td></td><td></td><td>1.0</td><td>1.0</td><td>2254000000.0</td><td>24</td><td>feed(Rcvr12_18:R1): 11800 to 15600, right_circular polarization; tone(Rcvr12_18:C1R): 0 x0; filter(Rcvr12_18:FL1R): 11800 to 15600; mixer(Rcvr12_18:MX1R): LO: 11346 (x1) from LO1A:synthesizer, IFo =  IFi - 11346; filter(Rcvr12_18:FL4R): 1250 to 4750; (Rcvr12_18:J3): ; (IFRouter:J26): ; (IFRouter:J68): ; (OpticalDriver4:J1): ; attenuator(OpticalDriver4:attenuator): ; (OpticalDriver4:J2): ; (OpticalReceiver4:J1): ; (OpticalReceiver4:J4): ; (ConverterModule7:J2): ; mixer(ConverterModule7:MX2): LO: 12754 (x1) from LO2_G3:synthesizer, IFo = 12754 - IFi; filter(ConverterModule7:FL1): 8500 to 10350; mixer(ConverterModule7:MX3): LO: 10500 (x1) from LO3Distribution1:synthesizer, IFo = 10500 - IFi; filter(ConverterModule7:FL2): 0 to 2200; attenuator(ConverterModule7:AT1): ; (ConverterModule7:J3): ; (SamplerFilter7:J1): ; filter(SamplerFilter7:FL2): 800 to 1000; (SamplerFilter7:J5): ; (Spectrometer:J6): ;</td></tr>\n",
       "<tr><td>Spectrometer</td><td>D</td><td>7</td><td>Rcvr12_18</td><td>1</td><td>1</td><td>2</td><td>L1</td><td>LO1A</td><td>synthesizer</td><td>U</td><td>L</td><td>900000000.0</td><td>15235000000.0</td><td>200000000.0</td><td>0</td><td>nan</td><td>nan</td><td></td><td></td><td>1.0</td><td>1.0</td><td>2989000000.0</td><td>24</td><td>feed(Rcvr12_18:L1): 11800 to 15600, left_circular polarization; tone(Rcvr12_18:C1L): 0 x0; filter(Rcvr12_18:FL1L): 11800 to 15600; mixer(Rcvr12_18:MX1L): LO: 11346 (x1) from LO1A:synthesizer, IFo =  IFi - 11346; filter(Rcvr12_18:FL4L): 1250 to 4750; (Rcvr12_18:J5): ; (IFRouter:J10): ; (IFRouter:J66): ; (OpticalDriver2:J1): ; attenuator(OpticalDriver2:attenuator): ; (OpticalDriver2:J2): ; (OpticalReceiver2:J1): ; (OpticalReceiver2:J5): ; (ConverterModule4:J2): ; mixer(ConverterModule4:MX2): LO: 13489 (x1) from LO2_G4:synthesizer, IFo = 13489 - IFi; filter(ConverterModule4:FL1): 8500 to 10350; mixer(ConverterModule4:MX3): LO: 10500 (x1) from LO3Distribution1:synthesizer, IFo = 10500 - IFi; filter(ConverterModule4:FL2): 0 to 2200; attenuator(ConverterModule4:AT1): ; (ConverterModule4:J3): ; (SamplerFilter4:J1): ; filter(SamplerFilter4:FL2): 800 to 1000; (SamplerFilter4:J5): ; (Spectrometer:J7): ;</td></tr>\n",
       "<tr><td>Spectrometer</td><td>D</td><td>8</td><td>Rcvr12_18</td><td>1</td><td>1</td><td>2</td><td>R1</td><td>LO1A</td><td>synthesizer</td><td>U</td><td>R</td><td>900000000.0</td><td>15235000000.0</td><td>200000000.0</td><td>0</td><td>nan</td><td>nan</td><td></td><td></td><td>1.0</td><td>1.0</td><td>2989000000.0</td><td>24</td><td>feed(Rcvr12_18:R1): 11800 to 15600, right_circular polarization; tone(Rcvr12_18:C1R): 0 x0; filter(Rcvr12_18:FL1R): 11800 to 15600; mixer(Rcvr12_18:MX1R): LO: 11346 (x1) from LO1A:synthesizer, IFo =  IFi - 11346; filter(Rcvr12_18:FL4R): 1250 to 4750; (Rcvr12_18:J3): ; (IFRouter:J26): ; (IFRouter:J68): ; (OpticalDriver4:J1): ; attenuator(OpticalDriver4:attenuator): ; (OpticalDriver4:J2): ; (OpticalReceiver4:J1): ; (OpticalReceiver4:J5): ; (ConverterModule8:J2): ; mixer(ConverterModule8:MX2): LO: 13489 (x1) from LO2_G4:synthesizer, IFo = 13489 - IFi; filter(ConverterModule8:FL1): 8500 to 10350; mixer(ConverterModule8:MX3): LO: 10500 (x1) from LO3Distribution1:synthesizer, IFo = 10500 - IFi; filter(ConverterModule8:FL2): 0 to 2200; attenuator(ConverterModule8:AT1): ; (ConverterModule8:J3): ; (SamplerFilter8:J1): ; filter(SamplerFilter8:FL2): 800 to 1000; (SamplerFilter8:J5): ; (Spectrometer:J8): ;</td></tr>\n",
       "</table>"
      ],
      "text/plain": [
       "<Table length=10>\n",
       "            BACKEND              ...\n",
       "              none               ...\n",
       "             str32               ...\n",
       "-------------------------------- ...\n",
       "DCR                              ...\n",
       "DCR                              ...\n",
       "Spectrometer                     ...\n",
       "Spectrometer                     ...\n",
       "Spectrometer                     ...\n",
       "Spectrometer                     ...\n",
       "Spectrometer                     ...\n",
       "Spectrometer                     ...\n",
       "Spectrometer                     ...\n",
       "Spectrometer                     ..."
      ]
     },
     "execution_count": 5,
     "metadata": {},
     "output_type": "execute_result"
    }
   ],
   "source": [
    "# Load the FITS IF table into an astropy Table\n",
    "if_if_table = Table.read(if_hdul[if_hdul.index_of('IF')])\n",
    "if_if_table"
   ]
  },
  {
   "cell_type": "markdown",
   "metadata": {
    "slideshow": {
     "slide_type": "subslide"
    }
   },
   "source": [
    "Throw out non-DCR rows:"
   ]
  },
  {
   "cell_type": "code",
   "execution_count": 6,
   "metadata": {
    "slideshow": {
     "slide_type": "-"
    }
   },
   "outputs": [
    {
     "data": {
      "text/html": [
       "<i>Table length=2</i>\n",
       "<table id=\"table140303117410256\" class=\"table-striped table-bordered table-condensed\">\n",
       "<thead><tr><th>BACKEND</th><th>BANK</th><th>PORT</th><th>RECEIVER</th><th>FEED</th><th>SRFEED1</th><th>SRFEED2</th><th>RECEPTOR</th><th>LO_CIRCUIT</th><th>LO_COMPONENT</th><th>SIDEBAND</th><th>POLARIZE</th><th>CENTER_IF</th><th>CENTER_SKY</th><th>BANDWDTH</th><th>HIGH_CAL</th><th>TEST_TONE_IF</th><th>TEST_TONE_SKY</th><th>TEST_TONE_CIRCUIT</th><th>TEST_TONE_COMPONENT</th><th>SFF_MULTIPLIER</th><th>SFF_SIDEBAND</th><th>SFF_OFFSET</th><th>TRANSFORM_COUNT</th><th>TRANSFORMS</th></tr></thead>\n",
       "<thead><tr><th>none</th><th>none</th><th>none</th><th>none</th><th>none</th><th>none</th><th>none</th><th>none</th><th>none</th><th>none</th><th>none</th><th>none</th><th>Hz</th><th>Hz</th><th>Hz</th><th>none</th><th>Hz</th><th>Hz</th><th>none</th><th>none</th><th>none</th><th>none</th><th>none</th><th>none</th><th>none</th></tr></thead>\n",
       "<thead><tr><th>str32</th><th>str2</th><th>int32</th><th>str32</th><th>int32</th><th>int32</th><th>int32</th><th>str8</th><th>str32</th><th>str32</th><th>str2</th><th>str2</th><th>float32</th><th>float32</th><th>float32</th><th>int32</th><th>float32</th><th>float32</th><th>str32</th><th>str32</th><th>float64</th><th>float64</th><th>float64</th><th>int32</th><th>str4096</th></tr></thead>\n",
       "<tr><td>DCR</td><td>A</td><td>2</td><td>Rcvr12_18</td><td>1</td><td>1</td><td>2</td><td>L1</td><td>LO1A</td><td>synthesizer</td><td>U</td><td>L</td><td>2752000000.0</td><td>14098000000.0</td><td>3004000000.0</td><td>0</td><td>nan</td><td>nan</td><td></td><td></td><td>1.0</td><td>1.0</td><td>0.0</td><td>12</td><td>feed(Rcvr12_18:L1): 11800 to 15600, left_circular polarization; tone(Rcvr12_18:C1L): 0 x0; filter(Rcvr12_18:FL1L): 11800 to 15600; mixer(Rcvr12_18:MX1L): LO: 11346 (x1) from LO1A:synthesizer, IFo =  IFi - 11346; filter(Rcvr12_18:FL4L): 1250 to 4750; (Rcvr12_18:J5): ; (IFRouter:J10): ; (IFRouter:J66): ; (OpticalDriver2:J1): ; attenuator(OpticalDriver2:attenuator): ; (OpticalDriver2:J4): ; (DCR:J2): ;</td></tr>\n",
       "<tr><td>DCR</td><td>A</td><td>4</td><td>Rcvr12_18</td><td>1</td><td>1</td><td>2</td><td>R1</td><td>LO1A</td><td>synthesizer</td><td>U</td><td>R</td><td>2752000000.0</td><td>14098000000.0</td><td>3004000000.0</td><td>0</td><td>nan</td><td>nan</td><td></td><td></td><td>1.0</td><td>1.0</td><td>0.0</td><td>12</td><td>feed(Rcvr12_18:R1): 11800 to 15600, right_circular polarization; tone(Rcvr12_18:C1R): 0 x0; filter(Rcvr12_18:FL1R): 11800 to 15600; mixer(Rcvr12_18:MX1R): LO: 11346 (x1) from LO1A:synthesizer, IFo =  IFi - 11346; filter(Rcvr12_18:FL4R): 1250 to 4750; (Rcvr12_18:J3): ; (IFRouter:J26): ; (IFRouter:J68): ; (OpticalDriver4:J1): ; attenuator(OpticalDriver4:attenuator): ; (OpticalDriver4:J4): ; (DCR:J4): ;</td></tr>\n",
       "</table>"
      ],
      "text/plain": [
       "<Table length=2>\n",
       "            BACKEND              ...\n",
       "              none               ...\n",
       "             str32               ...\n",
       "-------------------------------- ...\n",
       "DCR                              ...\n",
       "DCR                              ..."
      ]
     },
     "execution_count": 6,
     "metadata": {},
     "output_type": "execute_result"
    }
   ],
   "source": [
    "# Note that we need to strip whitespace here -- our FITS files pad strings to\n",
    "# the full width of their column\n",
    "# After that we can simply create a mask of all rows where the BACKEND column contains \"DCR\"...\n",
    "backend_mask = (np.char.rstrip(if_if_table['BACKEND']) == 'DCR')\n",
    "# ...and use it to create a new view into the table\n",
    "if_if_table = if_if_table[backend_mask]\n",
    "if_if_table"
   ]
  },
  {
   "cell_type": "markdown",
   "metadata": {
    "slideshow": {
     "slide_type": "subslide"
    }
   },
   "source": [
    "Great, so we now have only two rows, one each for our two receptors. Now we trim off the columns that we don't need:"
   ]
  },
  {
   "cell_type": "code",
   "execution_count": 7,
   "metadata": {
    "slideshow": {
     "slide_type": "-"
    }
   },
   "outputs": [
    {
     "data": {
      "text/html": [
       "<i>Table length=2</i>\n",
       "<table id=\"table140303123255080\" class=\"table-striped table-bordered table-condensed\">\n",
       "<thead><tr><th>FEED</th><th>RECEPTOR</th><th>POLARIZE</th><th>CENTER_SKY</th><th>BANDWDTH</th><th>PORT</th><th>HIGH_CAL</th></tr></thead>\n",
       "<thead><tr><th>none</th><th>none</th><th>none</th><th>Hz</th><th>Hz</th><th>none</th><th>none</th></tr></thead>\n",
       "<thead><tr><th>int32</th><th>str8</th><th>str2</th><th>float32</th><th>float32</th><th>int32</th><th>int32</th></tr></thead>\n",
       "<tr><td>1</td><td>L1</td><td>L</td><td>14098000000.0</td><td>3004000000.0</td><td>2</td><td>0</td></tr>\n",
       "<tr><td>1</td><td>R1</td><td>R</td><td>14098000000.0</td><td>3004000000.0</td><td>4</td><td>0</td></tr>\n",
       "</table>"
      ],
      "text/plain": [
       "<Table length=2>\n",
       " FEED RECEPTOR POLARIZE   CENTER_SKY    BANDWDTH    PORT HIGH_CAL\n",
       " none   none     none         Hz           Hz       none   none  \n",
       "int32   str8     str2      float32      float32    int32  int32  \n",
       "----- -------- -------- ------------- ------------ ----- --------\n",
       "    1 L1             L  14098000000.0 3004000000.0     2        0\n",
       "    1 R1             R  14098000000.0 3004000000.0     4        0"
      ]
     },
     "execution_count": 7,
     "metadata": {},
     "output_type": "execute_result"
    }
   ],
   "source": [
    "if_if_table = if_if_table['FEED', 'RECEPTOR', 'POLARIZE', 'CENTER_SKY', 'BANDWDTH', 'PORT', 'HIGH_CAL']\n",
    "if_if_table"
   ]
  },
  {
   "cell_type": "markdown",
   "metadata": {
    "slideshow": {
     "slide_type": "subslide"
    }
   },
   "source": [
    "We have two more `str` columns; let's strip the whitespace from them, too (in a proper program this would be handled more sensibly, of course)"
   ]
  },
  {
   "cell_type": "code",
   "execution_count": 8,
   "metadata": {
    "slideshow": {
     "slide_type": "-"
    }
   },
   "outputs": [],
   "source": [
    "if_if_table['RECEPTOR'] = np.char.rstrip(if_if_table['RECEPTOR'])\n",
    "if_if_table['POLARIZE'] = np.char.rstrip(if_if_table['POLARIZE'])"
   ]
  },
  {
   "cell_type": "markdown",
   "metadata": {},
   "source": [
    "Now we add a `PORT_INDEX` column to make indexing easier later on:"
   ]
  },
  {
   "cell_type": "code",
   "execution_count": 9,
   "metadata": {},
   "outputs": [
    {
     "data": {
      "text/html": [
       "<i>Table length=2</i>\n",
       "<table id=\"table140303123255080\" class=\"table-striped table-bordered table-condensed\">\n",
       "<thead><tr><th>FEED</th><th>RECEPTOR</th><th>POLARIZE</th><th>CENTER_SKY</th><th>BANDWDTH</th><th>PORT_INDEX</th><th>PORT</th><th>HIGH_CAL</th></tr></thead>\n",
       "<thead><tr><th>none</th><th></th><th></th><th>Hz</th><th>Hz</th><th></th><th>none</th><th>none</th></tr></thead>\n",
       "<thead><tr><th>int32</th><th>str8</th><th>str2</th><th>float32</th><th>float32</th><th>int64</th><th>int32</th><th>int32</th></tr></thead>\n",
       "<tr><td>1</td><td>L1</td><td>L</td><td>14098000000.0</td><td>3004000000.0</td><td>0</td><td>2</td><td>0</td></tr>\n",
       "<tr><td>1</td><td>R1</td><td>R</td><td>14098000000.0</td><td>3004000000.0</td><td>1</td><td>4</td><td>0</td></tr>\n",
       "</table>"
      ],
      "text/plain": [
       "<Table length=2>\n",
       " FEED RECEPTOR POLARIZE   CENTER_SKY    BANDWDTH   PORT_INDEX  PORT HIGH_CAL\n",
       " none                         Hz           Hz                  none   none  \n",
       "int32   str8     str2      float32      float32      int64    int32  int32  \n",
       "----- -------- -------- ------------- ------------ ---------- ----- --------\n",
       "    1       L1        L 14098000000.0 3004000000.0          0     2        0\n",
       "    1       R1        R 14098000000.0 3004000000.0          1     4        0"
      ]
     },
     "execution_count": 9,
     "metadata": {},
     "output_type": "execute_result"
    }
   ],
   "source": [
    "if_if_table.add_column(\n",
    "    Column(\n",
    "        name='PORT_INDEX',\n",
    "        data=np.arange(len(np.unique(if_if_table['PORT']))),\n",
    "        \n",
    "    ),\n",
    "    index=if_if_table.columns.keys().index(\"PORT\")\n",
    ")\n",
    "\n",
    "if_if_table"
   ]
  },
  {
   "cell_type": "markdown",
   "metadata": {
    "slideshow": {
     "slide_type": "slide"
    }
   },
   "source": [
    "## Step 3: Joining the Tables"
   ]
  },
  {
   "cell_type": "markdown",
   "metadata": {
    "slideshow": {
     "slide_type": "-"
    }
   },
   "source": [
    "Okay, so we now have all of our tables set up! But for what purpose?\n",
    "\n",
    "We now need to map each physical attribute (beam/port/etc.) to every permutation of phase. This means that, in this simple case, we will end up with `numPols` * `numPhases` (more complicated cases will require more terms). So, we determine that we need to have 8 total rows:"
   ]
  },
  {
   "cell_type": "code",
   "execution_count": 10,
   "metadata": {
    "slideshow": {
     "slide_type": "-"
    }
   },
   "outputs": [
    {
     "name": "stdout",
     "output_type": "stream",
     "text": [
      "2 polarizations...\n",
      "...across 4 phases...\n",
      "...yields 8 total states under which data was taken\n"
     ]
    }
   ],
   "source": [
    "print(\"{} polarizations...\".format(len(if_if_table)))\n",
    "print(\"...across {} phases...\".format(len(dcr_state_table)))\n",
    "print(\"...yields {} total states under which data was taken\".format(len(if_if_table) * len(dcr_state_table)))"
   ]
  },
  {
   "cell_type": "markdown",
   "metadata": {
    "slideshow": {
     "slide_type": "subslide"
    }
   },
   "source": [
    "We can represent these permutations by \"inflating\" our tables using `vstack` so that they are each 8 rows.\n",
    "\n",
    "First the `IF` table:"
   ]
  },
  {
   "cell_type": "code",
   "execution_count": 11,
   "metadata": {
    "slideshow": {
     "slide_type": "-"
    }
   },
   "outputs": [
    {
     "data": {
      "text/html": [
       "<i>Table length=8</i>\n",
       "<table id=\"table140303153736616\" class=\"table-striped table-bordered table-condensed\">\n",
       "<thead><tr><th>FEED</th><th>RECEPTOR</th><th>POLARIZE</th><th>CENTER_SKY</th><th>BANDWDTH</th><th>PORT_INDEX</th><th>PORT</th><th>HIGH_CAL</th></tr></thead>\n",
       "<thead><tr><th>none</th><th></th><th></th><th>Hz</th><th>Hz</th><th></th><th>none</th><th>none</th></tr></thead>\n",
       "<thead><tr><th>int32</th><th>str8</th><th>str2</th><th>float32</th><th>float32</th><th>int64</th><th>int32</th><th>int32</th></tr></thead>\n",
       "<tr><td>1</td><td>L1</td><td>L</td><td>14098000000.0</td><td>3004000000.0</td><td>0</td><td>2</td><td>0</td></tr>\n",
       "<tr><td>1</td><td>L1</td><td>L</td><td>14098000000.0</td><td>3004000000.0</td><td>0</td><td>2</td><td>0</td></tr>\n",
       "<tr><td>1</td><td>L1</td><td>L</td><td>14098000000.0</td><td>3004000000.0</td><td>0</td><td>2</td><td>0</td></tr>\n",
       "<tr><td>1</td><td>L1</td><td>L</td><td>14098000000.0</td><td>3004000000.0</td><td>0</td><td>2</td><td>0</td></tr>\n",
       "<tr><td>1</td><td>R1</td><td>R</td><td>14098000000.0</td><td>3004000000.0</td><td>1</td><td>4</td><td>0</td></tr>\n",
       "<tr><td>1</td><td>R1</td><td>R</td><td>14098000000.0</td><td>3004000000.0</td><td>1</td><td>4</td><td>0</td></tr>\n",
       "<tr><td>1</td><td>R1</td><td>R</td><td>14098000000.0</td><td>3004000000.0</td><td>1</td><td>4</td><td>0</td></tr>\n",
       "<tr><td>1</td><td>R1</td><td>R</td><td>14098000000.0</td><td>3004000000.0</td><td>1</td><td>4</td><td>0</td></tr>\n",
       "</table>"
      ],
      "text/plain": [
       "<Table length=8>\n",
       " FEED RECEPTOR POLARIZE   CENTER_SKY    BANDWDTH   PORT_INDEX  PORT HIGH_CAL\n",
       " none                         Hz           Hz                  none   none  \n",
       "int32   str8     str2      float32      float32      int64    int32  int32  \n",
       "----- -------- -------- ------------- ------------ ---------- ----- --------\n",
       "    1       L1        L 14098000000.0 3004000000.0          0     2        0\n",
       "    1       L1        L 14098000000.0 3004000000.0          0     2        0\n",
       "    1       L1        L 14098000000.0 3004000000.0          0     2        0\n",
       "    1       L1        L 14098000000.0 3004000000.0          0     2        0\n",
       "    1       R1        R 14098000000.0 3004000000.0          1     4        0\n",
       "    1       R1        R 14098000000.0 3004000000.0          1     4        0\n",
       "    1       R1        R 14098000000.0 3004000000.0          1     4        0\n",
       "    1       R1        R 14098000000.0 3004000000.0          1     4        0"
      ]
     },
     "execution_count": 11,
     "metadata": {},
     "output_type": "execute_result"
    }
   ],
   "source": [
    "from astropy.table import vstack\n",
    "\n",
    "# Stack the IF table on top of itself 4 times to yield 8 total rows\n",
    "stacked_if_table = vstack([if_if_table] * len(dcr_state_table))\n",
    "# We must sort here so that we can properly join with the state table later -- we need one port on top of the other,\n",
    "# not mixed together!\n",
    "stacked_if_table.sort('PORT')\n",
    "stacked_if_table"
   ]
  },
  {
   "cell_type": "markdown",
   "metadata": {},
   "source": [
    "And now the `STATE` table:"
   ]
  },
  {
   "cell_type": "code",
   "execution_count": 12,
   "metadata": {
    "slideshow": {
     "slide_type": "subslide"
    }
   },
   "outputs": [
    {
     "data": {
      "text/html": [
       "<i>Table length=8</i>\n",
       "<table id=\"table140304308474824\" class=\"table-striped table-bordered table-condensed\">\n",
       "<thead><tr><th>SIGREF</th><th>CAL</th><th>PHASE_INDEX</th><th>PHASE</th></tr></thead>\n",
       "<thead><tr><th>uint8</th><th>uint8</th><th>int64</th><th>str18</th></tr></thead>\n",
       "<tr><td>0</td><td>0</td><td>0</td><td>Signal / No Cal</td></tr>\n",
       "<tr><td>0</td><td>1</td><td>1</td><td>Signal / Cal</td></tr>\n",
       "<tr><td>1</td><td>0</td><td>2</td><td>Reference / No Cal</td></tr>\n",
       "<tr><td>1</td><td>1</td><td>3</td><td>Reference / Cal</td></tr>\n",
       "<tr><td>0</td><td>0</td><td>0</td><td>Signal / No Cal</td></tr>\n",
       "<tr><td>0</td><td>1</td><td>1</td><td>Signal / Cal</td></tr>\n",
       "<tr><td>1</td><td>0</td><td>2</td><td>Reference / No Cal</td></tr>\n",
       "<tr><td>1</td><td>1</td><td>3</td><td>Reference / Cal</td></tr>\n",
       "</table>"
      ],
      "text/plain": [
       "<Table length=8>\n",
       "SIGREF  CAL  PHASE_INDEX       PHASE       \n",
       "uint8  uint8    int64          str18       \n",
       "------ ----- ----------- ------------------\n",
       "     0     0           0    Signal / No Cal\n",
       "     0     1           1       Signal / Cal\n",
       "     1     0           2 Reference / No Cal\n",
       "     1     1           3    Reference / Cal\n",
       "     0     0           0    Signal / No Cal\n",
       "     0     1           1       Signal / Cal\n",
       "     1     0           2 Reference / No Cal\n",
       "     1     1           3    Reference / Cal"
      ]
     },
     "execution_count": 12,
     "metadata": {},
     "output_type": "execute_result"
    }
   ],
   "source": [
    "# Stack STATE table on top of itself 2 times to reach 8 total rows\n",
    "stacked_state_table = vstack([dcr_state_table] * len(if_if_table))\n",
    "stacked_state_table"
   ]
  },
  {
   "cell_type": "markdown",
   "metadata": {
    "slideshow": {
     "slide_type": "subslide"
    }
   },
   "source": [
    "Great, now we have two tables of compatible shapes! We just need to stick them together:"
   ]
  },
  {
   "cell_type": "code",
   "execution_count": 13,
   "metadata": {
    "slideshow": {
     "slide_type": "-"
    }
   },
   "outputs": [
    {
     "data": {
      "text/html": [
       "<i>Table length=8</i>\n",
       "<table id=\"table140303123213000\" class=\"table-striped table-bordered table-condensed\">\n",
       "<thead><tr><th>FEED</th><th>RECEPTOR</th><th>POLARIZE</th><th>CENTER_SKY</th><th>BANDWDTH</th><th>PORT_INDEX</th><th>PORT</th><th>HIGH_CAL</th><th>SIGREF</th><th>CAL</th><th>PHASE_INDEX</th><th>PHASE</th></tr></thead>\n",
       "<thead><tr><th>none</th><th></th><th></th><th>Hz</th><th>Hz</th><th></th><th>none</th><th>none</th><th></th><th></th><th></th><th></th></tr></thead>\n",
       "<thead><tr><th>int32</th><th>str8</th><th>str2</th><th>float32</th><th>float32</th><th>int64</th><th>int32</th><th>int32</th><th>uint8</th><th>uint8</th><th>int64</th><th>str18</th></tr></thead>\n",
       "<tr><td>1</td><td>L1</td><td>L</td><td>14098000000.0</td><td>3004000000.0</td><td>0</td><td>2</td><td>0</td><td>0</td><td>0</td><td>0</td><td>Signal / No Cal</td></tr>\n",
       "<tr><td>1</td><td>L1</td><td>L</td><td>14098000000.0</td><td>3004000000.0</td><td>0</td><td>2</td><td>0</td><td>0</td><td>1</td><td>1</td><td>Signal / Cal</td></tr>\n",
       "<tr><td>1</td><td>L1</td><td>L</td><td>14098000000.0</td><td>3004000000.0</td><td>0</td><td>2</td><td>0</td><td>1</td><td>0</td><td>2</td><td>Reference / No Cal</td></tr>\n",
       "<tr><td>1</td><td>L1</td><td>L</td><td>14098000000.0</td><td>3004000000.0</td><td>0</td><td>2</td><td>0</td><td>1</td><td>1</td><td>3</td><td>Reference / Cal</td></tr>\n",
       "<tr><td>1</td><td>R1</td><td>R</td><td>14098000000.0</td><td>3004000000.0</td><td>1</td><td>4</td><td>0</td><td>0</td><td>0</td><td>0</td><td>Signal / No Cal</td></tr>\n",
       "<tr><td>1</td><td>R1</td><td>R</td><td>14098000000.0</td><td>3004000000.0</td><td>1</td><td>4</td><td>0</td><td>0</td><td>1</td><td>1</td><td>Signal / Cal</td></tr>\n",
       "<tr><td>1</td><td>R1</td><td>R</td><td>14098000000.0</td><td>3004000000.0</td><td>1</td><td>4</td><td>0</td><td>1</td><td>0</td><td>2</td><td>Reference / No Cal</td></tr>\n",
       "<tr><td>1</td><td>R1</td><td>R</td><td>14098000000.0</td><td>3004000000.0</td><td>1</td><td>4</td><td>0</td><td>1</td><td>1</td><td>3</td><td>Reference / Cal</td></tr>\n",
       "</table>"
      ],
      "text/plain": [
       "<Table length=8>\n",
       " FEED RECEPTOR POLARIZE   CENTER_SKY  ...  CAL  PHASE_INDEX       PHASE       \n",
       " none                         Hz      ...                                     \n",
       "int32   str8     str2      float32    ... uint8    int64          str18       \n",
       "----- -------- -------- ------------- ... ----- ----------- ------------------\n",
       "    1       L1        L 14098000000.0 ...     0           0    Signal / No Cal\n",
       "    1       L1        L 14098000000.0 ...     1           1       Signal / Cal\n",
       "    1       L1        L 14098000000.0 ...     0           2 Reference / No Cal\n",
       "    1       L1        L 14098000000.0 ...     1           3    Reference / Cal\n",
       "    1       R1        R 14098000000.0 ...     0           0    Signal / No Cal\n",
       "    1       R1        R 14098000000.0 ...     1           1       Signal / Cal\n",
       "    1       R1        R 14098000000.0 ...     0           2 Reference / No Cal\n",
       "    1       R1        R 14098000000.0 ...     1           3    Reference / Cal"
      ]
     },
     "execution_count": 13,
     "metadata": {},
     "output_type": "execute_result"
    }
   ],
   "source": [
    "# Ignore the warnings here; don't care in this simple example\n",
    "import warnings\n",
    "from astropy.utils.exceptions import AstropyWarning\n",
    "warnings.simplefilter('ignore', AstropyWarning)\n",
    "\n",
    "from astropy.table import hstack\n",
    "\n",
    "# Join the tables together horizontally\n",
    "dcr_table = hstack([stacked_if_table, stacked_state_table])\n",
    "dcr_table"
   ]
  },
  {
   "cell_type": "markdown",
   "metadata": {
    "slideshow": {
     "slide_type": "slide"
    }
   },
   "source": [
    "## Data Selection"
   ]
  },
  {
   "cell_type": "markdown",
   "metadata": {
    "slideshow": {
     "slide_type": "-"
    }
   },
   "source": [
    "Now, let's take a quick detour to discuss how the data selection is going to work. `DCR.DATA.DATA` is time-domain data (i.e. per-integration) of the shape `(integration, port, phase)`:"
   ]
  },
  {
   "cell_type": "code",
   "execution_count": 14,
   "metadata": {
    "slideshow": {
     "slide_type": "-"
    }
   },
   "outputs": [
    {
     "name": "stdout",
     "output_type": "stream",
     "text": [
      "Shape: (149, 2, 4)\n",
      "i.e. 149 integrations, each with data from 2 ports, each with data taken across 4 phases\n"
     ]
    }
   ],
   "source": [
    "print(\"Shape: {}\".format(dcr_data_table['DATA'].shape))\n",
    "print(\"i.e. {} integrations, each with data from {} ports, each with data taken across {} phases\".format(*dcr_data_table['DATA'].shape))"
   ]
  },
  {
   "cell_type": "markdown",
   "metadata": {
    "slideshow": {
     "slide_type": "subslide"
    }
   },
   "source": [
    "We need to slice this out into the physical domain (i.e. per-data-stream) -- that is, get all of the data from all integrations that was taken for each unique set of physical attributes (port and phase). Let's take the first port (2) and the first phase (0, 0) as an example:"
   ]
  },
  {
   "cell_type": "code",
   "execution_count": 15,
   "metadata": {
    "slideshow": {
     "slide_type": "-"
    }
   },
   "outputs": [
    {
     "data": {
      "text/plain": [
       "array([[188315, 206737, 188401, 208401],\n",
       "       [175363, 188055, 199285, 211099]], dtype=int32)"
      ]
     },
     "execution_count": 15,
     "metadata": {},
     "output_type": "execute_result"
    }
   ],
   "source": [
    "data = dcr_data_table['DATA']\n",
    "# All data taken in the first integration\n",
    "data[0]"
   ]
  },
  {
   "cell_type": "code",
   "execution_count": 16,
   "metadata": {
    "slideshow": {
     "slide_type": "fragment"
    }
   },
   "outputs": [
    {
     "data": {
      "text/plain": [
       "array([188315, 206737, 188401, 208401], dtype=int32)"
      ]
     },
     "execution_count": 16,
     "metadata": {},
     "output_type": "execute_result"
    }
   ],
   "source": [
    "# All data taken via the first port in the first integration\n",
    "data[0][0]"
   ]
  },
  {
   "cell_type": "code",
   "execution_count": 17,
   "metadata": {
    "slideshow": {
     "slide_type": "fragment"
    }
   },
   "outputs": [
    {
     "data": {
      "text/plain": [
       "188315"
      ]
     },
     "execution_count": 17,
     "metadata": {},
     "output_type": "execute_result"
    }
   ],
   "source": [
    "# Phase \"Signal / No Cal\" datum taken via the first port in the first integration\n",
    "data[0][0][0]"
   ]
  },
  {
   "cell_type": "markdown",
   "metadata": {
    "slideshow": {
     "slide_type": "subslide"
    }
   },
   "source": [
    "#### NumPy Data Selection\n",
    "\n",
    "But, how do we select data from this port/phase over _all_ integrations?"
   ]
  },
  {
   "cell_type": "code",
   "execution_count": 18,
   "metadata": {
    "scrolled": true,
    "slideshow": {
     "slide_type": "fragment"
    }
   },
   "outputs": [
    {
     "data": {
      "text/html": [
       "&lt;Column name=&apos;DATA&apos; dtype=&apos;int32&apos; shape=(4,) unit=&apos;COUNTS&apos; length=149&gt;\n",
       "<table>\n",
       "<tr><td>188315 .. 208401</td></tr>\n",
       "<tr><td>188380 .. 206708</td></tr>\n",
       "<tr><td>188290 .. 203304</td></tr>\n",
       "<tr><td>188440 .. 199489</td></tr>\n",
       "<tr><td>188634 .. 197584</td></tr>\n",
       "<tr><td>188737 .. 193076</td></tr>\n",
       "<tr><td>188785 .. 190518</td></tr>\n",
       "<tr><td>188706 .. 189781</td></tr>\n",
       "<tr><td>188497 .. 189557</td></tr>\n",
       "<tr><td>188516 .. 189640</td></tr>\n",
       "<tr><td>188416 .. 189543</td></tr>\n",
       "<tr><td>188509 .. 189536</td></tr>\n",
       "<tr><td>...</td></tr>\n",
       "<tr><td>186905 .. 187411</td></tr>\n",
       "<tr><td>186874 .. 187410</td></tr>\n",
       "<tr><td>186929 .. 187395</td></tr>\n",
       "<tr><td>187060 .. 187396</td></tr>\n",
       "<tr><td>186974 .. 187359</td></tr>\n",
       "<tr><td>187040 .. 187448</td></tr>\n",
       "<tr><td>187239 .. 187491</td></tr>\n",
       "<tr><td>187126 .. 187595</td></tr>\n",
       "<tr><td>187228 .. 187621</td></tr>\n",
       "<tr><td>187178 .. 187386</td></tr>\n",
       "<tr><td>187008 .. 187516</td></tr>\n",
       "<tr><td>186796 .. 187340</td></tr>\n",
       "</table>"
      ],
      "text/plain": [
       "<Column name='DATA' dtype='int32' shape=(4,) unit='COUNTS' length=149>\n",
       "188315 .. 208401\n",
       "188380 .. 206708\n",
       "188290 .. 203304\n",
       "188440 .. 199489\n",
       "188634 .. 197584\n",
       "188737 .. 193076\n",
       "188785 .. 190518\n",
       "188706 .. 189781\n",
       "188497 .. 189557\n",
       "188516 .. 189640\n",
       "188416 .. 189543\n",
       "188509 .. 189536\n",
       "             ...\n",
       "186905 .. 187411\n",
       "186874 .. 187410\n",
       "186929 .. 187395\n",
       "187060 .. 187396\n",
       "186974 .. 187359\n",
       "187040 .. 187448\n",
       "187239 .. 187491\n",
       "187126 .. 187595\n",
       "187228 .. 187621\n",
       "187178 .. 187386\n",
       "187008 .. 187516\n",
       "186796 .. 187340"
      ]
     },
     "execution_count": 18,
     "metadata": {},
     "output_type": "execute_result"
    }
   ],
   "source": [
    "# All data taken via the first port\n",
    "data[:, 0]"
   ]
  },
  {
   "cell_type": "code",
   "execution_count": 19,
   "metadata": {
    "scrolled": true,
    "slideshow": {
     "slide_type": "fragment"
    }
   },
   "outputs": [
    {
     "data": {
      "text/html": [
       "&lt;Column name=&apos;DATA&apos; dtype=&apos;int32&apos; unit=&apos;COUNTS&apos; length=149&gt;\n",
       "<table>\n",
       "<tr><td>188315</td></tr>\n",
       "<tr><td>188380</td></tr>\n",
       "<tr><td>188290</td></tr>\n",
       "<tr><td>188440</td></tr>\n",
       "<tr><td>188634</td></tr>\n",
       "<tr><td>188737</td></tr>\n",
       "<tr><td>188785</td></tr>\n",
       "<tr><td>188706</td></tr>\n",
       "<tr><td>188497</td></tr>\n",
       "<tr><td>188516</td></tr>\n",
       "<tr><td>188416</td></tr>\n",
       "<tr><td>188509</td></tr>\n",
       "<tr><td>...</td></tr>\n",
       "<tr><td>186905</td></tr>\n",
       "<tr><td>186874</td></tr>\n",
       "<tr><td>186929</td></tr>\n",
       "<tr><td>187060</td></tr>\n",
       "<tr><td>186974</td></tr>\n",
       "<tr><td>187040</td></tr>\n",
       "<tr><td>187239</td></tr>\n",
       "<tr><td>187126</td></tr>\n",
       "<tr><td>187228</td></tr>\n",
       "<tr><td>187178</td></tr>\n",
       "<tr><td>187008</td></tr>\n",
       "<tr><td>186796</td></tr>\n",
       "</table>"
      ],
      "text/plain": [
       "<Column name='DATA' dtype='int32' unit='COUNTS' length=149>\n",
       "188315\n",
       "188380\n",
       "188290\n",
       "188440\n",
       "188634\n",
       "188737\n",
       "188785\n",
       "188706\n",
       "188497\n",
       "188516\n",
       "188416\n",
       "188509\n",
       "   ...\n",
       "186905\n",
       "186874\n",
       "186929\n",
       "187060\n",
       "186974\n",
       "187040\n",
       "187239\n",
       "187126\n",
       "187228\n",
       "187178\n",
       "187008\n",
       "186796"
      ]
     },
     "execution_count": 19,
     "metadata": {},
     "output_type": "execute_result"
    }
   ],
   "source": [
    "# All data with phase phase \"Signal / No Cal\" taken via the first port\n",
    "data[:, 0, 0]"
   ]
  },
  {
   "cell_type": "markdown",
   "metadata": {
    "slideshow": {
     "slide_type": "slide"
    }
   },
   "source": [
    "## Step 4: Map the Data"
   ]
  },
  {
   "cell_type": "markdown",
   "metadata": {
    "slideshow": {
     "slide_type": "-"
    }
   },
   "source": [
    "Add an empty DATA column as a placeholder:"
   ]
  },
  {
   "cell_type": "code",
   "execution_count": 20,
   "metadata": {
    "slideshow": {
     "slide_type": "-"
    }
   },
   "outputs": [
    {
     "data": {
      "text/html": [
       "<i>Table length=8</i>\n",
       "<table id=\"table140303123213000\" class=\"table-striped table-bordered table-condensed\">\n",
       "<thead><tr><th>FEED</th><th>RECEPTOR</th><th>POLARIZE</th><th>CENTER_SKY</th><th>BANDWDTH</th><th>PORT_INDEX</th><th>PORT</th><th>HIGH_CAL</th><th>SIGREF</th><th>CAL</th><th>PHASE_INDEX</th><th>PHASE</th><th>DATA [149]</th></tr></thead>\n",
       "<thead><tr><th>none</th><th></th><th></th><th>Hz</th><th>Hz</th><th></th><th>none</th><th>none</th><th></th><th></th><th></th><th></th><th></th></tr></thead>\n",
       "<thead><tr><th>int32</th><th>str8</th><th>str2</th><th>float32</th><th>float32</th><th>int64</th><th>int32</th><th>int32</th><th>uint8</th><th>uint8</th><th>int64</th><th>str18</th><th>int32</th></tr></thead>\n",
       "<tr><td>1</td><td>L1</td><td>L</td><td>14098000000.0</td><td>3004000000.0</td><td>0</td><td>2</td><td>0</td><td>0</td><td>0</td><td>0</td><td>Signal / No Cal</td><td>0 .. 0</td></tr>\n",
       "<tr><td>1</td><td>L1</td><td>L</td><td>14098000000.0</td><td>3004000000.0</td><td>0</td><td>2</td><td>0</td><td>0</td><td>1</td><td>1</td><td>Signal / Cal</td><td>0 .. 0</td></tr>\n",
       "<tr><td>1</td><td>L1</td><td>L</td><td>14098000000.0</td><td>3004000000.0</td><td>0</td><td>2</td><td>0</td><td>1</td><td>0</td><td>2</td><td>Reference / No Cal</td><td>0 .. 0</td></tr>\n",
       "<tr><td>1</td><td>L1</td><td>L</td><td>14098000000.0</td><td>3004000000.0</td><td>0</td><td>2</td><td>0</td><td>1</td><td>1</td><td>3</td><td>Reference / Cal</td><td>0 .. 0</td></tr>\n",
       "<tr><td>1</td><td>R1</td><td>R</td><td>14098000000.0</td><td>3004000000.0</td><td>1</td><td>4</td><td>0</td><td>0</td><td>0</td><td>0</td><td>Signal / No Cal</td><td>0 .. 0</td></tr>\n",
       "<tr><td>1</td><td>R1</td><td>R</td><td>14098000000.0</td><td>3004000000.0</td><td>1</td><td>4</td><td>0</td><td>0</td><td>1</td><td>1</td><td>Signal / Cal</td><td>0 .. 0</td></tr>\n",
       "<tr><td>1</td><td>R1</td><td>R</td><td>14098000000.0</td><td>3004000000.0</td><td>1</td><td>4</td><td>0</td><td>1</td><td>0</td><td>2</td><td>Reference / No Cal</td><td>0 .. 0</td></tr>\n",
       "<tr><td>1</td><td>R1</td><td>R</td><td>14098000000.0</td><td>3004000000.0</td><td>1</td><td>4</td><td>0</td><td>1</td><td>1</td><td>3</td><td>Reference / Cal</td><td>0 .. 0</td></tr>\n",
       "</table>"
      ],
      "text/plain": [
       "<Table length=8>\n",
       " FEED RECEPTOR POLARIZE ... PHASE_INDEX       PHASE        DATA [149]\n",
       " none                   ...                                          \n",
       "int32   str8     str2   ...    int64          str18          int32   \n",
       "----- -------- -------- ... ----------- ------------------ ----------\n",
       "    1       L1        L ...           0    Signal / No Cal     0 .. 0\n",
       "    1       L1        L ...           1       Signal / Cal     0 .. 0\n",
       "    1       L1        L ...           2 Reference / No Cal     0 .. 0\n",
       "    1       L1        L ...           3    Reference / Cal     0 .. 0\n",
       "    1       R1        R ...           0    Signal / No Cal     0 .. 0\n",
       "    1       R1        R ...           1       Signal / Cal     0 .. 0\n",
       "    1       R1        R ...           2 Reference / No Cal     0 .. 0\n",
       "    1       R1        R ...           3    Reference / Cal     0 .. 0"
      ]
     },
     "execution_count": 20,
     "metadata": {},
     "output_type": "execute_result"
    }
   ],
   "source": [
    "dcr_table.add_column(\n",
    "    Column(\n",
    "        name='DATA',\n",
    "        dtype=dcr_data_table['DATA'].dtype,\n",
    "        shape=dcr_data_table['DATA'].shape[0],\n",
    "        length=len(dcr_table)\n",
    "    )\n",
    ")\n",
    "dcr_table"
   ]
  },
  {
   "cell_type": "markdown",
   "metadata": {
    "slideshow": {
     "slide_type": "subslide"
    }
   },
   "source": [
    "Now, perform the actual selection of the data:"
   ]
  },
  {
   "cell_type": "code",
   "execution_count": 21,
   "metadata": {
    "slideshow": {
     "slide_type": "-"
    }
   },
   "outputs": [
    {
     "data": {
      "text/html": [
       "<i>Table length=8</i>\n",
       "<table id=\"table140303123213000\" class=\"table-striped table-bordered table-condensed\">\n",
       "<thead><tr><th>FEED</th><th>RECEPTOR</th><th>POLARIZE</th><th>CENTER_SKY</th><th>BANDWDTH</th><th>PORT_INDEX</th><th>PORT</th><th>HIGH_CAL</th><th>SIGREF</th><th>CAL</th><th>PHASE_INDEX</th><th>PHASE</th><th>DATA [149]</th></tr></thead>\n",
       "<thead><tr><th>none</th><th></th><th></th><th>Hz</th><th>Hz</th><th></th><th>none</th><th>none</th><th></th><th></th><th></th><th></th><th></th></tr></thead>\n",
       "<thead><tr><th>int32</th><th>str8</th><th>str2</th><th>float32</th><th>float32</th><th>int64</th><th>int32</th><th>int32</th><th>uint8</th><th>uint8</th><th>int64</th><th>str18</th><th>int32</th></tr></thead>\n",
       "<tr><td>1</td><td>L1</td><td>L</td><td>14098000000.0</td><td>3004000000.0</td><td>0</td><td>2</td><td>0</td><td>0</td><td>0</td><td>0</td><td>Signal / No Cal</td><td>188315 .. 186796</td></tr>\n",
       "<tr><td>1</td><td>L1</td><td>L</td><td>14098000000.0</td><td>3004000000.0</td><td>0</td><td>2</td><td>0</td><td>0</td><td>1</td><td>1</td><td>Signal / Cal</td><td>206737 .. 205060</td></tr>\n",
       "<tr><td>1</td><td>L1</td><td>L</td><td>14098000000.0</td><td>3004000000.0</td><td>0</td><td>2</td><td>0</td><td>1</td><td>0</td><td>2</td><td>Reference / No Cal</td><td>188401 .. 167530</td></tr>\n",
       "<tr><td>1</td><td>L1</td><td>L</td><td>14098000000.0</td><td>3004000000.0</td><td>0</td><td>2</td><td>0</td><td>1</td><td>1</td><td>3</td><td>Reference / Cal</td><td>208401 .. 187340</td></tr>\n",
       "<tr><td>1</td><td>R1</td><td>R</td><td>14098000000.0</td><td>3004000000.0</td><td>1</td><td>4</td><td>0</td><td>0</td><td>0</td><td>0</td><td>Signal / No Cal</td><td>175363 .. 174353</td></tr>\n",
       "<tr><td>1</td><td>R1</td><td>R</td><td>14098000000.0</td><td>3004000000.0</td><td>1</td><td>4</td><td>0</td><td>0</td><td>1</td><td>1</td><td>Signal / Cal</td><td>188055 .. 186965</td></tr>\n",
       "<tr><td>1</td><td>R1</td><td>R</td><td>14098000000.0</td><td>3004000000.0</td><td>1</td><td>4</td><td>0</td><td>1</td><td>0</td><td>2</td><td>Reference / No Cal</td><td>199285 .. 180831</td></tr>\n",
       "<tr><td>1</td><td>R1</td><td>R</td><td>14098000000.0</td><td>3004000000.0</td><td>1</td><td>4</td><td>0</td><td>1</td><td>1</td><td>3</td><td>Reference / Cal</td><td>211099 .. 192353</td></tr>\n",
       "</table>"
      ],
      "text/plain": [
       "<Table length=8>\n",
       " FEED RECEPTOR POLARIZE ... PHASE_INDEX       PHASE           DATA [149]   \n",
       " none                   ...                                                \n",
       "int32   str8     str2   ...    int64          str18             int32      \n",
       "----- -------- -------- ... ----------- ------------------ ----------------\n",
       "    1       L1        L ...           0    Signal / No Cal 188315 .. 186796\n",
       "    1       L1        L ...           1       Signal / Cal 206737 .. 205060\n",
       "    1       L1        L ...           2 Reference / No Cal 188401 .. 167530\n",
       "    1       L1        L ...           3    Reference / Cal 208401 .. 187340\n",
       "    1       R1        R ...           0    Signal / No Cal 175363 .. 174353\n",
       "    1       R1        R ...           1       Signal / Cal 188055 .. 186965\n",
       "    1       R1        R ...           2 Reference / No Cal 199285 .. 180831\n",
       "    1       R1        R ...           3    Reference / Cal 211099 .. 192353"
      ]
     },
     "execution_count": 21,
     "metadata": {},
     "output_type": "execute_result"
    }
   ],
   "source": [
    "# For every row in our table...\n",
    "for ri, row in enumerate(dcr_table):\n",
    "    # ...Slice out the data from the DCR DATA table associated with the current phase and port,\n",
    "    # and put it in the the DATA column of our new table\n",
    "    dcr_table['DATA'][ri] = dcr_data_table['DATA'][::, row['PORT_INDEX'], row['PHASE_INDEX']]\n",
    "    \n",
    "dcr_table"
   ]
  },
  {
   "cell_type": "markdown",
   "metadata": {
    "slideshow": {
     "slide_type": "slide"
    }
   },
   "source": [
    "Okay... but what can we *do* with this?\n",
    "\n",
    "Let's try out something similar to what you might do in GFM: plot the \"Signal / No Cal\" phase for both polarizations"
   ]
  },
  {
   "cell_type": "code",
   "execution_count": 22,
   "metadata": {
    "slideshow": {
     "slide_type": "slide"
    }
   },
   "outputs": [
    {
     "data": {
      "application/javascript": [
       "/* Put everything inside the global mpl namespace */\n",
       "window.mpl = {};\n",
       "\n",
       "\n",
       "mpl.get_websocket_type = function() {\n",
       "    if (typeof(WebSocket) !== 'undefined') {\n",
       "        return WebSocket;\n",
       "    } else if (typeof(MozWebSocket) !== 'undefined') {\n",
       "        return MozWebSocket;\n",
       "    } else {\n",
       "        alert('Your browser does not have WebSocket support.' +\n",
       "              'Please try Chrome, Safari or Firefox ≥ 6. ' +\n",
       "              'Firefox 4 and 5 are also supported but you ' +\n",
       "              'have to enable WebSockets in about:config.');\n",
       "    };\n",
       "}\n",
       "\n",
       "mpl.figure = function(figure_id, websocket, ondownload, parent_element) {\n",
       "    this.id = figure_id;\n",
       "\n",
       "    this.ws = websocket;\n",
       "\n",
       "    this.supports_binary = (this.ws.binaryType != undefined);\n",
       "\n",
       "    if (!this.supports_binary) {\n",
       "        var warnings = document.getElementById(\"mpl-warnings\");\n",
       "        if (warnings) {\n",
       "            warnings.style.display = 'block';\n",
       "            warnings.textContent = (\n",
       "                \"This browser does not support binary websocket messages. \" +\n",
       "                    \"Performance may be slow.\");\n",
       "        }\n",
       "    }\n",
       "\n",
       "    this.imageObj = new Image();\n",
       "\n",
       "    this.context = undefined;\n",
       "    this.message = undefined;\n",
       "    this.canvas = undefined;\n",
       "    this.rubberband_canvas = undefined;\n",
       "    this.rubberband_context = undefined;\n",
       "    this.format_dropdown = undefined;\n",
       "\n",
       "    this.image_mode = 'full';\n",
       "\n",
       "    this.root = $('<div/>');\n",
       "    this._root_extra_style(this.root)\n",
       "    this.root.attr('style', 'display: inline-block');\n",
       "\n",
       "    $(parent_element).append(this.root);\n",
       "\n",
       "    this._init_header(this);\n",
       "    this._init_canvas(this);\n",
       "    this._init_toolbar(this);\n",
       "\n",
       "    var fig = this;\n",
       "\n",
       "    this.waiting = false;\n",
       "\n",
       "    this.ws.onopen =  function () {\n",
       "            fig.send_message(\"supports_binary\", {value: fig.supports_binary});\n",
       "            fig.send_message(\"send_image_mode\", {});\n",
       "            if (mpl.ratio != 1) {\n",
       "                fig.send_message(\"set_dpi_ratio\", {'dpi_ratio': mpl.ratio});\n",
       "            }\n",
       "            fig.send_message(\"refresh\", {});\n",
       "        }\n",
       "\n",
       "    this.imageObj.onload = function() {\n",
       "            if (fig.image_mode == 'full') {\n",
       "                // Full images could contain transparency (where diff images\n",
       "                // almost always do), so we need to clear the canvas so that\n",
       "                // there is no ghosting.\n",
       "                fig.context.clearRect(0, 0, fig.canvas.width, fig.canvas.height);\n",
       "            }\n",
       "            fig.context.drawImage(fig.imageObj, 0, 0);\n",
       "        };\n",
       "\n",
       "    this.imageObj.onunload = function() {\n",
       "        fig.ws.close();\n",
       "    }\n",
       "\n",
       "    this.ws.onmessage = this._make_on_message_function(this);\n",
       "\n",
       "    this.ondownload = ondownload;\n",
       "}\n",
       "\n",
       "mpl.figure.prototype._init_header = function() {\n",
       "    var titlebar = $(\n",
       "        '<div class=\"ui-dialog-titlebar ui-widget-header ui-corner-all ' +\n",
       "        'ui-helper-clearfix\"/>');\n",
       "    var titletext = $(\n",
       "        '<div class=\"ui-dialog-title\" style=\"width: 100%; ' +\n",
       "        'text-align: center; padding: 3px;\"/>');\n",
       "    titlebar.append(titletext)\n",
       "    this.root.append(titlebar);\n",
       "    this.header = titletext[0];\n",
       "}\n",
       "\n",
       "\n",
       "\n",
       "mpl.figure.prototype._canvas_extra_style = function(canvas_div) {\n",
       "\n",
       "}\n",
       "\n",
       "\n",
       "mpl.figure.prototype._root_extra_style = function(canvas_div) {\n",
       "\n",
       "}\n",
       "\n",
       "mpl.figure.prototype._init_canvas = function() {\n",
       "    var fig = this;\n",
       "\n",
       "    var canvas_div = $('<div/>');\n",
       "\n",
       "    canvas_div.attr('style', 'position: relative; clear: both; outline: 0');\n",
       "\n",
       "    function canvas_keyboard_event(event) {\n",
       "        return fig.key_event(event, event['data']);\n",
       "    }\n",
       "\n",
       "    canvas_div.keydown('key_press', canvas_keyboard_event);\n",
       "    canvas_div.keyup('key_release', canvas_keyboard_event);\n",
       "    this.canvas_div = canvas_div\n",
       "    this._canvas_extra_style(canvas_div)\n",
       "    this.root.append(canvas_div);\n",
       "\n",
       "    var canvas = $('<canvas/>');\n",
       "    canvas.addClass('mpl-canvas');\n",
       "    canvas.attr('style', \"left: 0; top: 0; z-index: 0; outline: 0\")\n",
       "\n",
       "    this.canvas = canvas[0];\n",
       "    this.context = canvas[0].getContext(\"2d\");\n",
       "\n",
       "    var backingStore = this.context.backingStorePixelRatio ||\n",
       "\tthis.context.webkitBackingStorePixelRatio ||\n",
       "\tthis.context.mozBackingStorePixelRatio ||\n",
       "\tthis.context.msBackingStorePixelRatio ||\n",
       "\tthis.context.oBackingStorePixelRatio ||\n",
       "\tthis.context.backingStorePixelRatio || 1;\n",
       "\n",
       "    mpl.ratio = (window.devicePixelRatio || 1) / backingStore;\n",
       "\n",
       "    var rubberband = $('<canvas/>');\n",
       "    rubberband.attr('style', \"position: absolute; left: 0; top: 0; z-index: 1;\")\n",
       "\n",
       "    var pass_mouse_events = true;\n",
       "\n",
       "    canvas_div.resizable({\n",
       "        start: function(event, ui) {\n",
       "            pass_mouse_events = false;\n",
       "        },\n",
       "        resize: function(event, ui) {\n",
       "            fig.request_resize(ui.size.width, ui.size.height);\n",
       "        },\n",
       "        stop: function(event, ui) {\n",
       "            pass_mouse_events = true;\n",
       "            fig.request_resize(ui.size.width, ui.size.height);\n",
       "        },\n",
       "    });\n",
       "\n",
       "    function mouse_event_fn(event) {\n",
       "        if (pass_mouse_events)\n",
       "            return fig.mouse_event(event, event['data']);\n",
       "    }\n",
       "\n",
       "    rubberband.mousedown('button_press', mouse_event_fn);\n",
       "    rubberband.mouseup('button_release', mouse_event_fn);\n",
       "    // Throttle sequential mouse events to 1 every 20ms.\n",
       "    rubberband.mousemove('motion_notify', mouse_event_fn);\n",
       "\n",
       "    rubberband.mouseenter('figure_enter', mouse_event_fn);\n",
       "    rubberband.mouseleave('figure_leave', mouse_event_fn);\n",
       "\n",
       "    canvas_div.on(\"wheel\", function (event) {\n",
       "        event = event.originalEvent;\n",
       "        event['data'] = 'scroll'\n",
       "        if (event.deltaY < 0) {\n",
       "            event.step = 1;\n",
       "        } else {\n",
       "            event.step = -1;\n",
       "        }\n",
       "        mouse_event_fn(event);\n",
       "    });\n",
       "\n",
       "    canvas_div.append(canvas);\n",
       "    canvas_div.append(rubberband);\n",
       "\n",
       "    this.rubberband = rubberband;\n",
       "    this.rubberband_canvas = rubberband[0];\n",
       "    this.rubberband_context = rubberband[0].getContext(\"2d\");\n",
       "    this.rubberband_context.strokeStyle = \"#000000\";\n",
       "\n",
       "    this._resize_canvas = function(width, height) {\n",
       "        // Keep the size of the canvas, canvas container, and rubber band\n",
       "        // canvas in synch.\n",
       "        canvas_div.css('width', width)\n",
       "        canvas_div.css('height', height)\n",
       "\n",
       "        canvas.attr('width', width * mpl.ratio);\n",
       "        canvas.attr('height', height * mpl.ratio);\n",
       "        canvas.attr('style', 'width: ' + width + 'px; height: ' + height + 'px;');\n",
       "\n",
       "        rubberband.attr('width', width);\n",
       "        rubberband.attr('height', height);\n",
       "    }\n",
       "\n",
       "    // Set the figure to an initial 600x600px, this will subsequently be updated\n",
       "    // upon first draw.\n",
       "    this._resize_canvas(600, 600);\n",
       "\n",
       "    // Disable right mouse context menu.\n",
       "    $(this.rubberband_canvas).bind(\"contextmenu\",function(e){\n",
       "        return false;\n",
       "    });\n",
       "\n",
       "    function set_focus () {\n",
       "        canvas.focus();\n",
       "        canvas_div.focus();\n",
       "    }\n",
       "\n",
       "    window.setTimeout(set_focus, 100);\n",
       "}\n",
       "\n",
       "mpl.figure.prototype._init_toolbar = function() {\n",
       "    var fig = this;\n",
       "\n",
       "    var nav_element = $('<div/>')\n",
       "    nav_element.attr('style', 'width: 100%');\n",
       "    this.root.append(nav_element);\n",
       "\n",
       "    // Define a callback function for later on.\n",
       "    function toolbar_event(event) {\n",
       "        return fig.toolbar_button_onclick(event['data']);\n",
       "    }\n",
       "    function toolbar_mouse_event(event) {\n",
       "        return fig.toolbar_button_onmouseover(event['data']);\n",
       "    }\n",
       "\n",
       "    for(var toolbar_ind in mpl.toolbar_items) {\n",
       "        var name = mpl.toolbar_items[toolbar_ind][0];\n",
       "        var tooltip = mpl.toolbar_items[toolbar_ind][1];\n",
       "        var image = mpl.toolbar_items[toolbar_ind][2];\n",
       "        var method_name = mpl.toolbar_items[toolbar_ind][3];\n",
       "\n",
       "        if (!name) {\n",
       "            // put a spacer in here.\n",
       "            continue;\n",
       "        }\n",
       "        var button = $('<button/>');\n",
       "        button.addClass('ui-button ui-widget ui-state-default ui-corner-all ' +\n",
       "                        'ui-button-icon-only');\n",
       "        button.attr('role', 'button');\n",
       "        button.attr('aria-disabled', 'false');\n",
       "        button.click(method_name, toolbar_event);\n",
       "        button.mouseover(tooltip, toolbar_mouse_event);\n",
       "\n",
       "        var icon_img = $('<span/>');\n",
       "        icon_img.addClass('ui-button-icon-primary ui-icon');\n",
       "        icon_img.addClass(image);\n",
       "        icon_img.addClass('ui-corner-all');\n",
       "\n",
       "        var tooltip_span = $('<span/>');\n",
       "        tooltip_span.addClass('ui-button-text');\n",
       "        tooltip_span.html(tooltip);\n",
       "\n",
       "        button.append(icon_img);\n",
       "        button.append(tooltip_span);\n",
       "\n",
       "        nav_element.append(button);\n",
       "    }\n",
       "\n",
       "    var fmt_picker_span = $('<span/>');\n",
       "\n",
       "    var fmt_picker = $('<select/>');\n",
       "    fmt_picker.addClass('mpl-toolbar-option ui-widget ui-widget-content');\n",
       "    fmt_picker_span.append(fmt_picker);\n",
       "    nav_element.append(fmt_picker_span);\n",
       "    this.format_dropdown = fmt_picker[0];\n",
       "\n",
       "    for (var ind in mpl.extensions) {\n",
       "        var fmt = mpl.extensions[ind];\n",
       "        var option = $(\n",
       "            '<option/>', {selected: fmt === mpl.default_extension}).html(fmt);\n",
       "        fmt_picker.append(option)\n",
       "    }\n",
       "\n",
       "    // Add hover states to the ui-buttons\n",
       "    $( \".ui-button\" ).hover(\n",
       "        function() { $(this).addClass(\"ui-state-hover\");},\n",
       "        function() { $(this).removeClass(\"ui-state-hover\");}\n",
       "    );\n",
       "\n",
       "    var status_bar = $('<span class=\"mpl-message\"/>');\n",
       "    nav_element.append(status_bar);\n",
       "    this.message = status_bar[0];\n",
       "}\n",
       "\n",
       "mpl.figure.prototype.request_resize = function(x_pixels, y_pixels) {\n",
       "    // Request matplotlib to resize the figure. Matplotlib will then trigger a resize in the client,\n",
       "    // which will in turn request a refresh of the image.\n",
       "    this.send_message('resize', {'width': x_pixels, 'height': y_pixels});\n",
       "}\n",
       "\n",
       "mpl.figure.prototype.send_message = function(type, properties) {\n",
       "    properties['type'] = type;\n",
       "    properties['figure_id'] = this.id;\n",
       "    this.ws.send(JSON.stringify(properties));\n",
       "}\n",
       "\n",
       "mpl.figure.prototype.send_draw_message = function() {\n",
       "    if (!this.waiting) {\n",
       "        this.waiting = true;\n",
       "        this.ws.send(JSON.stringify({type: \"draw\", figure_id: this.id}));\n",
       "    }\n",
       "}\n",
       "\n",
       "\n",
       "mpl.figure.prototype.handle_save = function(fig, msg) {\n",
       "    var format_dropdown = fig.format_dropdown;\n",
       "    var format = format_dropdown.options[format_dropdown.selectedIndex].value;\n",
       "    fig.ondownload(fig, format);\n",
       "}\n",
       "\n",
       "\n",
       "mpl.figure.prototype.handle_resize = function(fig, msg) {\n",
       "    var size = msg['size'];\n",
       "    if (size[0] != fig.canvas.width || size[1] != fig.canvas.height) {\n",
       "        fig._resize_canvas(size[0], size[1]);\n",
       "        fig.send_message(\"refresh\", {});\n",
       "    };\n",
       "}\n",
       "\n",
       "mpl.figure.prototype.handle_rubberband = function(fig, msg) {\n",
       "    var x0 = msg['x0'] / mpl.ratio;\n",
       "    var y0 = (fig.canvas.height - msg['y0']) / mpl.ratio;\n",
       "    var x1 = msg['x1'] / mpl.ratio;\n",
       "    var y1 = (fig.canvas.height - msg['y1']) / mpl.ratio;\n",
       "    x0 = Math.floor(x0) + 0.5;\n",
       "    y0 = Math.floor(y0) + 0.5;\n",
       "    x1 = Math.floor(x1) + 0.5;\n",
       "    y1 = Math.floor(y1) + 0.5;\n",
       "    var min_x = Math.min(x0, x1);\n",
       "    var min_y = Math.min(y0, y1);\n",
       "    var width = Math.abs(x1 - x0);\n",
       "    var height = Math.abs(y1 - y0);\n",
       "\n",
       "    fig.rubberband_context.clearRect(\n",
       "        0, 0, fig.canvas.width, fig.canvas.height);\n",
       "\n",
       "    fig.rubberband_context.strokeRect(min_x, min_y, width, height);\n",
       "}\n",
       "\n",
       "mpl.figure.prototype.handle_figure_label = function(fig, msg) {\n",
       "    // Updates the figure title.\n",
       "    fig.header.textContent = msg['label'];\n",
       "}\n",
       "\n",
       "mpl.figure.prototype.handle_cursor = function(fig, msg) {\n",
       "    var cursor = msg['cursor'];\n",
       "    switch(cursor)\n",
       "    {\n",
       "    case 0:\n",
       "        cursor = 'pointer';\n",
       "        break;\n",
       "    case 1:\n",
       "        cursor = 'default';\n",
       "        break;\n",
       "    case 2:\n",
       "        cursor = 'crosshair';\n",
       "        break;\n",
       "    case 3:\n",
       "        cursor = 'move';\n",
       "        break;\n",
       "    }\n",
       "    fig.rubberband_canvas.style.cursor = cursor;\n",
       "}\n",
       "\n",
       "mpl.figure.prototype.handle_message = function(fig, msg) {\n",
       "    fig.message.textContent = msg['message'];\n",
       "}\n",
       "\n",
       "mpl.figure.prototype.handle_draw = function(fig, msg) {\n",
       "    // Request the server to send over a new figure.\n",
       "    fig.send_draw_message();\n",
       "}\n",
       "\n",
       "mpl.figure.prototype.handle_image_mode = function(fig, msg) {\n",
       "    fig.image_mode = msg['mode'];\n",
       "}\n",
       "\n",
       "mpl.figure.prototype.updated_canvas_event = function() {\n",
       "    // Called whenever the canvas gets updated.\n",
       "    this.send_message(\"ack\", {});\n",
       "}\n",
       "\n",
       "// A function to construct a web socket function for onmessage handling.\n",
       "// Called in the figure constructor.\n",
       "mpl.figure.prototype._make_on_message_function = function(fig) {\n",
       "    return function socket_on_message(evt) {\n",
       "        if (evt.data instanceof Blob) {\n",
       "            /* FIXME: We get \"Resource interpreted as Image but\n",
       "             * transferred with MIME type text/plain:\" errors on\n",
       "             * Chrome.  But how to set the MIME type?  It doesn't seem\n",
       "             * to be part of the websocket stream */\n",
       "            evt.data.type = \"image/png\";\n",
       "\n",
       "            /* Free the memory for the previous frames */\n",
       "            if (fig.imageObj.src) {\n",
       "                (window.URL || window.webkitURL).revokeObjectURL(\n",
       "                    fig.imageObj.src);\n",
       "            }\n",
       "\n",
       "            fig.imageObj.src = (window.URL || window.webkitURL).createObjectURL(\n",
       "                evt.data);\n",
       "            fig.updated_canvas_event();\n",
       "            fig.waiting = false;\n",
       "            return;\n",
       "        }\n",
       "        else if (typeof evt.data === 'string' && evt.data.slice(0, 21) == \"data:image/png;base64\") {\n",
       "            fig.imageObj.src = evt.data;\n",
       "            fig.updated_canvas_event();\n",
       "            fig.waiting = false;\n",
       "            return;\n",
       "        }\n",
       "\n",
       "        var msg = JSON.parse(evt.data);\n",
       "        var msg_type = msg['type'];\n",
       "\n",
       "        // Call the  \"handle_{type}\" callback, which takes\n",
       "        // the figure and JSON message as its only arguments.\n",
       "        try {\n",
       "            var callback = fig[\"handle_\" + msg_type];\n",
       "        } catch (e) {\n",
       "            console.log(\"No handler for the '\" + msg_type + \"' message type: \", msg);\n",
       "            return;\n",
       "        }\n",
       "\n",
       "        if (callback) {\n",
       "            try {\n",
       "                // console.log(\"Handling '\" + msg_type + \"' message: \", msg);\n",
       "                callback(fig, msg);\n",
       "            } catch (e) {\n",
       "                console.log(\"Exception inside the 'handler_\" + msg_type + \"' callback:\", e, e.stack, msg);\n",
       "            }\n",
       "        }\n",
       "    };\n",
       "}\n",
       "\n",
       "// from http://stackoverflow.com/questions/1114465/getting-mouse-location-in-canvas\n",
       "mpl.findpos = function(e) {\n",
       "    //this section is from http://www.quirksmode.org/js/events_properties.html\n",
       "    var targ;\n",
       "    if (!e)\n",
       "        e = window.event;\n",
       "    if (e.target)\n",
       "        targ = e.target;\n",
       "    else if (e.srcElement)\n",
       "        targ = e.srcElement;\n",
       "    if (targ.nodeType == 3) // defeat Safari bug\n",
       "        targ = targ.parentNode;\n",
       "\n",
       "    // jQuery normalizes the pageX and pageY\n",
       "    // pageX,Y are the mouse positions relative to the document\n",
       "    // offset() returns the position of the element relative to the document\n",
       "    var x = e.pageX - $(targ).offset().left;\n",
       "    var y = e.pageY - $(targ).offset().top;\n",
       "\n",
       "    return {\"x\": x, \"y\": y};\n",
       "};\n",
       "\n",
       "/*\n",
       " * return a copy of an object with only non-object keys\n",
       " * we need this to avoid circular references\n",
       " * http://stackoverflow.com/a/24161582/3208463\n",
       " */\n",
       "function simpleKeys (original) {\n",
       "  return Object.keys(original).reduce(function (obj, key) {\n",
       "    if (typeof original[key] !== 'object')\n",
       "        obj[key] = original[key]\n",
       "    return obj;\n",
       "  }, {});\n",
       "}\n",
       "\n",
       "mpl.figure.prototype.mouse_event = function(event, name) {\n",
       "    var canvas_pos = mpl.findpos(event)\n",
       "\n",
       "    if (name === 'button_press')\n",
       "    {\n",
       "        this.canvas.focus();\n",
       "        this.canvas_div.focus();\n",
       "    }\n",
       "\n",
       "    var x = canvas_pos.x * mpl.ratio;\n",
       "    var y = canvas_pos.y * mpl.ratio;\n",
       "\n",
       "    this.send_message(name, {x: x, y: y, button: event.button,\n",
       "                             step: event.step,\n",
       "                             guiEvent: simpleKeys(event)});\n",
       "\n",
       "    /* This prevents the web browser from automatically changing to\n",
       "     * the text insertion cursor when the button is pressed.  We want\n",
       "     * to control all of the cursor setting manually through the\n",
       "     * 'cursor' event from matplotlib */\n",
       "    event.preventDefault();\n",
       "    return false;\n",
       "}\n",
       "\n",
       "mpl.figure.prototype._key_event_extra = function(event, name) {\n",
       "    // Handle any extra behaviour associated with a key event\n",
       "}\n",
       "\n",
       "mpl.figure.prototype.key_event = function(event, name) {\n",
       "\n",
       "    // Prevent repeat events\n",
       "    if (name == 'key_press')\n",
       "    {\n",
       "        if (event.which === this._key)\n",
       "            return;\n",
       "        else\n",
       "            this._key = event.which;\n",
       "    }\n",
       "    if (name == 'key_release')\n",
       "        this._key = null;\n",
       "\n",
       "    var value = '';\n",
       "    if (event.ctrlKey && event.which != 17)\n",
       "        value += \"ctrl+\";\n",
       "    if (event.altKey && event.which != 18)\n",
       "        value += \"alt+\";\n",
       "    if (event.shiftKey && event.which != 16)\n",
       "        value += \"shift+\";\n",
       "\n",
       "    value += 'k';\n",
       "    value += event.which.toString();\n",
       "\n",
       "    this._key_event_extra(event, name);\n",
       "\n",
       "    this.send_message(name, {key: value,\n",
       "                             guiEvent: simpleKeys(event)});\n",
       "    return false;\n",
       "}\n",
       "\n",
       "mpl.figure.prototype.toolbar_button_onclick = function(name) {\n",
       "    if (name == 'download') {\n",
       "        this.handle_save(this, null);\n",
       "    } else {\n",
       "        this.send_message(\"toolbar_button\", {name: name});\n",
       "    }\n",
       "};\n",
       "\n",
       "mpl.figure.prototype.toolbar_button_onmouseover = function(tooltip) {\n",
       "    this.message.textContent = tooltip;\n",
       "};\n",
       "mpl.toolbar_items = [[\"Home\", \"Reset original view\", \"fa fa-home icon-home\", \"home\"], [\"Back\", \"Back to  previous view\", \"fa fa-arrow-left icon-arrow-left\", \"back\"], [\"Forward\", \"Forward to next view\", \"fa fa-arrow-right icon-arrow-right\", \"forward\"], [\"\", \"\", \"\", \"\"], [\"Pan\", \"Pan axes with left mouse, zoom with right\", \"fa fa-arrows icon-move\", \"pan\"], [\"Zoom\", \"Zoom to rectangle\", \"fa fa-square-o icon-check-empty\", \"zoom\"], [\"\", \"\", \"\", \"\"], [\"Download\", \"Download plot\", \"fa fa-floppy-o icon-save\", \"download\"]];\n",
       "\n",
       "mpl.extensions = [\"eps\", \"pdf\", \"png\", \"ps\", \"raw\", \"svg\"];\n",
       "\n",
       "mpl.default_extension = \"png\";var comm_websocket_adapter = function(comm) {\n",
       "    // Create a \"websocket\"-like object which calls the given IPython comm\n",
       "    // object with the appropriate methods. Currently this is a non binary\n",
       "    // socket, so there is still some room for performance tuning.\n",
       "    var ws = {};\n",
       "\n",
       "    ws.close = function() {\n",
       "        comm.close()\n",
       "    };\n",
       "    ws.send = function(m) {\n",
       "        //console.log('sending', m);\n",
       "        comm.send(m);\n",
       "    };\n",
       "    // Register the callback with on_msg.\n",
       "    comm.on_msg(function(msg) {\n",
       "        //console.log('receiving', msg['content']['data'], msg);\n",
       "        // Pass the mpl event to the overridden (by mpl) onmessage function.\n",
       "        ws.onmessage(msg['content']['data'])\n",
       "    });\n",
       "    return ws;\n",
       "}\n",
       "\n",
       "mpl.mpl_figure_comm = function(comm, msg) {\n",
       "    // This is the function which gets called when the mpl process\n",
       "    // starts-up an IPython Comm through the \"matplotlib\" channel.\n",
       "\n",
       "    var id = msg.content.data.id;\n",
       "    // Get hold of the div created by the display call when the Comm\n",
       "    // socket was opened in Python.\n",
       "    var element = $(\"#\" + id);\n",
       "    var ws_proxy = comm_websocket_adapter(comm)\n",
       "\n",
       "    function ondownload(figure, format) {\n",
       "        window.open(figure.imageObj.src);\n",
       "    }\n",
       "\n",
       "    var fig = new mpl.figure(id, ws_proxy,\n",
       "                           ondownload,\n",
       "                           element.get(0));\n",
       "\n",
       "    // Call onopen now - mpl needs it, as it is assuming we've passed it a real\n",
       "    // web socket which is closed, not our websocket->open comm proxy.\n",
       "    ws_proxy.onopen();\n",
       "\n",
       "    fig.parent_element = element.get(0);\n",
       "    fig.cell_info = mpl.find_output_cell(\"<div id='\" + id + \"'></div>\");\n",
       "    if (!fig.cell_info) {\n",
       "        console.error(\"Failed to find cell for figure\", id, fig);\n",
       "        return;\n",
       "    }\n",
       "\n",
       "    var output_index = fig.cell_info[2]\n",
       "    var cell = fig.cell_info[0];\n",
       "\n",
       "};\n",
       "\n",
       "mpl.figure.prototype.handle_close = function(fig, msg) {\n",
       "    var width = fig.canvas.width/mpl.ratio\n",
       "    fig.root.unbind('remove')\n",
       "\n",
       "    // Update the output cell to use the data from the current canvas.\n",
       "    fig.push_to_output();\n",
       "    var dataURL = fig.canvas.toDataURL();\n",
       "    // Re-enable the keyboard manager in IPython - without this line, in FF,\n",
       "    // the notebook keyboard shortcuts fail.\n",
       "    IPython.keyboard_manager.enable()\n",
       "    $(fig.parent_element).html('<img src=\"' + dataURL + '\" width=\"' + width + '\">');\n",
       "    fig.close_ws(fig, msg);\n",
       "}\n",
       "\n",
       "mpl.figure.prototype.close_ws = function(fig, msg){\n",
       "    fig.send_message('closing', msg);\n",
       "    // fig.ws.close()\n",
       "}\n",
       "\n",
       "mpl.figure.prototype.push_to_output = function(remove_interactive) {\n",
       "    // Turn the data on the canvas into data in the output cell.\n",
       "    var width = this.canvas.width/mpl.ratio\n",
       "    var dataURL = this.canvas.toDataURL();\n",
       "    this.cell_info[1]['text/html'] = '<img src=\"' + dataURL + '\" width=\"' + width + '\">';\n",
       "}\n",
       "\n",
       "mpl.figure.prototype.updated_canvas_event = function() {\n",
       "    // Tell IPython that the notebook contents must change.\n",
       "    IPython.notebook.set_dirty(true);\n",
       "    this.send_message(\"ack\", {});\n",
       "    var fig = this;\n",
       "    // Wait a second, then push the new image to the DOM so\n",
       "    // that it is saved nicely (might be nice to debounce this).\n",
       "    setTimeout(function () { fig.push_to_output() }, 1000);\n",
       "}\n",
       "\n",
       "mpl.figure.prototype._init_toolbar = function() {\n",
       "    var fig = this;\n",
       "\n",
       "    var nav_element = $('<div/>')\n",
       "    nav_element.attr('style', 'width: 100%');\n",
       "    this.root.append(nav_element);\n",
       "\n",
       "    // Define a callback function for later on.\n",
       "    function toolbar_event(event) {\n",
       "        return fig.toolbar_button_onclick(event['data']);\n",
       "    }\n",
       "    function toolbar_mouse_event(event) {\n",
       "        return fig.toolbar_button_onmouseover(event['data']);\n",
       "    }\n",
       "\n",
       "    for(var toolbar_ind in mpl.toolbar_items){\n",
       "        var name = mpl.toolbar_items[toolbar_ind][0];\n",
       "        var tooltip = mpl.toolbar_items[toolbar_ind][1];\n",
       "        var image = mpl.toolbar_items[toolbar_ind][2];\n",
       "        var method_name = mpl.toolbar_items[toolbar_ind][3];\n",
       "\n",
       "        if (!name) { continue; };\n",
       "\n",
       "        var button = $('<button class=\"btn btn-default\" href=\"#\" title=\"' + name + '\"><i class=\"fa ' + image + ' fa-lg\"></i></button>');\n",
       "        button.click(method_name, toolbar_event);\n",
       "        button.mouseover(tooltip, toolbar_mouse_event);\n",
       "        nav_element.append(button);\n",
       "    }\n",
       "\n",
       "    // Add the status bar.\n",
       "    var status_bar = $('<span class=\"mpl-message\" style=\"text-align:right; float: right;\"/>');\n",
       "    nav_element.append(status_bar);\n",
       "    this.message = status_bar[0];\n",
       "\n",
       "    // Add the close button to the window.\n",
       "    var buttongrp = $('<div class=\"btn-group inline pull-right\"></div>');\n",
       "    var button = $('<button class=\"btn btn-mini btn-primary\" href=\"#\" title=\"Stop Interaction\"><i class=\"fa fa-power-off icon-remove icon-large\"></i></button>');\n",
       "    button.click(function (evt) { fig.handle_close(fig, {}); } );\n",
       "    button.mouseover('Stop Interaction', toolbar_mouse_event);\n",
       "    buttongrp.append(button);\n",
       "    var titlebar = this.root.find($('.ui-dialog-titlebar'));\n",
       "    titlebar.prepend(buttongrp);\n",
       "}\n",
       "\n",
       "mpl.figure.prototype._root_extra_style = function(el){\n",
       "    var fig = this\n",
       "    el.on(\"remove\", function(){\n",
       "\tfig.close_ws(fig, {});\n",
       "    });\n",
       "}\n",
       "\n",
       "mpl.figure.prototype._canvas_extra_style = function(el){\n",
       "    // this is important to make the div 'focusable\n",
       "    el.attr('tabindex', 0)\n",
       "    // reach out to IPython and tell the keyboard manager to turn it's self\n",
       "    // off when our div gets focus\n",
       "\n",
       "    // location in version 3\n",
       "    if (IPython.notebook.keyboard_manager) {\n",
       "        IPython.notebook.keyboard_manager.register_events(el);\n",
       "    }\n",
       "    else {\n",
       "        // location in version 2\n",
       "        IPython.keyboard_manager.register_events(el);\n",
       "    }\n",
       "\n",
       "}\n",
       "\n",
       "mpl.figure.prototype._key_event_extra = function(event, name) {\n",
       "    var manager = IPython.notebook.keyboard_manager;\n",
       "    if (!manager)\n",
       "        manager = IPython.keyboard_manager;\n",
       "\n",
       "    // Check for shift+enter\n",
       "    if (event.shiftKey && event.which == 13) {\n",
       "        this.canvas_div.blur();\n",
       "        event.shiftKey = false;\n",
       "        // Send a \"J\" for go to next cell\n",
       "        event.which = 74;\n",
       "        event.keyCode = 74;\n",
       "        manager.command_mode();\n",
       "        manager.handle_keydown(event);\n",
       "    }\n",
       "}\n",
       "\n",
       "mpl.figure.prototype.handle_save = function(fig, msg) {\n",
       "    fig.ondownload(fig, null);\n",
       "}\n",
       "\n",
       "\n",
       "mpl.find_output_cell = function(html_output) {\n",
       "    // Return the cell and output element which can be found *uniquely* in the notebook.\n",
       "    // Note - this is a bit hacky, but it is done because the \"notebook_saving.Notebook\"\n",
       "    // IPython event is triggered only after the cells have been serialised, which for\n",
       "    // our purposes (turning an active figure into a static one), is too late.\n",
       "    var cells = IPython.notebook.get_cells();\n",
       "    var ncells = cells.length;\n",
       "    for (var i=0; i<ncells; i++) {\n",
       "        var cell = cells[i];\n",
       "        if (cell.cell_type === 'code'){\n",
       "            for (var j=0; j<cell.output_area.outputs.length; j++) {\n",
       "                var data = cell.output_area.outputs[j];\n",
       "                if (data.data) {\n",
       "                    // IPython >= 3 moved mimebundle to data attribute of output\n",
       "                    data = data.data;\n",
       "                }\n",
       "                if (data['text/html'] == html_output) {\n",
       "                    return [cell, data, j];\n",
       "                }\n",
       "            }\n",
       "        }\n",
       "    }\n",
       "}\n",
       "\n",
       "// Register the function which deals with the matplotlib target/channel.\n",
       "// The kernel may be null if the page has been refreshed.\n",
       "if (IPython.notebook.kernel != null) {\n",
       "    IPython.notebook.kernel.comm_manager.register_target('matplotlib', mpl.mpl_figure_comm);\n",
       "}\n"
      ],
      "text/plain": [
       "<IPython.core.display.Javascript object>"
      ]
     },
     "metadata": {},
     "output_type": "display_data"
    },
    {
     "data": {
      "text/html": [
       "<img src=\"data:image/png;base64,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\" width=\"639.4\">"
      ],
      "text/plain": [
       "<IPython.core.display.HTML object>"
      ]
     },
     "metadata": {},
     "output_type": "display_data"
    },
    {
     "data": {
      "text/html": [
       "<i>Table length=2</i>\n",
       "<table id=\"table140303083615008\" class=\"table-striped table-bordered table-condensed\">\n",
       "<thead><tr><th>FEED</th><th>RECEPTOR</th><th>POLARIZE</th><th>CENTER_SKY</th><th>BANDWDTH</th><th>PORT_INDEX</th><th>PORT</th><th>HIGH_CAL</th><th>SIGREF</th><th>CAL</th><th>PHASE_INDEX</th><th>PHASE</th><th>DATA [149]</th></tr></thead>\n",
       "<thead><tr><th>none</th><th></th><th></th><th>Hz</th><th>Hz</th><th></th><th>none</th><th>none</th><th></th><th></th><th></th><th></th><th></th></tr></thead>\n",
       "<thead><tr><th>int32</th><th>str8</th><th>str2</th><th>float32</th><th>float32</th><th>int64</th><th>int32</th><th>int32</th><th>uint8</th><th>uint8</th><th>int64</th><th>str18</th><th>int32</th></tr></thead>\n",
       "<tr><td>1</td><td>L1</td><td>L</td><td>14098000000.0</td><td>3004000000.0</td><td>0</td><td>2</td><td>0</td><td>0</td><td>0</td><td>0</td><td>Signal / No Cal</td><td>188315 .. 186796</td></tr>\n",
       "<tr><td>1</td><td>R1</td><td>R</td><td>14098000000.0</td><td>3004000000.0</td><td>1</td><td>4</td><td>0</td><td>0</td><td>0</td><td>0</td><td>Signal / No Cal</td><td>175363 .. 174353</td></tr>\n",
       "</table>"
      ],
      "text/plain": [
       "<Table length=2>\n",
       " FEED RECEPTOR POLARIZE ... PHASE_INDEX      PHASE         DATA [149]   \n",
       " none                   ...                                             \n",
       "int32   str8     str2   ...    int64         str18           int32      \n",
       "----- -------- -------- ... ----------- --------------- ----------------\n",
       "    1       L1        L ...           0 Signal / No Cal 188315 .. 186796\n",
       "    1       R1        R ...           0 Signal / No Cal 175363 .. 174353"
      ]
     },
     "execution_count": 22,
     "metadata": {},
     "output_type": "execute_result"
    }
   ],
   "source": [
    "%matplotlib notebook\n",
    "\n",
    "from astropy import units\n",
    "import matplotlib.pyplot as plt\n",
    "\n",
    "# Mask out everything but 'Signal / No Cal' data\n",
    "row_mask = dcr_table['PHASE'] == 'Signal / No Cal'\n",
    "sig_no_cal = dcr_table[row_mask]\n",
    "data = sig_no_cal['DATA']\n",
    "\n",
    "# Transpose data here so that each row results in a new axis (instead of each column, which makes little sense)\n",
    "plt.plot(data.T)\n",
    "plt.xlabel('Integrations')\n",
    "plt.ylabel('Counts')  \n",
    "legend_format = '{FEED} {POLARIZE} - {PHASE} - {CENTER_SKY:.2f} GHz'\n",
    "legend_data = [\n",
    "    legend_format.format(\n",
    "        FEED=row[\"FEED\"],\n",
    "        POLARIZE=row[\"POLARIZE\"],\n",
    "        PHASE=row[\"PHASE\"],\n",
    "        CENTER_SKY=units.Hz.to(units.GHz, row[\"CENTER_SKY\"])\n",
    "    ) for row in sig_no_cal\n",
    "]\n",
    "plt.legend(\n",
    "    legend_data,\n",
    "    #bbox_to_anchor=(1.15, 1.0)\n",
    ")\n",
    "# Display the plot\n",
    "plt.show()\n",
    "# Display the table being plotted\n",
    "sig_no_cal"
   ]
  },
  {
   "cell_type": "code",
   "execution_count": null,
   "metadata": {},
   "outputs": [],
   "source": []
  }
 ],
 "metadata": {
  "celltoolbar": "Slideshow",
  "kernelspec": {
   "display_name": "Python 3",
   "language": "python",
   "name": "python3"
  },
  "language_info": {
   "codemirror_mode": {
    "name": "ipython",
    "version": 3
   },
   "file_extension": ".py",
   "mimetype": "text/x-python",
   "name": "python",
   "nbconvert_exporter": "python",
   "pygments_lexer": "ipython3",
   "version": "3.5.2"
  },
  "rise": {
   "transition": "none"
  }
 },
 "nbformat": 4,
 "nbformat_minor": 2
}
