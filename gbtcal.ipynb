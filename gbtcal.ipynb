{
 "cells": [
  {
   "cell_type": "markdown",
   "metadata": {
    "slideshow": {
     "slide_type": "slide"
    }
   },
   "source": [
    "# GBT DCR \"Decoding\""
   ]
  },
  {
   "cell_type": "markdown",
   "metadata": {
    "slideshow": {
     "slide_type": "-"
    }
   },
   "source": [
    "We use the term \"decoding\" to refer to the process by which the relevant FITS files associated with a given DCR scan are processed and merged together. You might also hear the term \"filling\" used instead.\n",
    "\n",
    "There are two FITS files that contribute to \"the data\":\n",
    "1. `DCR`: contains \"the data\" and the DCR-related metadata\n",
    "2. `IF`: contains receiver metadata\n",
    "\n",
    "These must be properly parsed, ordered, and joined in order for sensible queries to be performed on the result.\n",
    "\n",
    "This document is based on commit `ba57ddacb649fa85ee8e08acfc0e962babf2812f`"
   ]
  },
  {
   "cell_type": "markdown",
   "metadata": {},
   "source": [
    "For this demo, we will be a _single_ scan from a given receiver. For example, if we select the Ku band receiver (Rcvr12_18), which has 2 beams, each with 1 polarization (circular), then we essentially have two physical incoming data streams:\n",
    "\n",
    "\n",
    "| Port | Receptor | Polarization |  \n",
    "| ---- | -------- | ------------ |  \n",
    "| 2    | L1       | L            |  \n",
    "| 4    | R1       | R            |  \n",
    "\n",
    "However, since this data was taken over time as a series of integrations, it is not stored as a simple port->data mapping! It was taken with the DCR backend, which provides a calibration diode and a signal/reference beam switch. By combining these two binary states, we end up with 4 \"phases\" under which data was taken:\n",
    "\n",
    "| `SIGREF` | `CAL` |      Phase key       | Phase index |\n",
    "|----------|-------|----------------------|-------------|\n",
    "|        0 |     0 | `Signal / No Cal`    |           0 |\n",
    "|        0 |     1 | `Signal / Cal`       |           1 |\n",
    "|        1 |     0 | `Reference / No Cal` |           2 |\n",
    "|        1 |     1 | `Reference / Cal`    |           3 |\n",
    "\n",
    "So, our resultant data is actually time-domain data (i.e. per-integration) of the shape `(integration, port, phase)`. Our task, then is to figure out how to map each physical datastream up with its data"
   ]
  },
  {
   "cell_type": "markdown",
   "metadata": {
    "slideshow": {
     "slide_type": "slide"
    }
   },
   "source": [
    "## Step 1: Data Aquisition"
   ]
  },
  {
   "cell_type": "code",
   "execution_count": 53,
   "metadata": {
    "slideshow": {
     "slide_type": "-"
    }
   },
   "outputs": [],
   "source": [
    "import os\n",
    "\n",
    "from astropy.io import fits\n",
    "\n",
    "# Examples to choose from:\n",
    "examples = {\n",
    "    \"L\": (\"./AGBT16B_285_01:1:Rcvr1_2\", \"2016_11_02_09:07:00.fits\"),\n",
    "    \"X\": (\"./AGBT17A_056_10:1:Rcvr8_10\", \"2017_04_02_18:30:39.fits\"),\n",
    "    \"Ku\": (\"./AGBT02A_025_01:1000:Rcvr12_18\", \"2004_03_04_00:56:43.fits\"),\n",
    "    \"W\": (\"./AGBT17A_212_05:6:Rcvr68_92\", \"2017_08_06_04:29:10.fits\"),\n",
    "    \"Q\": (\"./AGBT16A_473_01:1:Rcvr40_52\", \"2016_12_13_09:09:56.fits\"),\n",
    "}\n",
    "\n",
    "receiver = \"Ku\"\n",
    "\n",
    "# We have the contents of a single scan tracked within this repo\n",
    "fits_dir = examples[receiver][0]\n",
    "dcr_hdul = fits.open(os.path.join(fits_dir, 'DCR', examples[receiver][1]))\n",
    "if_hdul = fits.open(os.path.join(fits_dir, 'IF', examples[receiver][1]))"
   ]
  },
  {
   "cell_type": "markdown",
   "metadata": {
    "slideshow": {
     "slide_type": "slide"
    }
   },
   "source": [
    "## Step 2: Table Initialization\n",
    "\n",
    "We will now convert our `HDUList` objects to `Table` objects so they can be more easily manipulated"
   ]
  },
  {
   "cell_type": "markdown",
   "metadata": {
    "slideshow": {
     "slide_type": "subslide"
    }
   },
   "source": [
    "### Step 2.1: DCR State Table Conversion"
   ]
  },
  {
   "cell_type": "code",
   "execution_count": 54,
   "metadata": {
    "scrolled": true,
    "slideshow": {
     "slide_type": "-"
    }
   },
   "outputs": [
    {
     "data": {
      "text/html": [
       "<i>Table length=1</i>\n",
       "<table id=\"table140316922556200\" class=\"table-striped table-bordered table-condensed\">\n",
       "<thead><tr><th>BLANKTIM</th><th>PHASETIM</th><th>SIGREF</th><th>CAL</th><th>SWSIG1</th><th>SWSIG2</th><th>SWSIG3</th><th>SWSIG4</th><th>SWSIG5</th></tr></thead>\n",
       "<thead><tr><th>s</th><th>s</th><th></th><th></th><th></th><th></th><th></th><th></th><th></th></tr></thead>\n",
       "<thead><tr><th>float64</th><th>float64</th><th>uint8</th><th>uint8</th><th>uint8</th><th>uint8</th><th>uint8</th><th>uint8</th><th>uint8</th></tr></thead>\n",
       "<tr><td>0.0</td><td>0.1</td><td>0</td><td>0</td><td>0</td><td>0</td><td>0</td><td>0</td><td>1</td></tr>\n",
       "</table>"
      ],
      "text/plain": [
       "<Table length=1>\n",
       "BLANKTIM PHASETIM SIGREF  CAL  SWSIG1 SWSIG2 SWSIG3 SWSIG4 SWSIG5\n",
       "   s        s                                                    \n",
       "float64  float64  uint8  uint8 uint8  uint8  uint8  uint8  uint8 \n",
       "-------- -------- ------ ----- ------ ------ ------ ------ ------\n",
       "     0.0      0.1      0     0      0      0      0      0      1"
      ]
     },
     "execution_count": 54,
     "metadata": {},
     "output_type": "execute_result"
    }
   ],
   "source": [
    "from astropy.table import Table\n",
    "\n",
    "# Load the FITS STATE table into an astropy Table\n",
    "dcr_state_table = Table.read(dcr_hdul[dcr_hdul.index_of('STATE')])\n",
    "# Show it below\n",
    "dcr_state_table"
   ]
  },
  {
   "cell_type": "markdown",
   "metadata": {
    "slideshow": {
     "slide_type": "subslide"
    }
   },
   "source": [
    "Now let's trim off the columns we don't need, and then add some \"helper\" columns that more concisely describe the phase represented (since this is how we'll be thinking about the data) anyway"
   ]
  },
  {
   "cell_type": "code",
   "execution_count": 55,
   "metadata": {
    "slideshow": {
     "slide_type": "-"
    }
   },
   "outputs": [
    {
     "data": {
      "text/html": [
       "<i>Table length=1</i>\n",
       "<table id=\"table140316995257400\" class=\"table-striped table-bordered table-condensed\">\n",
       "<thead><tr><th>SIGREF</th><th>CAL</th><th>PHASE_INDEX</th><th>PHASE</th></tr></thead>\n",
       "<thead><tr><th>uint8</th><th>uint8</th><th>int64</th><th>str15</th></tr></thead>\n",
       "<tr><td>0</td><td>0</td><td>0</td><td>Signal / No Cal</td></tr>\n",
       "</table>"
      ],
      "text/plain": [
       "<Table length=1>\n",
       "SIGREF  CAL  PHASE_INDEX      PHASE     \n",
       "uint8  uint8    int64         str15     \n",
       "------ ----- ----------- ---------------\n",
       "     0     0           0 Signal / No Cal"
      ]
     },
     "execution_count": 55,
     "metadata": {},
     "output_type": "execute_result"
    }
   ],
   "source": [
    "import numpy as np\n",
    "from astropy.table import Column\n",
    "\n",
    "# Trim off unneeded columns\n",
    "# This creates a new \"view\" into the Table; no copy\n",
    "dcr_state_table = dcr_state_table['SIGREF', 'CAL']\n",
    "\n",
    "# Construct the \"verbose\" phases\n",
    "phases_verbose = [\n",
    "    '{} / {}'.format('Signal' if not sigref else 'Reference', 'Cal' if cal else 'No Cal')\n",
    "    for sigref, cal in dcr_state_table\n",
    "]\n",
    "# Create the two new columns and add them to the state table\n",
    "dcr_state_table.add_columns([\n",
    "    # This column holds the phase index -- see above table\n",
    "    Column(\n",
    "        name='PHASE_INDEX',\n",
    "        data=np.arange(len(phases_verbose))\n",
    "    ),\n",
    "    # This column holds the verbose name of each phase -- see above table\n",
    "    Column(\n",
    "        name='PHASE',\n",
    "        data=phases_verbose\n",
    "    )\n",
    "])\n",
    "dcr_state_table"
   ]
  },
  {
   "cell_type": "markdown",
   "metadata": {
    "slideshow": {
     "slide_type": "subslide"
    }
   },
   "source": [
    "### Step 2.2: DCR Data Table Initialization"
   ]
  },
  {
   "cell_type": "code",
   "execution_count": 56,
   "metadata": {
    "scrolled": true,
    "slideshow": {
     "slide_type": "-"
    }
   },
   "outputs": [
    {
     "data": {
      "text/html": [
       "<i>Table length=3649</i>\n",
       "<table id=\"table140316922529160\" class=\"table-striped table-bordered table-condensed\">\n",
       "<thead><tr><th>IFFLAG</th><th>SUBSCAN</th><th>TIMETAG</th><th>DATA [4,1]</th></tr></thead>\n",
       "<thead><tr><th>CODE</th><th>CODE</th><th>DMJD</th><th>COUNTS</th></tr></thead>\n",
       "<thead><tr><th>int16</th><th>int32</th><th>float64</th><th>int32</th></tr></thead>\n",
       "<tr><td>0</td><td>1</td><td>57971.186932872566</td><td>150233 .. 137184</td></tr>\n",
       "<tr><td>0</td><td>2</td><td>57971.1869340298</td><td>149713 .. 137125</td></tr>\n",
       "<tr><td>0</td><td>3</td><td>57971.18693518717</td><td>149607 .. 137206</td></tr>\n",
       "<tr><td>0</td><td>4</td><td>57971.1869363446</td><td>150284 .. 137272</td></tr>\n",
       "<tr><td>0</td><td>5</td><td>57971.186937502025</td><td>149852 .. 137283</td></tr>\n",
       "<tr><td>0</td><td>6</td><td>57971.18693865942</td><td>149472 .. 137176</td></tr>\n",
       "<tr><td>0</td><td>7</td><td>57971.18693981683</td><td>149142 .. 137189</td></tr>\n",
       "<tr><td>0</td><td>8</td><td>57971.18694097426</td><td>148620 .. 137176</td></tr>\n",
       "<tr><td>0</td><td>9</td><td>57971.186942131644</td><td>148509 .. 137176</td></tr>\n",
       "<tr><td>...</td><td>...</td><td>...</td><td>...</td></tr>\n",
       "<tr><td>0</td><td>3640</td><td>57971.191144677985</td><td>148586 .. 137531</td></tr>\n",
       "<tr><td>0</td><td>3641</td><td>57971.19114583557</td><td>148449 .. 137557</td></tr>\n",
       "<tr><td>0</td><td>3642</td><td>57971.19114699278</td><td>148577 .. 137628</td></tr>\n",
       "<tr><td>0</td><td>3643</td><td>57971.191148150196</td><td>148464 .. 137556</td></tr>\n",
       "<tr><td>0</td><td>3644</td><td>57971.19114930759</td><td>148509 .. 137639</td></tr>\n",
       "<tr><td>0</td><td>3645</td><td>57971.19115046499</td><td>148500 .. 137602</td></tr>\n",
       "<tr><td>0</td><td>3646</td><td>57971.19115162242</td><td>148477 .. 137565</td></tr>\n",
       "<tr><td>0</td><td>3647</td><td>57971.191152779815</td><td>148561 .. 137610</td></tr>\n",
       "<tr><td>0</td><td>3648</td><td>57971.19115393721</td><td>148766 .. 137572</td></tr>\n",
       "<tr><td>0</td><td>3649</td><td>57971.19115509462</td><td>149147 .. 137654</td></tr>\n",
       "</table>"
      ],
      "text/plain": [
       "<Table length=3649>\n",
       "IFFLAG SUBSCAN      TIMETAG          DATA [4,1]   \n",
       " CODE    CODE         DMJD             COUNTS     \n",
       "int16   int32       float64            int32      \n",
       "------ ------- ------------------ ----------------\n",
       "     0       1 57971.186932872566 150233 .. 137184\n",
       "     0       2   57971.1869340298 149713 .. 137125\n",
       "     0       3  57971.18693518717 149607 .. 137206\n",
       "     0       4   57971.1869363446 150284 .. 137272\n",
       "     0       5 57971.186937502025 149852 .. 137283\n",
       "     0       6  57971.18693865942 149472 .. 137176\n",
       "     0       7  57971.18693981683 149142 .. 137189\n",
       "     0       8  57971.18694097426 148620 .. 137176\n",
       "     0       9 57971.186942131644 148509 .. 137176\n",
       "   ...     ...                ...              ...\n",
       "     0    3640 57971.191144677985 148586 .. 137531\n",
       "     0    3641  57971.19114583557 148449 .. 137557\n",
       "     0    3642  57971.19114699278 148577 .. 137628\n",
       "     0    3643 57971.191148150196 148464 .. 137556\n",
       "     0    3644  57971.19114930759 148509 .. 137639\n",
       "     0    3645  57971.19115046499 148500 .. 137602\n",
       "     0    3646  57971.19115162242 148477 .. 137565\n",
       "     0    3647 57971.191152779815 148561 .. 137610\n",
       "     0    3648  57971.19115393721 148766 .. 137572\n",
       "     0    3649  57971.19115509462 149147 .. 137654"
      ]
     },
     "execution_count": 56,
     "metadata": {},
     "output_type": "execute_result"
    }
   ],
   "source": [
    "# Load the FITS DATA table into an astropy Table\n",
    "dcr_data_table = Table.read(dcr_hdul[dcr_hdul.index_of('DATA')])\n",
    "dcr_data_table"
   ]
  },
  {
   "cell_type": "markdown",
   "metadata": {
    "slideshow": {
     "slide_type": "subslide"
    }
   },
   "source": [
    "### Step 2.3: IF IF Table Initialization\n",
    "\n",
    "(The IF table of the IF `HDUList`)"
   ]
  },
  {
   "cell_type": "markdown",
   "metadata": {
    "slideshow": {
     "slide_type": "-"
    }
   },
   "source": [
    "Initialize the table:"
   ]
  },
  {
   "cell_type": "code",
   "execution_count": 57,
   "metadata": {
    "slideshow": {
     "slide_type": "-"
    }
   },
   "outputs": [
    {
     "data": {
      "text/html": [
       "<i>Table length=12</i>\n",
       "<table id=\"table140317015422232\" class=\"table-striped table-bordered table-condensed\">\n",
       "<thead><tr><th>BACKEND</th><th>BANK</th><th>PORT</th><th>RECEIVER</th><th>FEED</th><th>SRFEED1</th><th>SRFEED2</th><th>RECEPTOR</th><th>LO_CIRCUIT</th><th>LO_COMPONENT</th><th>SIDEBAND</th><th>POLARIZE</th><th>CENTER_IF</th><th>CENTER_SKY</th><th>BANDWDTH</th><th>HIGH_CAL</th><th>TEST_TONE_IF</th><th>TEST_TONE_SKY</th><th>TEST_TONE_CIRCUIT</th><th>TEST_TONE_COMPONENT</th><th>SFF_MULTIPLIER</th><th>SFF_SIDEBAND</th><th>SFF_OFFSET</th><th>TRANSFORM_COUNT</th><th>TRANSFORMS</th></tr></thead>\n",
       "<thead><tr><th>none</th><th>none</th><th>none</th><th>none</th><th>none</th><th>none</th><th>none</th><th>none</th><th>none</th><th>none</th><th>none</th><th>none</th><th>Hz</th><th>Hz</th><th>Hz</th><th>none</th><th>Hz</th><th>Hz</th><th>none</th><th>none</th><th>none</th><th>none</th><th>none</th><th>none</th><th>none</th></tr></thead>\n",
       "<thead><tr><th>str32</th><th>str2</th><th>int32</th><th>str32</th><th>int32</th><th>int32</th><th>int32</th><th>str8</th><th>str32</th><th>str32</th><th>str2</th><th>str2</th><th>float32</th><th>float32</th><th>float32</th><th>int32</th><th>float32</th><th>float32</th><th>str32</th><th>str32</th><th>float64</th><th>float64</th><th>float64</th><th>int32</th><th>str4096</th></tr></thead>\n",
       "<tr><td>DCR</td><td>A</td><td>1</td><td>Rcvr68_92</td><td>1</td><td>0</td><td>0</td><td>B1XL1</td><td>LO1A</td><td>synthesizer</td><td>L</td><td>X</td><td>6000000000.0</td><td>77000000000.0</td><td>1280000000.0</td><td>0</td><td>nan</td><td>nan</td><td></td><td></td><td>4.0</td><td>-1.0</td><td>17000000000.0</td><td>17</td><td>feed(Rcvr68_92:B1XL1): 68000 to 92000, linear_x polarization; filter(Rcvr68_92:FL1XL1): 66000 to 92000; mixer(Rcvr68_92:MX1XL1): LO: 66000 (x4) from LO1A:synthesizer, IFo =  IFi - 66000; tone(Rcvr68_92:CXL1): 17000 x1; (Rcvr68_92:J1): ; (MMConverter1:J1): ; filter(MMConverter1:FL2): 7000 to 14000; mixer(MMConverter1:MX): LO: 17000 (x1) from LO1B:synthesizer, IFo = 17000 - IFi; filter(MMConverter1:FL5): 4000 to 8000; (MMConverter1:J6): ; (IFRouter:J6): ; (IFRouter:J65): ; (OpticalDriver1:J1): ; attenuator(OpticalDriver1:attenuator): ; filter(OpticalDriver1:F8): 5360 to 6640; (OpticalDriver1:J4): ; (DCR:J1): ;</td></tr>\n",
       "<tr><td>DCR</td><td>A</td><td>3</td><td>Rcvr68_92</td><td>1</td><td>0</td><td>0</td><td>B1YR1</td><td>LO1A</td><td>synthesizer</td><td>L</td><td>Y</td><td>6000000000.0</td><td>77000000000.0</td><td>1280000000.0</td><td>0</td><td>nan</td><td>nan</td><td></td><td></td><td>4.0</td><td>-1.0</td><td>17000000000.0</td><td>17</td><td>feed(Rcvr68_92:B1YR1): 68000 to 92000, linear_y polarization; filter(Rcvr68_92:FL1YR1): 66000 to 92000; mixer(Rcvr68_92:MX1YR1): LO: 66000 (x4) from LO1A:synthesizer, IFo =  IFi - 66000; tone(Rcvr68_92:CYR1): 17000 x1; (Rcvr68_92:J2): ; (MMConverter2:J1): ; filter(MMConverter2:FL2): 7000 to 14000; mixer(MMConverter2:MX): LO: 17000 (x1) from LO1B:synthesizer, IFo = 17000 - IFi; filter(MMConverter2:FL5): 4000 to 8000; (MMConverter2:J6): ; (IFRouter:J22): ; (IFRouter:J67): ; (OpticalDriver3:J1): ; attenuator(OpticalDriver3:attenuator): ; filter(OpticalDriver3:F8): 5360 to 6640; (OpticalDriver3:J4): ; (DCR:J3): ;</td></tr>\n",
       "<tr><td>DCR</td><td>A</td><td>5</td><td>Rcvr68_92</td><td>2</td><td>0</td><td>0</td><td>B2X2</td><td>LO1A</td><td>synthesizer</td><td>L</td><td>X</td><td>6000000000.0</td><td>77000000000.0</td><td>1280000000.0</td><td>0</td><td>nan</td><td>nan</td><td></td><td></td><td>4.0</td><td>-1.0</td><td>17000000000.0</td><td>17</td><td>feed(Rcvr68_92:B2X2): 68000 to 92000, linear_x polarization; filter(Rcvr68_92:FL1X2): 66000 to 92000; mixer(Rcvr68_92:MX1X2): LO: 66000 (x4) from LO1A:synthesizer, IFo =  IFi - 66000; tone(Rcvr68_92:CX2): 17000 x1; (Rcvr68_92:J3): ; (MMConverter3:J1): ; filter(MMConverter3:FL2): 7000 to 14000; mixer(MMConverter3:MX): LO: 17000 (x1) from LO1B:synthesizer, IFo = 17000 - IFi; filter(MMConverter3:FL5): 4000 to 8000; (MMConverter3:J6): ; (IFRouter:J39): ; (IFRouter:J69): ; (OpticalDriver5:J1): ; attenuator(OpticalDriver5:attenuator): ; filter(OpticalDriver5:F8): 5360 to 6640; (OpticalDriver5:J4): ; (DCR:J5): ;</td></tr>\n",
       "<tr><td>DCR</td><td>A</td><td>7</td><td>Rcvr68_92</td><td>2</td><td>0</td><td>0</td><td>B2Y2</td><td>LO1A</td><td>synthesizer</td><td>L</td><td>Y</td><td>6000000000.0</td><td>77000000000.0</td><td>1280000000.0</td><td>0</td><td>nan</td><td>nan</td><td></td><td></td><td>4.0</td><td>-1.0</td><td>17000000000.0</td><td>17</td><td>feed(Rcvr68_92:B2Y2): 68000 to 92000, linear_y polarization; filter(Rcvr68_92:FL1Y2): 66000 to 92000; mixer(Rcvr68_92:MX1Y2): LO: 66000 (x4) from LO1A:synthesizer, IFo =  IFi - 66000; tone(Rcvr68_92:CY2): 17000 x1; (Rcvr68_92:J4): ; (MMConverter4:J1): ; filter(MMConverter4:FL2): 7000 to 14000; mixer(MMConverter4:MX): LO: 17000 (x1) from LO1B:synthesizer, IFo = 17000 - IFi; filter(MMConverter4:FL5): 4000 to 8000; (MMConverter4:J6): ; (IFRouter:J53): ; (IFRouter:J71): ; (OpticalDriver7:J1): ; attenuator(OpticalDriver7:attenuator): ; filter(OpticalDriver7:F8): 5360 to 6640; (OpticalDriver7:J4): ; (DCR:J7): ;</td></tr>\n",
       "<tr><td>VEGAS</td><td>A</td><td>1</td><td>Rcvr68_92</td><td>1</td><td>0</td><td>0</td><td>B1XL1</td><td>LO1A</td><td>synthesizer</td><td>L</td><td>X</td><td>896499000.0</td><td>77136500000.0</td><td>1007002000.0</td><td>0</td><td>nan</td><td>nan</td><td></td><td></td><td>4.0</td><td>-1.0</td><td>12032998000.0</td><td>29</td><td>feed(Rcvr68_92:B1XL1): 68000 to 92000, linear_x polarization; filter(Rcvr68_92:FL1XL1): 66000 to 92000; mixer(Rcvr68_92:MX1XL1): LO: 66000 (x4) from LO1A:synthesizer, IFo =  IFi - 66000; tone(Rcvr68_92:CXL1): 17000 x1; (Rcvr68_92:J1): ; (MMConverter1:J1): ; filter(MMConverter1:FL2): 7000 to 14000; mixer(MMConverter1:MX): LO: 17000 (x1) from LO1B:synthesizer, IFo = 17000 - IFi; filter(MMConverter1:FL5): 4000 to 8000; (MMConverter1:J6): ; (IFRouter:J6): ; (IFRouter:J65): ; (OpticalDriver1:J1): ; attenuator(OpticalDriver1:attenuator): ; filter(OpticalDriver1:F8): 5360 to 6640; (OpticalDriver1:J2): ; (OpticalReceiver1:J1): ; (OpticalReceiver1:J2): ; (ConverterModule1:J1): ; mixer(ConverterModule1:MX2): LO: 15467 (x1) from LO2_G1:synthesizer, IFo = 15467 - IFi; filter(ConverterModule1:FL1): 8500 to 10350; mixer(ConverterModule1:MX3): LO: 10500 (x1) from LO3Distribution1:synthesizer, IFo = 10500 - IFi; filter(ConverterModule1:FL2): 0 to 2200; attenuator(ConverterModule1:AT1): ; (ConverterModule1:J9): ; (VEGAS_IF:J1): ; filter(VEGAS_IF:FL2L1): 0 to 1400; (VEGAS_IF:J17): ; (VEGAS:J1): ;</td></tr>\n",
       "<tr><td>VEGAS</td><td>A</td><td>2</td><td>Rcvr68_92</td><td>1</td><td>0</td><td>0</td><td>B1YR1</td><td>LO1A</td><td>synthesizer</td><td>L</td><td>Y</td><td>896499000.0</td><td>77136500000.0</td><td>1007002000.0</td><td>0</td><td>nan</td><td>nan</td><td></td><td></td><td>4.0</td><td>-1.0</td><td>12032998000.0</td><td>29</td><td>feed(Rcvr68_92:B1YR1): 68000 to 92000, linear_y polarization; filter(Rcvr68_92:FL1YR1): 66000 to 92000; mixer(Rcvr68_92:MX1YR1): LO: 66000 (x4) from LO1A:synthesizer, IFo =  IFi - 66000; tone(Rcvr68_92:CYR1): 17000 x1; (Rcvr68_92:J2): ; (MMConverter2:J1): ; filter(MMConverter2:FL2): 7000 to 14000; mixer(MMConverter2:MX): LO: 17000 (x1) from LO1B:synthesizer, IFo = 17000 - IFi; filter(MMConverter2:FL5): 4000 to 8000; (MMConverter2:J6): ; (IFRouter:J22): ; (IFRouter:J67): ; (OpticalDriver3:J1): ; attenuator(OpticalDriver3:attenuator): ; filter(OpticalDriver3:F8): 5360 to 6640; (OpticalDriver3:J2): ; (OpticalReceiver3:J1): ; (OpticalReceiver3:J2): ; (ConverterModule5:J1): ; mixer(ConverterModule5:MX2): LO: 15467 (x1) from LO2_G1:synthesizer, IFo = 15467 - IFi; filter(ConverterModule5:FL1): 8500 to 10350; mixer(ConverterModule5:MX3): LO: 10500 (x1) from LO3Distribution1:synthesizer, IFo = 10500 - IFi; filter(ConverterModule5:FL2): 0 to 2200; attenuator(ConverterModule5:AT1): ; (ConverterModule5:J9): ; (VEGAS_IF:J2): ; filter(VEGAS_IF:FL2R1): 0 to 1400; (VEGAS_IF:J18): ; (VEGAS:J2): ;</td></tr>\n",
       "<tr><td>VEGAS</td><td>D</td><td>1</td><td>Rcvr68_92</td><td>1</td><td>0</td><td>0</td><td>B1XL1</td><td>LO1A</td><td>synthesizer</td><td>L</td><td>X</td><td>775000000.0</td><td>79772000000.0</td><td>0.0</td><td>0</td><td>nan</td><td>nan</td><td></td><td></td><td>4.0</td><td>-1.0</td><td>14547002000.0</td><td>29</td><td>feed(Rcvr68_92:B1XL1): 68000 to 92000, linear_x polarization; filter(Rcvr68_92:FL1XL1): 66000 to 92000; mixer(Rcvr68_92:MX1XL1): LO: 66000 (x4) from LO1A:synthesizer, IFo =  IFi - 66000; tone(Rcvr68_92:CXL1): 17000 x1; (Rcvr68_92:J1): ; (MMConverter1:J1): ; filter(MMConverter1:FL2): 7000 to 14000; mixer(MMConverter1:MX): LO: 17000 (x1) from LO1B:synthesizer, IFo = 17000 - IFi; filter(MMConverter1:FL5): 4000 to 8000; (MMConverter1:J6): ; (IFRouter:J6): ; (IFRouter:J65): ; (OpticalDriver1:J1): ; attenuator(OpticalDriver1:attenuator): ; filter(OpticalDriver1:F8): 5360 to 6640; (OpticalDriver1:J2): ; (OpticalReceiver1:J1): ; (OpticalReceiver1:J5): ; (ConverterModule4:J1): ; mixer(ConverterModule4:MX2): LO: 12953 (x1) from LO2_G4:synthesizer, IFo = 12953 - IFi; filter(ConverterModule4:FL1): 8500 to 10350; mixer(ConverterModule4:MX3): LO: 10500 (x1) from LO3Distribution1:synthesizer, IFo = 10500 - IFi; filter(ConverterModule4:FL2): 0 to 2200; attenuator(ConverterModule4:AT1): ; (ConverterModule4:J9): ; (VEGAS_IF:J7): ; filter(VEGAS_IF:FL2L4): 0 to 1400; (VEGAS_IF:J23): ; (VEGAS:J7): ;</td></tr>\n",
       "<tr><td>VEGAS</td><td>D</td><td>2</td><td>Rcvr68_92</td><td>1</td><td>0</td><td>0</td><td>B1YR1</td><td>LO1A</td><td>synthesizer</td><td>L</td><td>Y</td><td>775000000.0</td><td>79772000000.0</td><td>0.0</td><td>0</td><td>nan</td><td>nan</td><td></td><td></td><td>4.0</td><td>-1.0</td><td>14547002000.0</td><td>29</td><td>feed(Rcvr68_92:B1YR1): 68000 to 92000, linear_y polarization; filter(Rcvr68_92:FL1YR1): 66000 to 92000; mixer(Rcvr68_92:MX1YR1): LO: 66000 (x4) from LO1A:synthesizer, IFo =  IFi - 66000; tone(Rcvr68_92:CYR1): 17000 x1; (Rcvr68_92:J2): ; (MMConverter2:J1): ; filter(MMConverter2:FL2): 7000 to 14000; mixer(MMConverter2:MX): LO: 17000 (x1) from LO1B:synthesizer, IFo = 17000 - IFi; filter(MMConverter2:FL5): 4000 to 8000; (MMConverter2:J6): ; (IFRouter:J22): ; (IFRouter:J67): ; (OpticalDriver3:J1): ; attenuator(OpticalDriver3:attenuator): ; filter(OpticalDriver3:F8): 5360 to 6640; (OpticalDriver3:J2): ; (OpticalReceiver3:J1): ; (OpticalReceiver3:J5): ; (ConverterModule8:J1): ; mixer(ConverterModule8:MX2): LO: 12953 (x1) from LO2_G4:synthesizer, IFo = 12953 - IFi; filter(ConverterModule8:FL1): 8500 to 10350; mixer(ConverterModule8:MX3): LO: 10500 (x1) from LO3Distribution1:synthesizer, IFo = 10500 - IFi; filter(ConverterModule8:FL2): 0 to 2200; attenuator(ConverterModule8:AT1): ; (ConverterModule8:J9): ; (VEGAS_IF:J8): ; filter(VEGAS_IF:FL2R4): 0 to 1400; (VEGAS_IF:J24): ; (VEGAS:J8): ;</td></tr>\n",
       "<tr><td>VEGAS</td><td>E</td><td>1</td><td>Rcvr68_92</td><td>2</td><td>0</td><td>0</td><td>B2X2</td><td>LO1A</td><td>synthesizer</td><td>L</td><td>X</td><td>775000000.0</td><td>75092000000.0</td><td>0.0</td><td>0</td><td>nan</td><td>nan</td><td></td><td></td><td>4.0</td><td>-1.0</td><td>9867002000.0</td><td>29</td><td>feed(Rcvr68_92:B2X2): 68000 to 92000, linear_x polarization; filter(Rcvr68_92:FL1X2): 66000 to 92000; mixer(Rcvr68_92:MX1X2): LO: 66000 (x4) from LO1A:synthesizer, IFo =  IFi - 66000; tone(Rcvr68_92:CX2): 17000 x1; (Rcvr68_92:J3): ; (MMConverter3:J1): ; filter(MMConverter3:FL2): 7000 to 14000; mixer(MMConverter3:MX): LO: 17000 (x1) from LO1B:synthesizer, IFo = 17000 - IFi; filter(MMConverter3:FL5): 4000 to 8000; (MMConverter3:J6): ; (IFRouter:J39): ; (IFRouter:J69): ; (OpticalDriver5:J1): ; attenuator(OpticalDriver5:attenuator): ; filter(OpticalDriver5:F8): 5360 to 6640; (OpticalDriver5:J2): ; (OpticalReceiver5:J1): ; (OpticalReceiver5:J2): ; (ConverterModule9:J1): ; mixer(ConverterModule9:MX2): LO: 17633 (x1) from LO2_G5:synthesizer, IFo = 17633 - IFi; filter(ConverterModule9:FL1): 8500 to 10350; mixer(ConverterModule9:MX3): LO: 10500 (x1) from LO3Distribution2:synthesizer, IFo = 10500 - IFi; filter(ConverterModule9:FL2): 0 to 2200; attenuator(ConverterModule9:AT1): ; (ConverterModule9:J9): ; (VEGAS_IF:J9): ; filter(VEGAS_IF:FL2L5): 0 to 1400; (VEGAS_IF:J25): ; (VEGAS:J9): ;</td></tr>\n",
       "<tr><td>VEGAS</td><td>E</td><td>2</td><td>Rcvr68_92</td><td>2</td><td>0</td><td>0</td><td>B2Y2</td><td>LO1A</td><td>synthesizer</td><td>L</td><td>Y</td><td>775000000.0</td><td>75092000000.0</td><td>0.0</td><td>0</td><td>nan</td><td>nan</td><td></td><td></td><td>4.0</td><td>-1.0</td><td>9867002000.0</td><td>29</td><td>feed(Rcvr68_92:B2Y2): 68000 to 92000, linear_y polarization; filter(Rcvr68_92:FL1Y2): 66000 to 92000; mixer(Rcvr68_92:MX1Y2): LO: 66000 (x4) from LO1A:synthesizer, IFo =  IFi - 66000; tone(Rcvr68_92:CY2): 17000 x1; (Rcvr68_92:J4): ; (MMConverter4:J1): ; filter(MMConverter4:FL2): 7000 to 14000; mixer(MMConverter4:MX): LO: 17000 (x1) from LO1B:synthesizer, IFo = 17000 - IFi; filter(MMConverter4:FL5): 4000 to 8000; (MMConverter4:J6): ; (IFRouter:J53): ; (IFRouter:J71): ; (OpticalDriver7:J1): ; attenuator(OpticalDriver7:attenuator): ; filter(OpticalDriver7:F8): 5360 to 6640; (OpticalDriver7:J2): ; (OpticalReceiver7:J1): ; (OpticalReceiver7:J2): ; (ConverterModule13:J1): ; mixer(ConverterModule13:MX2): LO: 17633 (x1) from LO2_G5:synthesizer, IFo = 17633 - IFi; filter(ConverterModule13:FL1): 8500 to 10350; mixer(ConverterModule13:MX3): LO: 10500 (x1) from LO3Distribution2:synthesizer, IFo = 10500 - IFi; filter(ConverterModule13:FL2): 0 to 2200; attenuator(ConverterModule13:AT1): ; (ConverterModule13:J9): ; (VEGAS_IF:J10): ; filter(VEGAS_IF:FL2R5): 0 to 1400; (VEGAS_IF:J26): ; (VEGAS:J10): ;</td></tr>\n",
       "<tr><td>VEGAS</td><td>F</td><td>1</td><td>Rcvr68_92</td><td>2</td><td>0</td><td>0</td><td>B2X2</td><td>LO1A</td><td>synthesizer</td><td>L</td><td>X</td><td>896499000.0</td><td>77136500000.0</td><td>1007002000.0</td><td>0</td><td>nan</td><td>nan</td><td></td><td></td><td>4.0</td><td>-1.0</td><td>12032998000.0</td><td>29</td><td>feed(Rcvr68_92:B2X2): 68000 to 92000, linear_x polarization; filter(Rcvr68_92:FL1X2): 66000 to 92000; mixer(Rcvr68_92:MX1X2): LO: 66000 (x4) from LO1A:synthesizer, IFo =  IFi - 66000; tone(Rcvr68_92:CX2): 17000 x1; (Rcvr68_92:J3): ; (MMConverter3:J1): ; filter(MMConverter3:FL2): 7000 to 14000; mixer(MMConverter3:MX): LO: 17000 (x1) from LO1B:synthesizer, IFo = 17000 - IFi; filter(MMConverter3:FL5): 4000 to 8000; (MMConverter3:J6): ; (IFRouter:J39): ; (IFRouter:J69): ; (OpticalDriver5:J1): ; attenuator(OpticalDriver5:attenuator): ; filter(OpticalDriver5:F8): 5360 to 6640; (OpticalDriver5:J2): ; (OpticalReceiver5:J1): ; (OpticalReceiver5:J3): ; (ConverterModule10:J1): ; mixer(ConverterModule10:MX2): LO: 15467 (x1) from LO2_G6:synthesizer, IFo = 15467 - IFi; filter(ConverterModule10:FL1): 8500 to 10350; mixer(ConverterModule10:MX3): LO: 10500 (x1) from LO3Distribution2:synthesizer, IFo = 10500 - IFi; filter(ConverterModule10:FL2): 0 to 2200; attenuator(ConverterModule10:AT1): ; (ConverterModule10:J9): ; (VEGAS_IF:J11): ; filter(VEGAS_IF:FL2L6): 0 to 1400; (VEGAS_IF:J27): ; (VEGAS:J11): ;</td></tr>\n",
       "<tr><td>VEGAS</td><td>F</td><td>2</td><td>Rcvr68_92</td><td>2</td><td>0</td><td>0</td><td>B2Y2</td><td>LO1A</td><td>synthesizer</td><td>L</td><td>Y</td><td>896499000.0</td><td>77136500000.0</td><td>1007002000.0</td><td>0</td><td>nan</td><td>nan</td><td></td><td></td><td>4.0</td><td>-1.0</td><td>12032998000.0</td><td>29</td><td>feed(Rcvr68_92:B2Y2): 68000 to 92000, linear_y polarization; filter(Rcvr68_92:FL1Y2): 66000 to 92000; mixer(Rcvr68_92:MX1Y2): LO: 66000 (x4) from LO1A:synthesizer, IFo =  IFi - 66000; tone(Rcvr68_92:CY2): 17000 x1; (Rcvr68_92:J4): ; (MMConverter4:J1): ; filter(MMConverter4:FL2): 7000 to 14000; mixer(MMConverter4:MX): LO: 17000 (x1) from LO1B:synthesizer, IFo = 17000 - IFi; filter(MMConverter4:FL5): 4000 to 8000; (MMConverter4:J6): ; (IFRouter:J53): ; (IFRouter:J71): ; (OpticalDriver7:J1): ; attenuator(OpticalDriver7:attenuator): ; filter(OpticalDriver7:F8): 5360 to 6640; (OpticalDriver7:J2): ; (OpticalReceiver7:J1): ; (OpticalReceiver7:J3): ; (ConverterModule14:J1): ; mixer(ConverterModule14:MX2): LO: 15467 (x1) from LO2_G6:synthesizer, IFo = 15467 - IFi; filter(ConverterModule14:FL1): 8500 to 10350; mixer(ConverterModule14:MX3): LO: 10500 (x1) from LO3Distribution2:synthesizer, IFo = 10500 - IFi; filter(ConverterModule14:FL2): 0 to 2200; attenuator(ConverterModule14:AT1): ; (ConverterModule14:J9): ; (VEGAS_IF:J12): ; filter(VEGAS_IF:FL2R6): 0 to 1400; (VEGAS_IF:J28): ; (VEGAS:J12): ;</td></tr>\n",
       "</table>"
      ],
      "text/plain": [
       "<Table length=12>\n",
       "            BACKEND              ...\n",
       "              none               ...\n",
       "             str32               ...\n",
       "-------------------------------- ...\n",
       "DCR                              ...\n",
       "DCR                              ...\n",
       "DCR                              ...\n",
       "DCR                              ...\n",
       "VEGAS                            ...\n",
       "VEGAS                            ...\n",
       "VEGAS                            ...\n",
       "VEGAS                            ...\n",
       "VEGAS                            ...\n",
       "VEGAS                            ...\n",
       "VEGAS                            ...\n",
       "VEGAS                            ..."
      ]
     },
     "execution_count": 57,
     "metadata": {},
     "output_type": "execute_result"
    }
   ],
   "source": [
    "# Load the FITS IF table into an astropy Table\n",
    "if_if_table = Table.read(if_hdul[if_hdul.index_of('IF')])\n",
    "if_if_table"
   ]
  },
  {
   "cell_type": "markdown",
   "metadata": {
    "slideshow": {
     "slide_type": "subslide"
    }
   },
   "source": [
    "Throw out non-DCR rows:"
   ]
  },
  {
   "cell_type": "code",
   "execution_count": 58,
   "metadata": {
    "slideshow": {
     "slide_type": "-"
    }
   },
   "outputs": [
    {
     "data": {
      "text/html": [
       "<i>Table length=4</i>\n",
       "<table id=\"table140316922498744\" class=\"table-striped table-bordered table-condensed\">\n",
       "<thead><tr><th>BACKEND</th><th>BANK</th><th>PORT</th><th>RECEIVER</th><th>FEED</th><th>SRFEED1</th><th>SRFEED2</th><th>RECEPTOR</th><th>LO_CIRCUIT</th><th>LO_COMPONENT</th><th>SIDEBAND</th><th>POLARIZE</th><th>CENTER_IF</th><th>CENTER_SKY</th><th>BANDWDTH</th><th>HIGH_CAL</th><th>TEST_TONE_IF</th><th>TEST_TONE_SKY</th><th>TEST_TONE_CIRCUIT</th><th>TEST_TONE_COMPONENT</th><th>SFF_MULTIPLIER</th><th>SFF_SIDEBAND</th><th>SFF_OFFSET</th><th>TRANSFORM_COUNT</th><th>TRANSFORMS</th></tr></thead>\n",
       "<thead><tr><th>none</th><th>none</th><th>none</th><th>none</th><th>none</th><th>none</th><th>none</th><th>none</th><th>none</th><th>none</th><th>none</th><th>none</th><th>Hz</th><th>Hz</th><th>Hz</th><th>none</th><th>Hz</th><th>Hz</th><th>none</th><th>none</th><th>none</th><th>none</th><th>none</th><th>none</th><th>none</th></tr></thead>\n",
       "<thead><tr><th>str32</th><th>str2</th><th>int32</th><th>str32</th><th>int32</th><th>int32</th><th>int32</th><th>str8</th><th>str32</th><th>str32</th><th>str2</th><th>str2</th><th>float32</th><th>float32</th><th>float32</th><th>int32</th><th>float32</th><th>float32</th><th>str32</th><th>str32</th><th>float64</th><th>float64</th><th>float64</th><th>int32</th><th>str4096</th></tr></thead>\n",
       "<tr><td>DCR</td><td>A</td><td>1</td><td>Rcvr68_92</td><td>1</td><td>0</td><td>0</td><td>B1XL1</td><td>LO1A</td><td>synthesizer</td><td>L</td><td>X</td><td>6000000000.0</td><td>77000000000.0</td><td>1280000000.0</td><td>0</td><td>nan</td><td>nan</td><td></td><td></td><td>4.0</td><td>-1.0</td><td>17000000000.0</td><td>17</td><td>feed(Rcvr68_92:B1XL1): 68000 to 92000, linear_x polarization; filter(Rcvr68_92:FL1XL1): 66000 to 92000; mixer(Rcvr68_92:MX1XL1): LO: 66000 (x4) from LO1A:synthesizer, IFo =  IFi - 66000; tone(Rcvr68_92:CXL1): 17000 x1; (Rcvr68_92:J1): ; (MMConverter1:J1): ; filter(MMConverter1:FL2): 7000 to 14000; mixer(MMConverter1:MX): LO: 17000 (x1) from LO1B:synthesizer, IFo = 17000 - IFi; filter(MMConverter1:FL5): 4000 to 8000; (MMConverter1:J6): ; (IFRouter:J6): ; (IFRouter:J65): ; (OpticalDriver1:J1): ; attenuator(OpticalDriver1:attenuator): ; filter(OpticalDriver1:F8): 5360 to 6640; (OpticalDriver1:J4): ; (DCR:J1): ;</td></tr>\n",
       "<tr><td>DCR</td><td>A</td><td>3</td><td>Rcvr68_92</td><td>1</td><td>0</td><td>0</td><td>B1YR1</td><td>LO1A</td><td>synthesizer</td><td>L</td><td>Y</td><td>6000000000.0</td><td>77000000000.0</td><td>1280000000.0</td><td>0</td><td>nan</td><td>nan</td><td></td><td></td><td>4.0</td><td>-1.0</td><td>17000000000.0</td><td>17</td><td>feed(Rcvr68_92:B1YR1): 68000 to 92000, linear_y polarization; filter(Rcvr68_92:FL1YR1): 66000 to 92000; mixer(Rcvr68_92:MX1YR1): LO: 66000 (x4) from LO1A:synthesizer, IFo =  IFi - 66000; tone(Rcvr68_92:CYR1): 17000 x1; (Rcvr68_92:J2): ; (MMConverter2:J1): ; filter(MMConverter2:FL2): 7000 to 14000; mixer(MMConverter2:MX): LO: 17000 (x1) from LO1B:synthesizer, IFo = 17000 - IFi; filter(MMConverter2:FL5): 4000 to 8000; (MMConverter2:J6): ; (IFRouter:J22): ; (IFRouter:J67): ; (OpticalDriver3:J1): ; attenuator(OpticalDriver3:attenuator): ; filter(OpticalDriver3:F8): 5360 to 6640; (OpticalDriver3:J4): ; (DCR:J3): ;</td></tr>\n",
       "<tr><td>DCR</td><td>A</td><td>5</td><td>Rcvr68_92</td><td>2</td><td>0</td><td>0</td><td>B2X2</td><td>LO1A</td><td>synthesizer</td><td>L</td><td>X</td><td>6000000000.0</td><td>77000000000.0</td><td>1280000000.0</td><td>0</td><td>nan</td><td>nan</td><td></td><td></td><td>4.0</td><td>-1.0</td><td>17000000000.0</td><td>17</td><td>feed(Rcvr68_92:B2X2): 68000 to 92000, linear_x polarization; filter(Rcvr68_92:FL1X2): 66000 to 92000; mixer(Rcvr68_92:MX1X2): LO: 66000 (x4) from LO1A:synthesizer, IFo =  IFi - 66000; tone(Rcvr68_92:CX2): 17000 x1; (Rcvr68_92:J3): ; (MMConverter3:J1): ; filter(MMConverter3:FL2): 7000 to 14000; mixer(MMConverter3:MX): LO: 17000 (x1) from LO1B:synthesizer, IFo = 17000 - IFi; filter(MMConverter3:FL5): 4000 to 8000; (MMConverter3:J6): ; (IFRouter:J39): ; (IFRouter:J69): ; (OpticalDriver5:J1): ; attenuator(OpticalDriver5:attenuator): ; filter(OpticalDriver5:F8): 5360 to 6640; (OpticalDriver5:J4): ; (DCR:J5): ;</td></tr>\n",
       "<tr><td>DCR</td><td>A</td><td>7</td><td>Rcvr68_92</td><td>2</td><td>0</td><td>0</td><td>B2Y2</td><td>LO1A</td><td>synthesizer</td><td>L</td><td>Y</td><td>6000000000.0</td><td>77000000000.0</td><td>1280000000.0</td><td>0</td><td>nan</td><td>nan</td><td></td><td></td><td>4.0</td><td>-1.0</td><td>17000000000.0</td><td>17</td><td>feed(Rcvr68_92:B2Y2): 68000 to 92000, linear_y polarization; filter(Rcvr68_92:FL1Y2): 66000 to 92000; mixer(Rcvr68_92:MX1Y2): LO: 66000 (x4) from LO1A:synthesizer, IFo =  IFi - 66000; tone(Rcvr68_92:CY2): 17000 x1; (Rcvr68_92:J4): ; (MMConverter4:J1): ; filter(MMConverter4:FL2): 7000 to 14000; mixer(MMConverter4:MX): LO: 17000 (x1) from LO1B:synthesizer, IFo = 17000 - IFi; filter(MMConverter4:FL5): 4000 to 8000; (MMConverter4:J6): ; (IFRouter:J53): ; (IFRouter:J71): ; (OpticalDriver7:J1): ; attenuator(OpticalDriver7:attenuator): ; filter(OpticalDriver7:F8): 5360 to 6640; (OpticalDriver7:J4): ; (DCR:J7): ;</td></tr>\n",
       "</table>"
      ],
      "text/plain": [
       "<Table length=4>\n",
       "            BACKEND              ...\n",
       "              none               ...\n",
       "             str32               ...\n",
       "-------------------------------- ...\n",
       "DCR                              ...\n",
       "DCR                              ...\n",
       "DCR                              ...\n",
       "DCR                              ..."
      ]
     },
     "execution_count": 58,
     "metadata": {},
     "output_type": "execute_result"
    }
   ],
   "source": [
    "# Note that we need to strip whitespace here -- our FITS files pad strings to\n",
    "# the full width of their column\n",
    "# After that we can simply create a mask of all rows where the BACKEND column contains \"DCR\"...\n",
    "backend_mask = (np.char.rstrip(if_if_table['BACKEND']) == 'DCR')\n",
    "# ...and use it to create a new view into the table\n",
    "if_if_table = if_if_table[backend_mask]\n",
    "if_if_table"
   ]
  },
  {
   "cell_type": "markdown",
   "metadata": {
    "slideshow": {
     "slide_type": "subslide"
    }
   },
   "source": [
    "Great, so we now have only two rows, one each for our two receptors. Now we trim off the columns that we don't need:"
   ]
  },
  {
   "cell_type": "code",
   "execution_count": 59,
   "metadata": {
    "slideshow": {
     "slide_type": "-"
    }
   },
   "outputs": [
    {
     "data": {
      "text/html": [
       "<i>Table length=4</i>\n",
       "<table id=\"table140316918356512\" class=\"table-striped table-bordered table-condensed\">\n",
       "<thead><tr><th>FEED</th><th>RECEPTOR</th><th>POLARIZE</th><th>CENTER_SKY</th><th>BANDWDTH</th><th>PORT</th><th>HIGH_CAL</th></tr></thead>\n",
       "<thead><tr><th>none</th><th>none</th><th>none</th><th>Hz</th><th>Hz</th><th>none</th><th>none</th></tr></thead>\n",
       "<thead><tr><th>int32</th><th>str8</th><th>str2</th><th>float32</th><th>float32</th><th>int32</th><th>int32</th></tr></thead>\n",
       "<tr><td>1</td><td>B1XL1</td><td>X</td><td>77000000000.0</td><td>1280000000.0</td><td>1</td><td>0</td></tr>\n",
       "<tr><td>1</td><td>B1YR1</td><td>Y</td><td>77000000000.0</td><td>1280000000.0</td><td>3</td><td>0</td></tr>\n",
       "<tr><td>2</td><td>B2X2</td><td>X</td><td>77000000000.0</td><td>1280000000.0</td><td>5</td><td>0</td></tr>\n",
       "<tr><td>2</td><td>B2Y2</td><td>Y</td><td>77000000000.0</td><td>1280000000.0</td><td>7</td><td>0</td></tr>\n",
       "</table>"
      ],
      "text/plain": [
       "<Table length=4>\n",
       " FEED RECEPTOR POLARIZE   CENTER_SKY    BANDWDTH    PORT HIGH_CAL\n",
       " none   none     none         Hz           Hz       none   none  \n",
       "int32   str8     str2      float32      float32    int32  int32  \n",
       "----- -------- -------- ------------- ------------ ----- --------\n",
       "    1 B1XL1          X  77000000000.0 1280000000.0     1        0\n",
       "    1 B1YR1          Y  77000000000.0 1280000000.0     3        0\n",
       "    2 B2X2           X  77000000000.0 1280000000.0     5        0\n",
       "    2 B2Y2           Y  77000000000.0 1280000000.0     7        0"
      ]
     },
     "execution_count": 59,
     "metadata": {},
     "output_type": "execute_result"
    }
   ],
   "source": [
    "if_if_table = if_if_table['FEED', 'RECEPTOR', 'POLARIZE', 'CENTER_SKY', 'BANDWDTH', 'PORT', 'HIGH_CAL']\n",
    "if_if_table"
   ]
  },
  {
   "cell_type": "markdown",
   "metadata": {
    "slideshow": {
     "slide_type": "subslide"
    }
   },
   "source": [
    "We have two more `str` columns; let's strip the whitespace from them, too (in a proper program this would be handled more sensibly, of course)"
   ]
  },
  {
   "cell_type": "code",
   "execution_count": 60,
   "metadata": {
    "slideshow": {
     "slide_type": "-"
    }
   },
   "outputs": [],
   "source": [
    "if_if_table['RECEPTOR'] = np.char.rstrip(if_if_table['RECEPTOR'])\n",
    "if_if_table['POLARIZE'] = np.char.rstrip(if_if_table['POLARIZE'])"
   ]
  },
  {
   "cell_type": "markdown",
   "metadata": {},
   "source": [
    "Now we add a `PORT_INDEX` column to make indexing easier later on:"
   ]
  },
  {
   "cell_type": "code",
   "execution_count": 61,
   "metadata": {},
   "outputs": [
    {
     "data": {
      "text/html": [
       "<i>Table length=4</i>\n",
       "<table id=\"table140316918356512\" class=\"table-striped table-bordered table-condensed\">\n",
       "<thead><tr><th>FEED</th><th>RECEPTOR</th><th>POLARIZE</th><th>CENTER_SKY</th><th>BANDWDTH</th><th>PORT_INDEX</th><th>PORT</th><th>HIGH_CAL</th></tr></thead>\n",
       "<thead><tr><th>none</th><th></th><th></th><th>Hz</th><th>Hz</th><th></th><th>none</th><th>none</th></tr></thead>\n",
       "<thead><tr><th>int32</th><th>str8</th><th>str2</th><th>float32</th><th>float32</th><th>int64</th><th>int32</th><th>int32</th></tr></thead>\n",
       "<tr><td>1</td><td>B1XL1</td><td>X</td><td>77000000000.0</td><td>1280000000.0</td><td>0</td><td>1</td><td>0</td></tr>\n",
       "<tr><td>1</td><td>B1YR1</td><td>Y</td><td>77000000000.0</td><td>1280000000.0</td><td>1</td><td>3</td><td>0</td></tr>\n",
       "<tr><td>2</td><td>B2X2</td><td>X</td><td>77000000000.0</td><td>1280000000.0</td><td>2</td><td>5</td><td>0</td></tr>\n",
       "<tr><td>2</td><td>B2Y2</td><td>Y</td><td>77000000000.0</td><td>1280000000.0</td><td>3</td><td>7</td><td>0</td></tr>\n",
       "</table>"
      ],
      "text/plain": [
       "<Table length=4>\n",
       " FEED RECEPTOR POLARIZE   CENTER_SKY    BANDWDTH   PORT_INDEX  PORT HIGH_CAL\n",
       " none                         Hz           Hz                  none   none  \n",
       "int32   str8     str2      float32      float32      int64    int32  int32  \n",
       "----- -------- -------- ------------- ------------ ---------- ----- --------\n",
       "    1    B1XL1        X 77000000000.0 1280000000.0          0     1        0\n",
       "    1    B1YR1        Y 77000000000.0 1280000000.0          1     3        0\n",
       "    2     B2X2        X 77000000000.0 1280000000.0          2     5        0\n",
       "    2     B2Y2        Y 77000000000.0 1280000000.0          3     7        0"
      ]
     },
     "execution_count": 61,
     "metadata": {},
     "output_type": "execute_result"
    }
   ],
   "source": [
    "if_if_table.add_column(\n",
    "    Column(\n",
    "        name='PORT_INDEX',\n",
    "        data=np.arange(len(np.unique(if_if_table['PORT']))),\n",
    "        \n",
    "    ),\n",
    "    index=if_if_table.columns.keys().index(\"PORT\")\n",
    ")\n",
    "\n",
    "if_if_table"
   ]
  },
  {
   "cell_type": "markdown",
   "metadata": {
    "slideshow": {
     "slide_type": "slide"
    }
   },
   "source": [
    "## Step 3: Joining the Tables"
   ]
  },
  {
   "cell_type": "markdown",
   "metadata": {
    "slideshow": {
     "slide_type": "-"
    }
   },
   "source": [
    "Okay, so we now have all of our tables set up! But for what purpose?\n",
    "\n",
    "We now need to map each physical attribute (beam/port/etc.) to every permutation of phase. This means that, in this simple case, we will end up with `numPols` * `numPhases` (more complicated cases will require more terms). So, we determine that we need to have 8 total rows:"
   ]
  },
  {
   "cell_type": "code",
   "execution_count": 62,
   "metadata": {
    "slideshow": {
     "slide_type": "-"
    }
   },
   "outputs": [
    {
     "name": "stdout",
     "output_type": "stream",
     "text": [
      "4 polarizations...\n",
      "...across 1 phases...\n",
      "...yields 4 total states under which data was taken\n"
     ]
    }
   ],
   "source": [
    "print(\"{} polarizations...\".format(len(if_if_table)))\n",
    "print(\"...across {} phases...\".format(len(dcr_state_table)))\n",
    "print(\"...yields {} total states under which data was taken\".format(len(if_if_table) * len(dcr_state_table)))"
   ]
  },
  {
   "cell_type": "markdown",
   "metadata": {
    "slideshow": {
     "slide_type": "subslide"
    }
   },
   "source": [
    "We can represent these permutations by \"inflating\" our tables using `vstack` so that they are each 8 rows.\n",
    "\n",
    "First the `IF` table:"
   ]
  },
  {
   "cell_type": "code",
   "execution_count": 63,
   "metadata": {
    "slideshow": {
     "slide_type": "-"
    }
   },
   "outputs": [
    {
     "data": {
      "text/html": [
       "<i>Table length=4</i>\n",
       "<table id=\"table140316918356512\" class=\"table-striped table-bordered table-condensed\">\n",
       "<thead><tr><th>FEED</th><th>RECEPTOR</th><th>POLARIZE</th><th>CENTER_SKY</th><th>BANDWDTH</th><th>PORT_INDEX</th><th>PORT</th><th>HIGH_CAL</th></tr></thead>\n",
       "<thead><tr><th>none</th><th></th><th></th><th>Hz</th><th>Hz</th><th></th><th>none</th><th>none</th></tr></thead>\n",
       "<thead><tr><th>int32</th><th>str8</th><th>str2</th><th>float32</th><th>float32</th><th>int64</th><th>int32</th><th>int32</th></tr></thead>\n",
       "<tr><td>1</td><td>B1XL1</td><td>X</td><td>77000000000.0</td><td>1280000000.0</td><td>0</td><td>1</td><td>0</td></tr>\n",
       "<tr><td>1</td><td>B1YR1</td><td>Y</td><td>77000000000.0</td><td>1280000000.0</td><td>1</td><td>3</td><td>0</td></tr>\n",
       "<tr><td>2</td><td>B2X2</td><td>X</td><td>77000000000.0</td><td>1280000000.0</td><td>2</td><td>5</td><td>0</td></tr>\n",
       "<tr><td>2</td><td>B2Y2</td><td>Y</td><td>77000000000.0</td><td>1280000000.0</td><td>3</td><td>7</td><td>0</td></tr>\n",
       "</table>"
      ],
      "text/plain": [
       "<Table length=4>\n",
       " FEED RECEPTOR POLARIZE   CENTER_SKY    BANDWDTH   PORT_INDEX  PORT HIGH_CAL\n",
       " none                         Hz           Hz                  none   none  \n",
       "int32   str8     str2      float32      float32      int64    int32  int32  \n",
       "----- -------- -------- ------------- ------------ ---------- ----- --------\n",
       "    1    B1XL1        X 77000000000.0 1280000000.0          0     1        0\n",
       "    1    B1YR1        Y 77000000000.0 1280000000.0          1     3        0\n",
       "    2     B2X2        X 77000000000.0 1280000000.0          2     5        0\n",
       "    2     B2Y2        Y 77000000000.0 1280000000.0          3     7        0"
      ]
     },
     "execution_count": 63,
     "metadata": {},
     "output_type": "execute_result"
    }
   ],
   "source": [
    "from astropy.table import vstack\n",
    "\n",
    "# Stack the IF table on top of itself 4 times to yield 8 total rows\n",
    "stacked_if_table = vstack([if_if_table] * len(dcr_state_table))\n",
    "# We must sort here so that we can properly join with the state table later -- we need one port on top of the other,\n",
    "# not mixed together!\n",
    "stacked_if_table.sort('PORT')\n",
    "stacked_if_table"
   ]
  },
  {
   "cell_type": "markdown",
   "metadata": {},
   "source": [
    "And now the `STATE` table:"
   ]
  },
  {
   "cell_type": "code",
   "execution_count": 64,
   "metadata": {
    "slideshow": {
     "slide_type": "subslide"
    }
   },
   "outputs": [
    {
     "data": {
      "text/html": [
       "<i>Table length=4</i>\n",
       "<table id=\"table140316922552616\" class=\"table-striped table-bordered table-condensed\">\n",
       "<thead><tr><th>SIGREF</th><th>CAL</th><th>PHASE_INDEX</th><th>PHASE</th></tr></thead>\n",
       "<thead><tr><th>uint8</th><th>uint8</th><th>int64</th><th>str15</th></tr></thead>\n",
       "<tr><td>0</td><td>0</td><td>0</td><td>Signal / No Cal</td></tr>\n",
       "<tr><td>0</td><td>0</td><td>0</td><td>Signal / No Cal</td></tr>\n",
       "<tr><td>0</td><td>0</td><td>0</td><td>Signal / No Cal</td></tr>\n",
       "<tr><td>0</td><td>0</td><td>0</td><td>Signal / No Cal</td></tr>\n",
       "</table>"
      ],
      "text/plain": [
       "<Table length=4>\n",
       "SIGREF  CAL  PHASE_INDEX      PHASE     \n",
       "uint8  uint8    int64         str15     \n",
       "------ ----- ----------- ---------------\n",
       "     0     0           0 Signal / No Cal\n",
       "     0     0           0 Signal / No Cal\n",
       "     0     0           0 Signal / No Cal\n",
       "     0     0           0 Signal / No Cal"
      ]
     },
     "execution_count": 64,
     "metadata": {},
     "output_type": "execute_result"
    }
   ],
   "source": [
    "# Stack STATE table on top of itself 2 times to reach 8 total rows\n",
    "stacked_state_table = vstack([dcr_state_table] * len(if_if_table))\n",
    "stacked_state_table"
   ]
  },
  {
   "cell_type": "markdown",
   "metadata": {
    "slideshow": {
     "slide_type": "subslide"
    }
   },
   "source": [
    "Great, now we have two tables of compatible shapes! We just need to stick them together:"
   ]
  },
  {
   "cell_type": "code",
   "execution_count": 65,
   "metadata": {
    "slideshow": {
     "slide_type": "-"
    }
   },
   "outputs": [
    {
     "data": {
      "text/html": [
       "<i>Table length=4</i>\n",
       "<table id=\"table140317000699408\" class=\"table-striped table-bordered table-condensed\">\n",
       "<thead><tr><th>FEED</th><th>RECEPTOR</th><th>POLARIZE</th><th>CENTER_SKY</th><th>BANDWDTH</th><th>PORT_INDEX</th><th>PORT</th><th>HIGH_CAL</th><th>SIGREF</th><th>CAL</th><th>PHASE_INDEX</th><th>PHASE</th></tr></thead>\n",
       "<thead><tr><th>none</th><th></th><th></th><th>Hz</th><th>Hz</th><th></th><th>none</th><th>none</th><th></th><th></th><th></th><th></th></tr></thead>\n",
       "<thead><tr><th>int32</th><th>str8</th><th>str2</th><th>float32</th><th>float32</th><th>int64</th><th>int32</th><th>int32</th><th>uint8</th><th>uint8</th><th>int64</th><th>str15</th></tr></thead>\n",
       "<tr><td>1</td><td>B1XL1</td><td>X</td><td>77000000000.0</td><td>1280000000.0</td><td>0</td><td>1</td><td>0</td><td>0</td><td>0</td><td>0</td><td>Signal / No Cal</td></tr>\n",
       "<tr><td>1</td><td>B1YR1</td><td>Y</td><td>77000000000.0</td><td>1280000000.0</td><td>1</td><td>3</td><td>0</td><td>0</td><td>0</td><td>0</td><td>Signal / No Cal</td></tr>\n",
       "<tr><td>2</td><td>B2X2</td><td>X</td><td>77000000000.0</td><td>1280000000.0</td><td>2</td><td>5</td><td>0</td><td>0</td><td>0</td><td>0</td><td>Signal / No Cal</td></tr>\n",
       "<tr><td>2</td><td>B2Y2</td><td>Y</td><td>77000000000.0</td><td>1280000000.0</td><td>3</td><td>7</td><td>0</td><td>0</td><td>0</td><td>0</td><td>Signal / No Cal</td></tr>\n",
       "</table>"
      ],
      "text/plain": [
       "<Table length=4>\n",
       " FEED RECEPTOR POLARIZE   CENTER_SKY  ...  CAL  PHASE_INDEX      PHASE     \n",
       " none                         Hz      ...                                  \n",
       "int32   str8     str2      float32    ... uint8    int64         str15     \n",
       "----- -------- -------- ------------- ... ----- ----------- ---------------\n",
       "    1    B1XL1        X 77000000000.0 ...     0           0 Signal / No Cal\n",
       "    1    B1YR1        Y 77000000000.0 ...     0           0 Signal / No Cal\n",
       "    2     B2X2        X 77000000000.0 ...     0           0 Signal / No Cal\n",
       "    2     B2Y2        Y 77000000000.0 ...     0           0 Signal / No Cal"
      ]
     },
     "execution_count": 65,
     "metadata": {},
     "output_type": "execute_result"
    }
   ],
   "source": [
    "# Ignore the warnings here; don't care in this simple example\n",
    "import warnings\n",
    "from astropy.utils.exceptions import AstropyWarning\n",
    "warnings.simplefilter('ignore', AstropyWarning)\n",
    "\n",
    "from astropy.table import hstack\n",
    "\n",
    "# Join the tables together horizontally\n",
    "dcr_table = hstack([stacked_if_table, stacked_state_table])\n",
    "dcr_table"
   ]
  },
  {
   "cell_type": "markdown",
   "metadata": {
    "slideshow": {
     "slide_type": "slide"
    }
   },
   "source": [
    "## Data Selection"
   ]
  },
  {
   "cell_type": "markdown",
   "metadata": {
    "slideshow": {
     "slide_type": "-"
    }
   },
   "source": [
    "Now, let's take a quick detour to discuss how the data selection is going to work. `DCR.DATA.DATA` is time-domain data (i.e. per-integration) of the shape `(integration, port, phase)`:"
   ]
  },
  {
   "cell_type": "code",
   "execution_count": 66,
   "metadata": {
    "slideshow": {
     "slide_type": "-"
    }
   },
   "outputs": [
    {
     "name": "stdout",
     "output_type": "stream",
     "text": [
      "Shape: (3649, 4, 1)\n",
      "i.e. 3649 integrations, each with data from 4 ports, each with data taken across 1 phases\n"
     ]
    }
   ],
   "source": [
    "print(\"Shape: {}\".format(dcr_data_table['DATA'].shape))\n",
    "print(\"i.e. {} integrations, each with data from {} ports, each with data taken across {} phases\".format(*dcr_data_table['DATA'].shape))"
   ]
  },
  {
   "cell_type": "markdown",
   "metadata": {
    "slideshow": {
     "slide_type": "subslide"
    }
   },
   "source": [
    "We need to slice this out into the physical domain (i.e. per-data-stream) -- that is, get all of the data from all integrations that was taken for each unique set of physical attributes (port and phase). Let's take the first port (2) and the first phase (0, 0) as an example:"
   ]
  },
  {
   "cell_type": "code",
   "execution_count": 67,
   "metadata": {
    "slideshow": {
     "slide_type": "-"
    }
   },
   "outputs": [
    {
     "data": {
      "text/plain": [
       "array([[150233],\n",
       "       [134391],\n",
       "       [155981],\n",
       "       [137184]], dtype=int32)"
      ]
     },
     "execution_count": 67,
     "metadata": {},
     "output_type": "execute_result"
    }
   ],
   "source": [
    "data = dcr_data_table['DATA']\n",
    "# All data taken in the first integration\n",
    "data[0]"
   ]
  },
  {
   "cell_type": "code",
   "execution_count": 68,
   "metadata": {
    "slideshow": {
     "slide_type": "fragment"
    }
   },
   "outputs": [
    {
     "data": {
      "text/plain": [
       "array([150233], dtype=int32)"
      ]
     },
     "execution_count": 68,
     "metadata": {},
     "output_type": "execute_result"
    }
   ],
   "source": [
    "# All data taken via the first port in the first integration\n",
    "data[0][0]"
   ]
  },
  {
   "cell_type": "code",
   "execution_count": 69,
   "metadata": {
    "slideshow": {
     "slide_type": "fragment"
    }
   },
   "outputs": [
    {
     "data": {
      "text/plain": [
       "150233"
      ]
     },
     "execution_count": 69,
     "metadata": {},
     "output_type": "execute_result"
    }
   ],
   "source": [
    "# Phase \"Signal / No Cal\" datum taken via the first port in the first integration\n",
    "data[0][0][0]"
   ]
  },
  {
   "cell_type": "markdown",
   "metadata": {
    "slideshow": {
     "slide_type": "subslide"
    }
   },
   "source": [
    "#### NumPy Data Selection\n",
    "\n",
    "But, how do we select data from this port/phase over _all_ integrations?"
   ]
  },
  {
   "cell_type": "code",
   "execution_count": 70,
   "metadata": {
    "scrolled": true,
    "slideshow": {
     "slide_type": "fragment"
    }
   },
   "outputs": [
    {
     "data": {
      "text/html": [
       "&lt;Column name=&apos;DATA&apos; dtype=&apos;int32&apos; shape=(1,) unit=&apos;COUNTS&apos; length=3649&gt;\n",
       "<table>\n",
       "<tr><td>150233</td></tr>\n",
       "<tr><td>149713</td></tr>\n",
       "<tr><td>149607</td></tr>\n",
       "<tr><td>150284</td></tr>\n",
       "<tr><td>149852</td></tr>\n",
       "<tr><td>149472</td></tr>\n",
       "<tr><td>149142</td></tr>\n",
       "<tr><td>148620</td></tr>\n",
       "<tr><td>148509</td></tr>\n",
       "<tr><td>148422</td></tr>\n",
       "<tr><td>148341</td></tr>\n",
       "<tr><td>148276</td></tr>\n",
       "<tr><td>...</td></tr>\n",
       "<tr><td>149680</td></tr>\n",
       "<tr><td>149138</td></tr>\n",
       "<tr><td>148586</td></tr>\n",
       "<tr><td>148449</td></tr>\n",
       "<tr><td>148577</td></tr>\n",
       "<tr><td>148464</td></tr>\n",
       "<tr><td>148509</td></tr>\n",
       "<tr><td>148500</td></tr>\n",
       "<tr><td>148477</td></tr>\n",
       "<tr><td>148561</td></tr>\n",
       "<tr><td>148766</td></tr>\n",
       "<tr><td>149147</td></tr>\n",
       "</table>"
      ],
      "text/plain": [
       "<Column name='DATA' dtype='int32' shape=(1,) unit='COUNTS' length=3649>\n",
       "150233\n",
       "149713\n",
       "149607\n",
       "150284\n",
       "149852\n",
       "149472\n",
       "149142\n",
       "148620\n",
       "148509\n",
       "148422\n",
       "148341\n",
       "148276\n",
       "   ...\n",
       "149680\n",
       "149138\n",
       "148586\n",
       "148449\n",
       "148577\n",
       "148464\n",
       "148509\n",
       "148500\n",
       "148477\n",
       "148561\n",
       "148766\n",
       "149147"
      ]
     },
     "execution_count": 70,
     "metadata": {},
     "output_type": "execute_result"
    }
   ],
   "source": [
    "# All data taken via the first port\n",
    "data[:, 0]"
   ]
  },
  {
   "cell_type": "code",
   "execution_count": 71,
   "metadata": {
    "scrolled": true,
    "slideshow": {
     "slide_type": "fragment"
    }
   },
   "outputs": [
    {
     "data": {
      "text/html": [
       "&lt;Column name=&apos;DATA&apos; dtype=&apos;int32&apos; unit=&apos;COUNTS&apos; length=3649&gt;\n",
       "<table>\n",
       "<tr><td>150233</td></tr>\n",
       "<tr><td>149713</td></tr>\n",
       "<tr><td>149607</td></tr>\n",
       "<tr><td>150284</td></tr>\n",
       "<tr><td>149852</td></tr>\n",
       "<tr><td>149472</td></tr>\n",
       "<tr><td>149142</td></tr>\n",
       "<tr><td>148620</td></tr>\n",
       "<tr><td>148509</td></tr>\n",
       "<tr><td>148422</td></tr>\n",
       "<tr><td>148341</td></tr>\n",
       "<tr><td>148276</td></tr>\n",
       "<tr><td>...</td></tr>\n",
       "<tr><td>149680</td></tr>\n",
       "<tr><td>149138</td></tr>\n",
       "<tr><td>148586</td></tr>\n",
       "<tr><td>148449</td></tr>\n",
       "<tr><td>148577</td></tr>\n",
       "<tr><td>148464</td></tr>\n",
       "<tr><td>148509</td></tr>\n",
       "<tr><td>148500</td></tr>\n",
       "<tr><td>148477</td></tr>\n",
       "<tr><td>148561</td></tr>\n",
       "<tr><td>148766</td></tr>\n",
       "<tr><td>149147</td></tr>\n",
       "</table>"
      ],
      "text/plain": [
       "<Column name='DATA' dtype='int32' unit='COUNTS' length=3649>\n",
       "150233\n",
       "149713\n",
       "149607\n",
       "150284\n",
       "149852\n",
       "149472\n",
       "149142\n",
       "148620\n",
       "148509\n",
       "148422\n",
       "148341\n",
       "148276\n",
       "   ...\n",
       "149680\n",
       "149138\n",
       "148586\n",
       "148449\n",
       "148577\n",
       "148464\n",
       "148509\n",
       "148500\n",
       "148477\n",
       "148561\n",
       "148766\n",
       "149147"
      ]
     },
     "execution_count": 71,
     "metadata": {},
     "output_type": "execute_result"
    }
   ],
   "source": [
    "# All data with phase phase \"Signal / No Cal\" taken via the first port\n",
    "data[:, 0, 0]"
   ]
  },
  {
   "cell_type": "markdown",
   "metadata": {
    "slideshow": {
     "slide_type": "slide"
    }
   },
   "source": [
    "## Step 4: Map the Data"
   ]
  },
  {
   "cell_type": "markdown",
   "metadata": {
    "slideshow": {
     "slide_type": "-"
    }
   },
   "source": [
    "Add an empty DATA column as a placeholder:"
   ]
  },
  {
   "cell_type": "code",
   "execution_count": 72,
   "metadata": {
    "slideshow": {
     "slide_type": "-"
    }
   },
   "outputs": [
    {
     "data": {
      "text/html": [
       "<i>Table length=4</i>\n",
       "<table id=\"table140317000699408\" class=\"table-striped table-bordered table-condensed\">\n",
       "<thead><tr><th>FEED</th><th>RECEPTOR</th><th>POLARIZE</th><th>CENTER_SKY</th><th>BANDWDTH</th><th>PORT_INDEX</th><th>PORT</th><th>HIGH_CAL</th><th>SIGREF</th><th>CAL</th><th>PHASE_INDEX</th><th>PHASE</th><th>DATA [3649]</th></tr></thead>\n",
       "<thead><tr><th>none</th><th></th><th></th><th>Hz</th><th>Hz</th><th></th><th>none</th><th>none</th><th></th><th></th><th></th><th></th><th></th></tr></thead>\n",
       "<thead><tr><th>int32</th><th>str8</th><th>str2</th><th>float32</th><th>float32</th><th>int64</th><th>int32</th><th>int32</th><th>uint8</th><th>uint8</th><th>int64</th><th>str15</th><th>int32</th></tr></thead>\n",
       "<tr><td>1</td><td>B1XL1</td><td>X</td><td>77000000000.0</td><td>1280000000.0</td><td>0</td><td>1</td><td>0</td><td>0</td><td>0</td><td>0</td><td>Signal / No Cal</td><td>0 .. 0</td></tr>\n",
       "<tr><td>1</td><td>B1YR1</td><td>Y</td><td>77000000000.0</td><td>1280000000.0</td><td>1</td><td>3</td><td>0</td><td>0</td><td>0</td><td>0</td><td>Signal / No Cal</td><td>0 .. 0</td></tr>\n",
       "<tr><td>2</td><td>B2X2</td><td>X</td><td>77000000000.0</td><td>1280000000.0</td><td>2</td><td>5</td><td>0</td><td>0</td><td>0</td><td>0</td><td>Signal / No Cal</td><td>0 .. 0</td></tr>\n",
       "<tr><td>2</td><td>B2Y2</td><td>Y</td><td>77000000000.0</td><td>1280000000.0</td><td>3</td><td>7</td><td>0</td><td>0</td><td>0</td><td>0</td><td>Signal / No Cal</td><td>0 .. 0</td></tr>\n",
       "</table>"
      ],
      "text/plain": [
       "<Table length=4>\n",
       " FEED RECEPTOR POLARIZE ... PHASE_INDEX      PHASE      DATA [3649]\n",
       " none                   ...                                        \n",
       "int32   str8     str2   ...    int64         str15         int32   \n",
       "----- -------- -------- ... ----------- --------------- -----------\n",
       "    1    B1XL1        X ...           0 Signal / No Cal      0 .. 0\n",
       "    1    B1YR1        Y ...           0 Signal / No Cal      0 .. 0\n",
       "    2     B2X2        X ...           0 Signal / No Cal      0 .. 0\n",
       "    2     B2Y2        Y ...           0 Signal / No Cal      0 .. 0"
      ]
     },
     "execution_count": 72,
     "metadata": {},
     "output_type": "execute_result"
    }
   ],
   "source": [
    "dcr_table.add_column(\n",
    "    Column(\n",
    "        name='DATA',\n",
    "        dtype=dcr_data_table['DATA'].dtype,\n",
    "        shape=dcr_data_table['DATA'].shape[0],\n",
    "        length=len(dcr_table)\n",
    "    )\n",
    ")\n",
    "dcr_table"
   ]
  },
  {
   "cell_type": "markdown",
   "metadata": {
    "slideshow": {
     "slide_type": "subslide"
    }
   },
   "source": [
    "Now, perform the actual selection of the data:"
   ]
  },
  {
   "cell_type": "code",
   "execution_count": 73,
   "metadata": {
    "slideshow": {
     "slide_type": "-"
    }
   },
   "outputs": [
    {
     "data": {
      "text/html": [
       "<i>Table length=4</i>\n",
       "<table id=\"table140317000699408\" class=\"table-striped table-bordered table-condensed\">\n",
       "<thead><tr><th>FEED</th><th>RECEPTOR</th><th>POLARIZE</th><th>CENTER_SKY</th><th>BANDWDTH</th><th>PORT_INDEX</th><th>PORT</th><th>HIGH_CAL</th><th>SIGREF</th><th>CAL</th><th>PHASE_INDEX</th><th>PHASE</th><th>DATA [3649]</th></tr></thead>\n",
       "<thead><tr><th>none</th><th></th><th></th><th>Hz</th><th>Hz</th><th></th><th>none</th><th>none</th><th></th><th></th><th></th><th></th><th></th></tr></thead>\n",
       "<thead><tr><th>int32</th><th>str8</th><th>str2</th><th>float32</th><th>float32</th><th>int64</th><th>int32</th><th>int32</th><th>uint8</th><th>uint8</th><th>int64</th><th>str15</th><th>int32</th></tr></thead>\n",
       "<tr><td>1</td><td>B1XL1</td><td>X</td><td>77000000000.0</td><td>1280000000.0</td><td>0</td><td>1</td><td>0</td><td>0</td><td>0</td><td>0</td><td>Signal / No Cal</td><td>150233 .. 149147</td></tr>\n",
       "<tr><td>1</td><td>B1YR1</td><td>Y</td><td>77000000000.0</td><td>1280000000.0</td><td>1</td><td>3</td><td>0</td><td>0</td><td>0</td><td>0</td><td>Signal / No Cal</td><td>134391 .. 133583</td></tr>\n",
       "<tr><td>2</td><td>B2X2</td><td>X</td><td>77000000000.0</td><td>1280000000.0</td><td>2</td><td>5</td><td>0</td><td>0</td><td>0</td><td>0</td><td>Signal / No Cal</td><td>155981 .. 155779</td></tr>\n",
       "<tr><td>2</td><td>B2Y2</td><td>Y</td><td>77000000000.0</td><td>1280000000.0</td><td>3</td><td>7</td><td>0</td><td>0</td><td>0</td><td>0</td><td>Signal / No Cal</td><td>137184 .. 137654</td></tr>\n",
       "</table>"
      ],
      "text/plain": [
       "<Table length=4>\n",
       " FEED RECEPTOR POLARIZE ... PHASE_INDEX      PHASE        DATA [3649]   \n",
       " none                   ...                                             \n",
       "int32   str8     str2   ...    int64         str15           int32      \n",
       "----- -------- -------- ... ----------- --------------- ----------------\n",
       "    1    B1XL1        X ...           0 Signal / No Cal 150233 .. 149147\n",
       "    1    B1YR1        Y ...           0 Signal / No Cal 134391 .. 133583\n",
       "    2     B2X2        X ...           0 Signal / No Cal 155981 .. 155779\n",
       "    2     B2Y2        Y ...           0 Signal / No Cal 137184 .. 137654"
      ]
     },
     "execution_count": 73,
     "metadata": {},
     "output_type": "execute_result"
    }
   ],
   "source": [
    "# For every row in our table...\n",
    "for ri, row in enumerate(dcr_table):\n",
    "    # ...Slice out the data from the DCR DATA table associated with the current phase and port,\n",
    "    # and put it in the the DATA column of our new table\n",
    "    dcr_table['DATA'][ri] = dcr_data_table['DATA'][::, row['PORT_INDEX'], row['PHASE_INDEX']]\n",
    "    \n",
    "dcr_table"
   ]
  },
  {
   "cell_type": "markdown",
   "metadata": {
    "slideshow": {
     "slide_type": "slide"
    }
   },
   "source": [
    "Okay... but what can we *do* with this?\n",
    "\n",
    "Let's try out something similar to what you might do in GFM: plot the \"Signal / No Cal\" phase for both polarizations"
   ]
  },
  {
   "cell_type": "code",
   "execution_count": 75,
   "metadata": {
    "slideshow": {
     "slide_type": "slide"
    }
   },
   "outputs": [
    {
     "data": {
      "application/javascript": [
       "/* Put everything inside the global mpl namespace */\n",
       "window.mpl = {};\n",
       "\n",
       "\n",
       "mpl.get_websocket_type = function() {\n",
       "    if (typeof(WebSocket) !== 'undefined') {\n",
       "        return WebSocket;\n",
       "    } else if (typeof(MozWebSocket) !== 'undefined') {\n",
       "        return MozWebSocket;\n",
       "    } else {\n",
       "        alert('Your browser does not have WebSocket support.' +\n",
       "              'Please try Chrome, Safari or Firefox ≥ 6. ' +\n",
       "              'Firefox 4 and 5 are also supported but you ' +\n",
       "              'have to enable WebSockets in about:config.');\n",
       "    };\n",
       "}\n",
       "\n",
       "mpl.figure = function(figure_id, websocket, ondownload, parent_element) {\n",
       "    this.id = figure_id;\n",
       "\n",
       "    this.ws = websocket;\n",
       "\n",
       "    this.supports_binary = (this.ws.binaryType != undefined);\n",
       "\n",
       "    if (!this.supports_binary) {\n",
       "        var warnings = document.getElementById(\"mpl-warnings\");\n",
       "        if (warnings) {\n",
       "            warnings.style.display = 'block';\n",
       "            warnings.textContent = (\n",
       "                \"This browser does not support binary websocket messages. \" +\n",
       "                    \"Performance may be slow.\");\n",
       "        }\n",
       "    }\n",
       "\n",
       "    this.imageObj = new Image();\n",
       "\n",
       "    this.context = undefined;\n",
       "    this.message = undefined;\n",
       "    this.canvas = undefined;\n",
       "    this.rubberband_canvas = undefined;\n",
       "    this.rubberband_context = undefined;\n",
       "    this.format_dropdown = undefined;\n",
       "\n",
       "    this.image_mode = 'full';\n",
       "\n",
       "    this.root = $('<div/>');\n",
       "    this._root_extra_style(this.root)\n",
       "    this.root.attr('style', 'display: inline-block');\n",
       "\n",
       "    $(parent_element).append(this.root);\n",
       "\n",
       "    this._init_header(this);\n",
       "    this._init_canvas(this);\n",
       "    this._init_toolbar(this);\n",
       "\n",
       "    var fig = this;\n",
       "\n",
       "    this.waiting = false;\n",
       "\n",
       "    this.ws.onopen =  function () {\n",
       "            fig.send_message(\"supports_binary\", {value: fig.supports_binary});\n",
       "            fig.send_message(\"send_image_mode\", {});\n",
       "            if (mpl.ratio != 1) {\n",
       "                fig.send_message(\"set_dpi_ratio\", {'dpi_ratio': mpl.ratio});\n",
       "            }\n",
       "            fig.send_message(\"refresh\", {});\n",
       "        }\n",
       "\n",
       "    this.imageObj.onload = function() {\n",
       "            if (fig.image_mode == 'full') {\n",
       "                // Full images could contain transparency (where diff images\n",
       "                // almost always do), so we need to clear the canvas so that\n",
       "                // there is no ghosting.\n",
       "                fig.context.clearRect(0, 0, fig.canvas.width, fig.canvas.height);\n",
       "            }\n",
       "            fig.context.drawImage(fig.imageObj, 0, 0);\n",
       "        };\n",
       "\n",
       "    this.imageObj.onunload = function() {\n",
       "        fig.ws.close();\n",
       "    }\n",
       "\n",
       "    this.ws.onmessage = this._make_on_message_function(this);\n",
       "\n",
       "    this.ondownload = ondownload;\n",
       "}\n",
       "\n",
       "mpl.figure.prototype._init_header = function() {\n",
       "    var titlebar = $(\n",
       "        '<div class=\"ui-dialog-titlebar ui-widget-header ui-corner-all ' +\n",
       "        'ui-helper-clearfix\"/>');\n",
       "    var titletext = $(\n",
       "        '<div class=\"ui-dialog-title\" style=\"width: 100%; ' +\n",
       "        'text-align: center; padding: 3px;\"/>');\n",
       "    titlebar.append(titletext)\n",
       "    this.root.append(titlebar);\n",
       "    this.header = titletext[0];\n",
       "}\n",
       "\n",
       "\n",
       "\n",
       "mpl.figure.prototype._canvas_extra_style = function(canvas_div) {\n",
       "\n",
       "}\n",
       "\n",
       "\n",
       "mpl.figure.prototype._root_extra_style = function(canvas_div) {\n",
       "\n",
       "}\n",
       "\n",
       "mpl.figure.prototype._init_canvas = function() {\n",
       "    var fig = this;\n",
       "\n",
       "    var canvas_div = $('<div/>');\n",
       "\n",
       "    canvas_div.attr('style', 'position: relative; clear: both; outline: 0');\n",
       "\n",
       "    function canvas_keyboard_event(event) {\n",
       "        return fig.key_event(event, event['data']);\n",
       "    }\n",
       "\n",
       "    canvas_div.keydown('key_press', canvas_keyboard_event);\n",
       "    canvas_div.keyup('key_release', canvas_keyboard_event);\n",
       "    this.canvas_div = canvas_div\n",
       "    this._canvas_extra_style(canvas_div)\n",
       "    this.root.append(canvas_div);\n",
       "\n",
       "    var canvas = $('<canvas/>');\n",
       "    canvas.addClass('mpl-canvas');\n",
       "    canvas.attr('style', \"left: 0; top: 0; z-index: 0; outline: 0\")\n",
       "\n",
       "    this.canvas = canvas[0];\n",
       "    this.context = canvas[0].getContext(\"2d\");\n",
       "\n",
       "    var backingStore = this.context.backingStorePixelRatio ||\n",
       "\tthis.context.webkitBackingStorePixelRatio ||\n",
       "\tthis.context.mozBackingStorePixelRatio ||\n",
       "\tthis.context.msBackingStorePixelRatio ||\n",
       "\tthis.context.oBackingStorePixelRatio ||\n",
       "\tthis.context.backingStorePixelRatio || 1;\n",
       "\n",
       "    mpl.ratio = (window.devicePixelRatio || 1) / backingStore;\n",
       "\n",
       "    var rubberband = $('<canvas/>');\n",
       "    rubberband.attr('style', \"position: absolute; left: 0; top: 0; z-index: 1;\")\n",
       "\n",
       "    var pass_mouse_events = true;\n",
       "\n",
       "    canvas_div.resizable({\n",
       "        start: function(event, ui) {\n",
       "            pass_mouse_events = false;\n",
       "        },\n",
       "        resize: function(event, ui) {\n",
       "            fig.request_resize(ui.size.width, ui.size.height);\n",
       "        },\n",
       "        stop: function(event, ui) {\n",
       "            pass_mouse_events = true;\n",
       "            fig.request_resize(ui.size.width, ui.size.height);\n",
       "        },\n",
       "    });\n",
       "\n",
       "    function mouse_event_fn(event) {\n",
       "        if (pass_mouse_events)\n",
       "            return fig.mouse_event(event, event['data']);\n",
       "    }\n",
       "\n",
       "    rubberband.mousedown('button_press', mouse_event_fn);\n",
       "    rubberband.mouseup('button_release', mouse_event_fn);\n",
       "    // Throttle sequential mouse events to 1 every 20ms.\n",
       "    rubberband.mousemove('motion_notify', mouse_event_fn);\n",
       "\n",
       "    rubberband.mouseenter('figure_enter', mouse_event_fn);\n",
       "    rubberband.mouseleave('figure_leave', mouse_event_fn);\n",
       "\n",
       "    canvas_div.on(\"wheel\", function (event) {\n",
       "        event = event.originalEvent;\n",
       "        event['data'] = 'scroll'\n",
       "        if (event.deltaY < 0) {\n",
       "            event.step = 1;\n",
       "        } else {\n",
       "            event.step = -1;\n",
       "        }\n",
       "        mouse_event_fn(event);\n",
       "    });\n",
       "\n",
       "    canvas_div.append(canvas);\n",
       "    canvas_div.append(rubberband);\n",
       "\n",
       "    this.rubberband = rubberband;\n",
       "    this.rubberband_canvas = rubberband[0];\n",
       "    this.rubberband_context = rubberband[0].getContext(\"2d\");\n",
       "    this.rubberband_context.strokeStyle = \"#000000\";\n",
       "\n",
       "    this._resize_canvas = function(width, height) {\n",
       "        // Keep the size of the canvas, canvas container, and rubber band\n",
       "        // canvas in synch.\n",
       "        canvas_div.css('width', width)\n",
       "        canvas_div.css('height', height)\n",
       "\n",
       "        canvas.attr('width', width * mpl.ratio);\n",
       "        canvas.attr('height', height * mpl.ratio);\n",
       "        canvas.attr('style', 'width: ' + width + 'px; height: ' + height + 'px;');\n",
       "\n",
       "        rubberband.attr('width', width);\n",
       "        rubberband.attr('height', height);\n",
       "    }\n",
       "\n",
       "    // Set the figure to an initial 600x600px, this will subsequently be updated\n",
       "    // upon first draw.\n",
       "    this._resize_canvas(600, 600);\n",
       "\n",
       "    // Disable right mouse context menu.\n",
       "    $(this.rubberband_canvas).bind(\"contextmenu\",function(e){\n",
       "        return false;\n",
       "    });\n",
       "\n",
       "    function set_focus () {\n",
       "        canvas.focus();\n",
       "        canvas_div.focus();\n",
       "    }\n",
       "\n",
       "    window.setTimeout(set_focus, 100);\n",
       "}\n",
       "\n",
       "mpl.figure.prototype._init_toolbar = function() {\n",
       "    var fig = this;\n",
       "\n",
       "    var nav_element = $('<div/>')\n",
       "    nav_element.attr('style', 'width: 100%');\n",
       "    this.root.append(nav_element);\n",
       "\n",
       "    // Define a callback function for later on.\n",
       "    function toolbar_event(event) {\n",
       "        return fig.toolbar_button_onclick(event['data']);\n",
       "    }\n",
       "    function toolbar_mouse_event(event) {\n",
       "        return fig.toolbar_button_onmouseover(event['data']);\n",
       "    }\n",
       "\n",
       "    for(var toolbar_ind in mpl.toolbar_items) {\n",
       "        var name = mpl.toolbar_items[toolbar_ind][0];\n",
       "        var tooltip = mpl.toolbar_items[toolbar_ind][1];\n",
       "        var image = mpl.toolbar_items[toolbar_ind][2];\n",
       "        var method_name = mpl.toolbar_items[toolbar_ind][3];\n",
       "\n",
       "        if (!name) {\n",
       "            // put a spacer in here.\n",
       "            continue;\n",
       "        }\n",
       "        var button = $('<button/>');\n",
       "        button.addClass('ui-button ui-widget ui-state-default ui-corner-all ' +\n",
       "                        'ui-button-icon-only');\n",
       "        button.attr('role', 'button');\n",
       "        button.attr('aria-disabled', 'false');\n",
       "        button.click(method_name, toolbar_event);\n",
       "        button.mouseover(tooltip, toolbar_mouse_event);\n",
       "\n",
       "        var icon_img = $('<span/>');\n",
       "        icon_img.addClass('ui-button-icon-primary ui-icon');\n",
       "        icon_img.addClass(image);\n",
       "        icon_img.addClass('ui-corner-all');\n",
       "\n",
       "        var tooltip_span = $('<span/>');\n",
       "        tooltip_span.addClass('ui-button-text');\n",
       "        tooltip_span.html(tooltip);\n",
       "\n",
       "        button.append(icon_img);\n",
       "        button.append(tooltip_span);\n",
       "\n",
       "        nav_element.append(button);\n",
       "    }\n",
       "\n",
       "    var fmt_picker_span = $('<span/>');\n",
       "\n",
       "    var fmt_picker = $('<select/>');\n",
       "    fmt_picker.addClass('mpl-toolbar-option ui-widget ui-widget-content');\n",
       "    fmt_picker_span.append(fmt_picker);\n",
       "    nav_element.append(fmt_picker_span);\n",
       "    this.format_dropdown = fmt_picker[0];\n",
       "\n",
       "    for (var ind in mpl.extensions) {\n",
       "        var fmt = mpl.extensions[ind];\n",
       "        var option = $(\n",
       "            '<option/>', {selected: fmt === mpl.default_extension}).html(fmt);\n",
       "        fmt_picker.append(option)\n",
       "    }\n",
       "\n",
       "    // Add hover states to the ui-buttons\n",
       "    $( \".ui-button\" ).hover(\n",
       "        function() { $(this).addClass(\"ui-state-hover\");},\n",
       "        function() { $(this).removeClass(\"ui-state-hover\");}\n",
       "    );\n",
       "\n",
       "    var status_bar = $('<span class=\"mpl-message\"/>');\n",
       "    nav_element.append(status_bar);\n",
       "    this.message = status_bar[0];\n",
       "}\n",
       "\n",
       "mpl.figure.prototype.request_resize = function(x_pixels, y_pixels) {\n",
       "    // Request matplotlib to resize the figure. Matplotlib will then trigger a resize in the client,\n",
       "    // which will in turn request a refresh of the image.\n",
       "    this.send_message('resize', {'width': x_pixels, 'height': y_pixels});\n",
       "}\n",
       "\n",
       "mpl.figure.prototype.send_message = function(type, properties) {\n",
       "    properties['type'] = type;\n",
       "    properties['figure_id'] = this.id;\n",
       "    this.ws.send(JSON.stringify(properties));\n",
       "}\n",
       "\n",
       "mpl.figure.prototype.send_draw_message = function() {\n",
       "    if (!this.waiting) {\n",
       "        this.waiting = true;\n",
       "        this.ws.send(JSON.stringify({type: \"draw\", figure_id: this.id}));\n",
       "    }\n",
       "}\n",
       "\n",
       "\n",
       "mpl.figure.prototype.handle_save = function(fig, msg) {\n",
       "    var format_dropdown = fig.format_dropdown;\n",
       "    var format = format_dropdown.options[format_dropdown.selectedIndex].value;\n",
       "    fig.ondownload(fig, format);\n",
       "}\n",
       "\n",
       "\n",
       "mpl.figure.prototype.handle_resize = function(fig, msg) {\n",
       "    var size = msg['size'];\n",
       "    if (size[0] != fig.canvas.width || size[1] != fig.canvas.height) {\n",
       "        fig._resize_canvas(size[0], size[1]);\n",
       "        fig.send_message(\"refresh\", {});\n",
       "    };\n",
       "}\n",
       "\n",
       "mpl.figure.prototype.handle_rubberband = function(fig, msg) {\n",
       "    var x0 = msg['x0'] / mpl.ratio;\n",
       "    var y0 = (fig.canvas.height - msg['y0']) / mpl.ratio;\n",
       "    var x1 = msg['x1'] / mpl.ratio;\n",
       "    var y1 = (fig.canvas.height - msg['y1']) / mpl.ratio;\n",
       "    x0 = Math.floor(x0) + 0.5;\n",
       "    y0 = Math.floor(y0) + 0.5;\n",
       "    x1 = Math.floor(x1) + 0.5;\n",
       "    y1 = Math.floor(y1) + 0.5;\n",
       "    var min_x = Math.min(x0, x1);\n",
       "    var min_y = Math.min(y0, y1);\n",
       "    var width = Math.abs(x1 - x0);\n",
       "    var height = Math.abs(y1 - y0);\n",
       "\n",
       "    fig.rubberband_context.clearRect(\n",
       "        0, 0, fig.canvas.width, fig.canvas.height);\n",
       "\n",
       "    fig.rubberband_context.strokeRect(min_x, min_y, width, height);\n",
       "}\n",
       "\n",
       "mpl.figure.prototype.handle_figure_label = function(fig, msg) {\n",
       "    // Updates the figure title.\n",
       "    fig.header.textContent = msg['label'];\n",
       "}\n",
       "\n",
       "mpl.figure.prototype.handle_cursor = function(fig, msg) {\n",
       "    var cursor = msg['cursor'];\n",
       "    switch(cursor)\n",
       "    {\n",
       "    case 0:\n",
       "        cursor = 'pointer';\n",
       "        break;\n",
       "    case 1:\n",
       "        cursor = 'default';\n",
       "        break;\n",
       "    case 2:\n",
       "        cursor = 'crosshair';\n",
       "        break;\n",
       "    case 3:\n",
       "        cursor = 'move';\n",
       "        break;\n",
       "    }\n",
       "    fig.rubberband_canvas.style.cursor = cursor;\n",
       "}\n",
       "\n",
       "mpl.figure.prototype.handle_message = function(fig, msg) {\n",
       "    fig.message.textContent = msg['message'];\n",
       "}\n",
       "\n",
       "mpl.figure.prototype.handle_draw = function(fig, msg) {\n",
       "    // Request the server to send over a new figure.\n",
       "    fig.send_draw_message();\n",
       "}\n",
       "\n",
       "mpl.figure.prototype.handle_image_mode = function(fig, msg) {\n",
       "    fig.image_mode = msg['mode'];\n",
       "}\n",
       "\n",
       "mpl.figure.prototype.updated_canvas_event = function() {\n",
       "    // Called whenever the canvas gets updated.\n",
       "    this.send_message(\"ack\", {});\n",
       "}\n",
       "\n",
       "// A function to construct a web socket function for onmessage handling.\n",
       "// Called in the figure constructor.\n",
       "mpl.figure.prototype._make_on_message_function = function(fig) {\n",
       "    return function socket_on_message(evt) {\n",
       "        if (evt.data instanceof Blob) {\n",
       "            /* FIXME: We get \"Resource interpreted as Image but\n",
       "             * transferred with MIME type text/plain:\" errors on\n",
       "             * Chrome.  But how to set the MIME type?  It doesn't seem\n",
       "             * to be part of the websocket stream */\n",
       "            evt.data.type = \"image/png\";\n",
       "\n",
       "            /* Free the memory for the previous frames */\n",
       "            if (fig.imageObj.src) {\n",
       "                (window.URL || window.webkitURL).revokeObjectURL(\n",
       "                    fig.imageObj.src);\n",
       "            }\n",
       "\n",
       "            fig.imageObj.src = (window.URL || window.webkitURL).createObjectURL(\n",
       "                evt.data);\n",
       "            fig.updated_canvas_event();\n",
       "            fig.waiting = false;\n",
       "            return;\n",
       "        }\n",
       "        else if (typeof evt.data === 'string' && evt.data.slice(0, 21) == \"data:image/png;base64\") {\n",
       "            fig.imageObj.src = evt.data;\n",
       "            fig.updated_canvas_event();\n",
       "            fig.waiting = false;\n",
       "            return;\n",
       "        }\n",
       "\n",
       "        var msg = JSON.parse(evt.data);\n",
       "        var msg_type = msg['type'];\n",
       "\n",
       "        // Call the  \"handle_{type}\" callback, which takes\n",
       "        // the figure and JSON message as its only arguments.\n",
       "        try {\n",
       "            var callback = fig[\"handle_\" + msg_type];\n",
       "        } catch (e) {\n",
       "            console.log(\"No handler for the '\" + msg_type + \"' message type: \", msg);\n",
       "            return;\n",
       "        }\n",
       "\n",
       "        if (callback) {\n",
       "            try {\n",
       "                // console.log(\"Handling '\" + msg_type + \"' message: \", msg);\n",
       "                callback(fig, msg);\n",
       "            } catch (e) {\n",
       "                console.log(\"Exception inside the 'handler_\" + msg_type + \"' callback:\", e, e.stack, msg);\n",
       "            }\n",
       "        }\n",
       "    };\n",
       "}\n",
       "\n",
       "// from http://stackoverflow.com/questions/1114465/getting-mouse-location-in-canvas\n",
       "mpl.findpos = function(e) {\n",
       "    //this section is from http://www.quirksmode.org/js/events_properties.html\n",
       "    var targ;\n",
       "    if (!e)\n",
       "        e = window.event;\n",
       "    if (e.target)\n",
       "        targ = e.target;\n",
       "    else if (e.srcElement)\n",
       "        targ = e.srcElement;\n",
       "    if (targ.nodeType == 3) // defeat Safari bug\n",
       "        targ = targ.parentNode;\n",
       "\n",
       "    // jQuery normalizes the pageX and pageY\n",
       "    // pageX,Y are the mouse positions relative to the document\n",
       "    // offset() returns the position of the element relative to the document\n",
       "    var x = e.pageX - $(targ).offset().left;\n",
       "    var y = e.pageY - $(targ).offset().top;\n",
       "\n",
       "    return {\"x\": x, \"y\": y};\n",
       "};\n",
       "\n",
       "/*\n",
       " * return a copy of an object with only non-object keys\n",
       " * we need this to avoid circular references\n",
       " * http://stackoverflow.com/a/24161582/3208463\n",
       " */\n",
       "function simpleKeys (original) {\n",
       "  return Object.keys(original).reduce(function (obj, key) {\n",
       "    if (typeof original[key] !== 'object')\n",
       "        obj[key] = original[key]\n",
       "    return obj;\n",
       "  }, {});\n",
       "}\n",
       "\n",
       "mpl.figure.prototype.mouse_event = function(event, name) {\n",
       "    var canvas_pos = mpl.findpos(event)\n",
       "\n",
       "    if (name === 'button_press')\n",
       "    {\n",
       "        this.canvas.focus();\n",
       "        this.canvas_div.focus();\n",
       "    }\n",
       "\n",
       "    var x = canvas_pos.x * mpl.ratio;\n",
       "    var y = canvas_pos.y * mpl.ratio;\n",
       "\n",
       "    this.send_message(name, {x: x, y: y, button: event.button,\n",
       "                             step: event.step,\n",
       "                             guiEvent: simpleKeys(event)});\n",
       "\n",
       "    /* This prevents the web browser from automatically changing to\n",
       "     * the text insertion cursor when the button is pressed.  We want\n",
       "     * to control all of the cursor setting manually through the\n",
       "     * 'cursor' event from matplotlib */\n",
       "    event.preventDefault();\n",
       "    return false;\n",
       "}\n",
       "\n",
       "mpl.figure.prototype._key_event_extra = function(event, name) {\n",
       "    // Handle any extra behaviour associated with a key event\n",
       "}\n",
       "\n",
       "mpl.figure.prototype.key_event = function(event, name) {\n",
       "\n",
       "    // Prevent repeat events\n",
       "    if (name == 'key_press')\n",
       "    {\n",
       "        if (event.which === this._key)\n",
       "            return;\n",
       "        else\n",
       "            this._key = event.which;\n",
       "    }\n",
       "    if (name == 'key_release')\n",
       "        this._key = null;\n",
       "\n",
       "    var value = '';\n",
       "    if (event.ctrlKey && event.which != 17)\n",
       "        value += \"ctrl+\";\n",
       "    if (event.altKey && event.which != 18)\n",
       "        value += \"alt+\";\n",
       "    if (event.shiftKey && event.which != 16)\n",
       "        value += \"shift+\";\n",
       "\n",
       "    value += 'k';\n",
       "    value += event.which.toString();\n",
       "\n",
       "    this._key_event_extra(event, name);\n",
       "\n",
       "    this.send_message(name, {key: value,\n",
       "                             guiEvent: simpleKeys(event)});\n",
       "    return false;\n",
       "}\n",
       "\n",
       "mpl.figure.prototype.toolbar_button_onclick = function(name) {\n",
       "    if (name == 'download') {\n",
       "        this.handle_save(this, null);\n",
       "    } else {\n",
       "        this.send_message(\"toolbar_button\", {name: name});\n",
       "    }\n",
       "};\n",
       "\n",
       "mpl.figure.prototype.toolbar_button_onmouseover = function(tooltip) {\n",
       "    this.message.textContent = tooltip;\n",
       "};\n",
       "mpl.toolbar_items = [[\"Home\", \"Reset original view\", \"fa fa-home icon-home\", \"home\"], [\"Back\", \"Back to  previous view\", \"fa fa-arrow-left icon-arrow-left\", \"back\"], [\"Forward\", \"Forward to next view\", \"fa fa-arrow-right icon-arrow-right\", \"forward\"], [\"\", \"\", \"\", \"\"], [\"Pan\", \"Pan axes with left mouse, zoom with right\", \"fa fa-arrows icon-move\", \"pan\"], [\"Zoom\", \"Zoom to rectangle\", \"fa fa-square-o icon-check-empty\", \"zoom\"], [\"\", \"\", \"\", \"\"], [\"Download\", \"Download plot\", \"fa fa-floppy-o icon-save\", \"download\"]];\n",
       "\n",
       "mpl.extensions = [\"eps\", \"pdf\", \"png\", \"ps\", \"raw\", \"svg\"];\n",
       "\n",
       "mpl.default_extension = \"png\";var comm_websocket_adapter = function(comm) {\n",
       "    // Create a \"websocket\"-like object which calls the given IPython comm\n",
       "    // object with the appropriate methods. Currently this is a non binary\n",
       "    // socket, so there is still some room for performance tuning.\n",
       "    var ws = {};\n",
       "\n",
       "    ws.close = function() {\n",
       "        comm.close()\n",
       "    };\n",
       "    ws.send = function(m) {\n",
       "        //console.log('sending', m);\n",
       "        comm.send(m);\n",
       "    };\n",
       "    // Register the callback with on_msg.\n",
       "    comm.on_msg(function(msg) {\n",
       "        //console.log('receiving', msg['content']['data'], msg);\n",
       "        // Pass the mpl event to the overridden (by mpl) onmessage function.\n",
       "        ws.onmessage(msg['content']['data'])\n",
       "    });\n",
       "    return ws;\n",
       "}\n",
       "\n",
       "mpl.mpl_figure_comm = function(comm, msg) {\n",
       "    // This is the function which gets called when the mpl process\n",
       "    // starts-up an IPython Comm through the \"matplotlib\" channel.\n",
       "\n",
       "    var id = msg.content.data.id;\n",
       "    // Get hold of the div created by the display call when the Comm\n",
       "    // socket was opened in Python.\n",
       "    var element = $(\"#\" + id);\n",
       "    var ws_proxy = comm_websocket_adapter(comm)\n",
       "\n",
       "    function ondownload(figure, format) {\n",
       "        window.open(figure.imageObj.src);\n",
       "    }\n",
       "\n",
       "    var fig = new mpl.figure(id, ws_proxy,\n",
       "                           ondownload,\n",
       "                           element.get(0));\n",
       "\n",
       "    // Call onopen now - mpl needs it, as it is assuming we've passed it a real\n",
       "    // web socket which is closed, not our websocket->open comm proxy.\n",
       "    ws_proxy.onopen();\n",
       "\n",
       "    fig.parent_element = element.get(0);\n",
       "    fig.cell_info = mpl.find_output_cell(\"<div id='\" + id + \"'></div>\");\n",
       "    if (!fig.cell_info) {\n",
       "        console.error(\"Failed to find cell for figure\", id, fig);\n",
       "        return;\n",
       "    }\n",
       "\n",
       "    var output_index = fig.cell_info[2]\n",
       "    var cell = fig.cell_info[0];\n",
       "\n",
       "};\n",
       "\n",
       "mpl.figure.prototype.handle_close = function(fig, msg) {\n",
       "    var width = fig.canvas.width/mpl.ratio\n",
       "    fig.root.unbind('remove')\n",
       "\n",
       "    // Update the output cell to use the data from the current canvas.\n",
       "    fig.push_to_output();\n",
       "    var dataURL = fig.canvas.toDataURL();\n",
       "    // Re-enable the keyboard manager in IPython - without this line, in FF,\n",
       "    // the notebook keyboard shortcuts fail.\n",
       "    IPython.keyboard_manager.enable()\n",
       "    $(fig.parent_element).html('<img src=\"' + dataURL + '\" width=\"' + width + '\">');\n",
       "    fig.close_ws(fig, msg);\n",
       "}\n",
       "\n",
       "mpl.figure.prototype.close_ws = function(fig, msg){\n",
       "    fig.send_message('closing', msg);\n",
       "    // fig.ws.close()\n",
       "}\n",
       "\n",
       "mpl.figure.prototype.push_to_output = function(remove_interactive) {\n",
       "    // Turn the data on the canvas into data in the output cell.\n",
       "    var width = this.canvas.width/mpl.ratio\n",
       "    var dataURL = this.canvas.toDataURL();\n",
       "    this.cell_info[1]['text/html'] = '<img src=\"' + dataURL + '\" width=\"' + width + '\">';\n",
       "}\n",
       "\n",
       "mpl.figure.prototype.updated_canvas_event = function() {\n",
       "    // Tell IPython that the notebook contents must change.\n",
       "    IPython.notebook.set_dirty(true);\n",
       "    this.send_message(\"ack\", {});\n",
       "    var fig = this;\n",
       "    // Wait a second, then push the new image to the DOM so\n",
       "    // that it is saved nicely (might be nice to debounce this).\n",
       "    setTimeout(function () { fig.push_to_output() }, 1000);\n",
       "}\n",
       "\n",
       "mpl.figure.prototype._init_toolbar = function() {\n",
       "    var fig = this;\n",
       "\n",
       "    var nav_element = $('<div/>')\n",
       "    nav_element.attr('style', 'width: 100%');\n",
       "    this.root.append(nav_element);\n",
       "\n",
       "    // Define a callback function for later on.\n",
       "    function toolbar_event(event) {\n",
       "        return fig.toolbar_button_onclick(event['data']);\n",
       "    }\n",
       "    function toolbar_mouse_event(event) {\n",
       "        return fig.toolbar_button_onmouseover(event['data']);\n",
       "    }\n",
       "\n",
       "    for(var toolbar_ind in mpl.toolbar_items){\n",
       "        var name = mpl.toolbar_items[toolbar_ind][0];\n",
       "        var tooltip = mpl.toolbar_items[toolbar_ind][1];\n",
       "        var image = mpl.toolbar_items[toolbar_ind][2];\n",
       "        var method_name = mpl.toolbar_items[toolbar_ind][3];\n",
       "\n",
       "        if (!name) { continue; };\n",
       "\n",
       "        var button = $('<button class=\"btn btn-default\" href=\"#\" title=\"' + name + '\"><i class=\"fa ' + image + ' fa-lg\"></i></button>');\n",
       "        button.click(method_name, toolbar_event);\n",
       "        button.mouseover(tooltip, toolbar_mouse_event);\n",
       "        nav_element.append(button);\n",
       "    }\n",
       "\n",
       "    // Add the status bar.\n",
       "    var status_bar = $('<span class=\"mpl-message\" style=\"text-align:right; float: right;\"/>');\n",
       "    nav_element.append(status_bar);\n",
       "    this.message = status_bar[0];\n",
       "\n",
       "    // Add the close button to the window.\n",
       "    var buttongrp = $('<div class=\"btn-group inline pull-right\"></div>');\n",
       "    var button = $('<button class=\"btn btn-mini btn-primary\" href=\"#\" title=\"Stop Interaction\"><i class=\"fa fa-power-off icon-remove icon-large\"></i></button>');\n",
       "    button.click(function (evt) { fig.handle_close(fig, {}); } );\n",
       "    button.mouseover('Stop Interaction', toolbar_mouse_event);\n",
       "    buttongrp.append(button);\n",
       "    var titlebar = this.root.find($('.ui-dialog-titlebar'));\n",
       "    titlebar.prepend(buttongrp);\n",
       "}\n",
       "\n",
       "mpl.figure.prototype._root_extra_style = function(el){\n",
       "    var fig = this\n",
       "    el.on(\"remove\", function(){\n",
       "\tfig.close_ws(fig, {});\n",
       "    });\n",
       "}\n",
       "\n",
       "mpl.figure.prototype._canvas_extra_style = function(el){\n",
       "    // this is important to make the div 'focusable\n",
       "    el.attr('tabindex', 0)\n",
       "    // reach out to IPython and tell the keyboard manager to turn it's self\n",
       "    // off when our div gets focus\n",
       "\n",
       "    // location in version 3\n",
       "    if (IPython.notebook.keyboard_manager) {\n",
       "        IPython.notebook.keyboard_manager.register_events(el);\n",
       "    }\n",
       "    else {\n",
       "        // location in version 2\n",
       "        IPython.keyboard_manager.register_events(el);\n",
       "    }\n",
       "\n",
       "}\n",
       "\n",
       "mpl.figure.prototype._key_event_extra = function(event, name) {\n",
       "    var manager = IPython.notebook.keyboard_manager;\n",
       "    if (!manager)\n",
       "        manager = IPython.keyboard_manager;\n",
       "\n",
       "    // Check for shift+enter\n",
       "    if (event.shiftKey && event.which == 13) {\n",
       "        this.canvas_div.blur();\n",
       "        event.shiftKey = false;\n",
       "        // Send a \"J\" for go to next cell\n",
       "        event.which = 74;\n",
       "        event.keyCode = 74;\n",
       "        manager.command_mode();\n",
       "        manager.handle_keydown(event);\n",
       "    }\n",
       "}\n",
       "\n",
       "mpl.figure.prototype.handle_save = function(fig, msg) {\n",
       "    fig.ondownload(fig, null);\n",
       "}\n",
       "\n",
       "\n",
       "mpl.find_output_cell = function(html_output) {\n",
       "    // Return the cell and output element which can be found *uniquely* in the notebook.\n",
       "    // Note - this is a bit hacky, but it is done because the \"notebook_saving.Notebook\"\n",
       "    // IPython event is triggered only after the cells have been serialised, which for\n",
       "    // our purposes (turning an active figure into a static one), is too late.\n",
       "    var cells = IPython.notebook.get_cells();\n",
       "    var ncells = cells.length;\n",
       "    for (var i=0; i<ncells; i++) {\n",
       "        var cell = cells[i];\n",
       "        if (cell.cell_type === 'code'){\n",
       "            for (var j=0; j<cell.output_area.outputs.length; j++) {\n",
       "                var data = cell.output_area.outputs[j];\n",
       "                if (data.data) {\n",
       "                    // IPython >= 3 moved mimebundle to data attribute of output\n",
       "                    data = data.data;\n",
       "                }\n",
       "                if (data['text/html'] == html_output) {\n",
       "                    return [cell, data, j];\n",
       "                }\n",
       "            }\n",
       "        }\n",
       "    }\n",
       "}\n",
       "\n",
       "// Register the function which deals with the matplotlib target/channel.\n",
       "// The kernel may be null if the page has been refreshed.\n",
       "if (IPython.notebook.kernel != null) {\n",
       "    IPython.notebook.kernel.comm_manager.register_target('matplotlib', mpl.mpl_figure_comm);\n",
       "}\n"
      ],
      "text/plain": [
       "<IPython.core.display.Javascript object>"
      ]
     },
     "metadata": {},
     "output_type": "display_data"
    },
    {
     "data": {
      "text/html": [
       "<img src=\"data:image/png;base64,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\" width=\"639.4\">"
      ],
      "text/plain": [
       "<IPython.core.display.HTML object>"
      ]
     },
     "metadata": {},
     "output_type": "display_data"
    },
    {
     "data": {
      "text/html": [
       "<i>Table length=4</i>\n",
       "<table id=\"table140316922864640\" class=\"table-striped table-bordered table-condensed\">\n",
       "<thead><tr><th>FEED</th><th>RECEPTOR</th><th>POLARIZE</th><th>CENTER_SKY</th><th>BANDWDTH</th><th>PORT_INDEX</th><th>PORT</th><th>HIGH_CAL</th><th>SIGREF</th><th>CAL</th><th>PHASE_INDEX</th><th>PHASE</th><th>DATA [3649]</th></tr></thead>\n",
       "<thead><tr><th>none</th><th></th><th></th><th>Hz</th><th>Hz</th><th></th><th>none</th><th>none</th><th></th><th></th><th></th><th></th><th></th></tr></thead>\n",
       "<thead><tr><th>int32</th><th>str8</th><th>str2</th><th>float32</th><th>float32</th><th>int64</th><th>int32</th><th>int32</th><th>uint8</th><th>uint8</th><th>int64</th><th>str15</th><th>int32</th></tr></thead>\n",
       "<tr><td>1</td><td>B1XL1</td><td>X</td><td>77000000000.0</td><td>1280000000.0</td><td>0</td><td>1</td><td>0</td><td>0</td><td>0</td><td>0</td><td>Signal / No Cal</td><td>150233 .. 149147</td></tr>\n",
       "<tr><td>1</td><td>B1YR1</td><td>Y</td><td>77000000000.0</td><td>1280000000.0</td><td>1</td><td>3</td><td>0</td><td>0</td><td>0</td><td>0</td><td>Signal / No Cal</td><td>134391 .. 133583</td></tr>\n",
       "<tr><td>2</td><td>B2X2</td><td>X</td><td>77000000000.0</td><td>1280000000.0</td><td>2</td><td>5</td><td>0</td><td>0</td><td>0</td><td>0</td><td>Signal / No Cal</td><td>155981 .. 155779</td></tr>\n",
       "<tr><td>2</td><td>B2Y2</td><td>Y</td><td>77000000000.0</td><td>1280000000.0</td><td>3</td><td>7</td><td>0</td><td>0</td><td>0</td><td>0</td><td>Signal / No Cal</td><td>137184 .. 137654</td></tr>\n",
       "</table>"
      ],
      "text/plain": [
       "<Table length=4>\n",
       " FEED RECEPTOR POLARIZE ... PHASE_INDEX      PHASE        DATA [3649]   \n",
       " none                   ...                                             \n",
       "int32   str8     str2   ...    int64         str15           int32      \n",
       "----- -------- -------- ... ----------- --------------- ----------------\n",
       "    1    B1XL1        X ...           0 Signal / No Cal 150233 .. 149147\n",
       "    1    B1YR1        Y ...           0 Signal / No Cal 134391 .. 133583\n",
       "    2     B2X2        X ...           0 Signal / No Cal 155981 .. 155779\n",
       "    2     B2Y2        Y ...           0 Signal / No Cal 137184 .. 137654"
      ]
     },
     "execution_count": 75,
     "metadata": {},
     "output_type": "execute_result"
    }
   ],
   "source": [
    "%matplotlib notebook\n",
    "\n",
    "from astropy import units\n",
    "import matplotlib.pyplot as plt\n",
    "\n",
    "# Mask out everything but 'Signal / No Cal' data\n",
    "row_mask = dcr_table['PHASE'] == 'Signal / No Cal'\n",
    "sig_no_cal = dcr_table[row_mask]\n",
    "data = sig_no_cal['DATA']\n",
    "\n",
    "# Transpose data here so that each row results in a new axis (instead of each column, which makes little sense)\n",
    "plt.plot(data.T)\n",
    "plt.xlabel('Integrations')\n",
    "plt.ylabel('Counts')  \n",
    "legend_format = '{FEED} {POLARIZE} - {PHASE} - {CENTER_SKY:.2f} GHz'\n",
    "legend_data = [\n",
    "    legend_format.format(\n",
    "        FEED=row[\"FEED\"],\n",
    "        POLARIZE=row[\"POLARIZE\"],\n",
    "        PHASE=row[\"PHASE\"],\n",
    "        CENTER_SKY=units.Hz.to(units.GHz, row[\"CENTER_SKY\"])\n",
    "    ) for row in sig_no_cal\n",
    "]\n",
    "plt.legend(\n",
    "    legend_data,\n",
    "    #bbox_to_anchor=(1.15, 1.0)\n",
    ")\n",
    "# Display the plot\n",
    "plt.show()\n",
    "# Display the table being plotted\n",
    "sig_no_cal"
   ]
  },
  {
   "cell_type": "code",
   "execution_count": null,
   "metadata": {},
   "outputs": [],
   "source": []
  }
 ],
 "metadata": {
  "celltoolbar": "Slideshow",
  "kernelspec": {
   "display_name": "Python 3",
   "language": "python",
   "name": "python3"
  },
  "language_info": {
   "codemirror_mode": {
    "name": "ipython",
    "version": 3
   },
   "file_extension": ".py",
   "mimetype": "text/x-python",
   "name": "python",
   "nbconvert_exporter": "python",
   "pygments_lexer": "ipython3",
   "version": "3.5.2"
  },
  "rise": {
   "transition": "none"
  }
 },
 "nbformat": 4,
 "nbformat_minor": 2
}
