{
 "cells": [
  {
   "cell_type": "markdown",
   "metadata": {
    "slideshow": {
     "slide_type": "slide"
    }
   },
   "source": [
    "# GBT DCR \"Decoding\""
   ]
  },
  {
   "cell_type": "markdown",
   "metadata": {
    "slideshow": {
     "slide_type": "-"
    }
   },
   "source": [
    "We use the term \"decoding\" to refer to the process by which the relevant FITS files associated with a given DCR scan are processed and merged together. You might also hear the term \"filling\" used instead.\n",
    "\n",
    "There are three FITS files that contribute to \"the DCR data\":\n",
    "1. `DCR`\n",
    "2. `IF`\n",
    "3. `Antenna`\n",
    "\n",
    "These must be properly parsed, ordered, and joined in order for sensible queries to be performed on the result.\n",
    "\n",
    "This document is based on commit `ba57ddacb649fa85ee8e08acfc0e962babf2812f`"
   ]
  },
  {
   "cell_type": "markdown",
   "metadata": {
    "slideshow": {
     "slide_type": "slide"
    }
   },
   "source": [
    "## Step 1: Data Aquisition"
   ]
  },
  {
   "cell_type": "code",
   "execution_count": 60,
   "metadata": {
    "slideshow": {
     "slide_type": "-"
    }
   },
   "outputs": [],
   "source": [
    "import os\n",
    "\n",
    "from astropy.io import fits\n",
    "\n",
    "# TODO: Fix this path\n",
    "fits_dir = \"./AGBT02A_025_01:1000:Rcvr12_18\"\n",
    "dcr_hdul = fits.open(os.path.join(fits_dir, 'DCR', '2004_03_04_00:56:43.fits'))\n",
    "if_hdul = fits.open(os.path.join(fits_dir, 'IF', '2004_03_04_00:56:43.fits'))\n",
    "ant_hdul = fits.open(os.path.join(fits_dir, 'Antenna', '2004_03_04_00:56:43.fits'))"
   ]
  },
  {
   "cell_type": "markdown",
   "metadata": {
    "slideshow": {
     "slide_type": "slide"
    }
   },
   "source": [
    "### A brief tangent: the nature of \"phase\"\n",
    "\n",
    "Phase can be thought of as a _state_, and is composed of two other states: that of the calibration diode and that of the signal/reference beam selection\n",
    "\n",
    "| `SIGREF` | `CAL` |      Phase key       | Phase index |\n",
    "|----------|-------|----------------------|-------------|\n",
    "|        0 |     0 | `Signal / No Cal`    |           0 |\n",
    "|        0 |     1 | `Signal / Cal`       |           1 |\n",
    "|        1 |     0 | `Reference / No Cal` |           2 |\n",
    "|        1 |     1 | `Reference / Cal`    |           3 |"
   ]
  },
  {
   "cell_type": "markdown",
   "metadata": {
    "slideshow": {
     "slide_type": "slide"
    }
   },
   "source": [
    "## Step 2: Table Initialization\n",
    "\n",
    "We will now convert our `HDUList` objects to `Table` objects so they can be more easily manipulated"
   ]
  },
  {
   "cell_type": "markdown",
   "metadata": {
    "slideshow": {
     "slide_type": "subslide"
    }
   },
   "source": [
    "### Step 2.1: DCR State Table Conversion"
   ]
  },
  {
   "cell_type": "code",
   "execution_count": 2,
   "metadata": {
    "slideshow": {
     "slide_type": "-"
    }
   },
   "outputs": [
    {
     "data": {
      "text/html": [
       "<i>Table length=4</i>\n",
       "<table id=\"table140159200373896\" class=\"table-striped table-bordered table-condensed\">\n",
       "<thead><tr><th>BLANKTIM</th><th>PHASETIM</th><th>SIGREF</th><th>CAL</th><th>SWSIG1</th><th>SWSIG2</th><th>SWSIG3</th><th>SWSIG4</th><th>SWSIG5</th></tr></thead>\n",
       "<thead><tr><th>s</th><th>s</th><th></th><th></th><th></th><th></th><th></th><th></th><th></th></tr></thead>\n",
       "<thead><tr><th>float64</th><th>float64</th><th>uint8</th><th>uint8</th><th>uint8</th><th>uint8</th><th>uint8</th><th>uint8</th><th>uint8</th></tr></thead>\n",
       "<tr><td>0.002</td><td>0.05</td><td>0</td><td>0</td><td>0</td><td>0</td><td>0</td><td>0</td><td>1</td></tr>\n",
       "<tr><td>0.002</td><td>0.05</td><td>0</td><td>1</td><td>0</td><td>0</td><td>0</td><td>0</td><td>0</td></tr>\n",
       "<tr><td>0.002</td><td>0.05</td><td>1</td><td>0</td><td>0</td><td>0</td><td>0</td><td>0</td><td>1</td></tr>\n",
       "<tr><td>0.002</td><td>0.05</td><td>1</td><td>1</td><td>0</td><td>0</td><td>0</td><td>0</td><td>0</td></tr>\n",
       "</table>"
      ],
      "text/plain": [
       "<Table length=4>\n",
       "BLANKTIM PHASETIM SIGREF  CAL  SWSIG1 SWSIG2 SWSIG3 SWSIG4 SWSIG5\n",
       "   s        s                                                    \n",
       "float64  float64  uint8  uint8 uint8  uint8  uint8  uint8  uint8 \n",
       "-------- -------- ------ ----- ------ ------ ------ ------ ------\n",
       "   0.002     0.05      0     0      0      0      0      0      1\n",
       "   0.002     0.05      0     1      0      0      0      0      0\n",
       "   0.002     0.05      1     0      0      0      0      0      1\n",
       "   0.002     0.05      1     1      0      0      0      0      0"
      ]
     },
     "execution_count": 2,
     "metadata": {},
     "output_type": "execute_result"
    }
   ],
   "source": [
    "from astropy.table import Table\n",
    "\n",
    "dcr_state_table = Table.read(dcr_hdul[dcr_hdul.index_of('STATE')])\n",
    "dcr_state_table"
   ]
  },
  {
   "cell_type": "markdown",
   "metadata": {
    "slideshow": {
     "slide_type": "subslide"
    }
   },
   "source": [
    "Now let's trim off the columns we don't need, and then add some \"helper\" columns that more concisely describe the phase represented (since this is how we'll be thinking about the data) anyway"
   ]
  },
  {
   "cell_type": "code",
   "execution_count": 64,
   "metadata": {
    "slideshow": {
     "slide_type": "-"
    }
   },
   "outputs": [
    {
     "data": {
      "text/html": [
       "<i>Table length=4</i>\n",
       "<table id=\"table140158221518776\" class=\"table-striped table-bordered table-condensed\">\n",
       "<thead><tr><th>SIGREF</th><th>CAL</th><th>PHASE_ID</th><th>PHASE</th></tr></thead>\n",
       "<thead><tr><th>uint8</th><th>uint8</th><th>int64</th><th>str18</th></tr></thead>\n",
       "<tr><td>0</td><td>0</td><td>0</td><td>Signal / No Cal</td></tr>\n",
       "<tr><td>0</td><td>1</td><td>1</td><td>Signal / Cal</td></tr>\n",
       "<tr><td>1</td><td>0</td><td>2</td><td>Reference / No Cal</td></tr>\n",
       "<tr><td>1</td><td>1</td><td>3</td><td>Reference / Cal</td></tr>\n",
       "</table>"
      ],
      "text/plain": [
       "<Table length=4>\n",
       "SIGREF  CAL  PHASE_ID       PHASE       \n",
       "uint8  uint8  int64         str18       \n",
       "------ ----- -------- ------------------\n",
       "     0     0        0    Signal / No Cal\n",
       "     0     1        1       Signal / Cal\n",
       "     1     0        2 Reference / No Cal\n",
       "     1     1        3    Reference / Cal"
      ]
     },
     "execution_count": 64,
     "metadata": {},
     "output_type": "execute_result"
    }
   ],
   "source": [
    "import numpy as np\n",
    "from astropy.table import Column\n",
    "\n",
    "# Trim off unneeded columns\n",
    "dcr_state_table = dcr_state_table['SIGREF', 'CAL']\n",
    "\n",
    "# Construct the \"verbose\" phases\n",
    "phases_verbose = ['{} / {}'.format('Signal' if not sigref else 'Reference', 'Cal' if cal else 'No Cal')\n",
    "                  for sigref, cal in dcr_state_table]\n",
    "# Create the two new columns and add them to the state table\n",
    "dcr_state_table.add_columns([\n",
    "    Column(\n",
    "        name='PHASE_ID',\n",
    "        data=np.arange(len(phases_verbose))\n",
    "    ),\n",
    "    Column(\n",
    "        name='PHASE',\n",
    "        data=phases_verbose\n",
    "    )\n",
    "])\n",
    "dcr_state_table"
   ]
  },
  {
   "cell_type": "markdown",
   "metadata": {
    "slideshow": {
     "slide_type": "subslide"
    }
   },
   "source": [
    "### Step 2.2: DCR Data Table Initialization"
   ]
  },
  {
   "cell_type": "code",
   "execution_count": 36,
   "metadata": {
    "scrolled": true,
    "slideshow": {
     "slide_type": "-"
    }
   },
   "outputs": [
    {
     "data": {
      "text/html": [
       "<i>Table length=149</i>\n",
       "<table id=\"table140159585023480\" class=\"table-striped table-bordered table-condensed\">\n",
       "<thead><tr><th>IFFLAG</th><th>SUBSCAN</th><th>TIMETAG</th><th>DATA [2,4]</th></tr></thead>\n",
       "<thead><tr><th>CODE</th><th>CODE</th><th>DMJD</th><th>COUNTS</th></tr></thead>\n",
       "<thead><tr><th>int16</th><th>int32</th><th>float64</th><th>int32</th></tr></thead>\n",
       "<tr><td>0</td><td>1</td><td>53068.039386580334</td><td>188315 .. 211099</td></tr>\n",
       "<tr><td>0</td><td>2</td><td>53068.03938889521</td><td>188380 .. 209369</td></tr>\n",
       "<tr><td>0</td><td>3</td><td>53068.03939121</td><td>188290 .. 206591</td></tr>\n",
       "<tr><td>0</td><td>4</td><td>53068.039393524814</td><td>188440 .. 202913</td></tr>\n",
       "<tr><td>0</td><td>5</td><td>53068.03939584034</td><td>188634 .. 201291</td></tr>\n",
       "<tr><td>0</td><td>6</td><td>53068.03939815451</td><td>188737 .. 197217</td></tr>\n",
       "<tr><td>0</td><td>7</td><td>53068.03940046931</td><td>188785 .. 194893</td></tr>\n",
       "<tr><td>0</td><td>8</td><td>53068.03940278415</td><td>188706 .. 194166</td></tr>\n",
       "<tr><td>0</td><td>9</td><td>53068.03940509893</td><td>188497 .. 194098</td></tr>\n",
       "<tr><td>...</td><td>...</td><td>...</td><td>...</td></tr>\n",
       "<tr><td>0</td><td>140</td><td>53068.039708340344</td><td>186929 .. 191651</td></tr>\n",
       "<tr><td>0</td><td>141</td><td>53068.0397106544</td><td>187060 .. 191859</td></tr>\n",
       "<tr><td>0</td><td>142</td><td>53068.03971296925</td><td>186974 .. 192082</td></tr>\n",
       "<tr><td>0</td><td>143</td><td>53068.03971528405</td><td>187040 .. 192077</td></tr>\n",
       "<tr><td>0</td><td>144</td><td>53068.03971759876</td><td>187239 .. 192180</td></tr>\n",
       "<tr><td>0</td><td>145</td><td>53068.03971991446</td><td>187126 .. 192334</td></tr>\n",
       "<tr><td>0</td><td>146</td><td>53068.039722228554</td><td>187228 .. 192421</td></tr>\n",
       "<tr><td>0</td><td>147</td><td>53068.03972454332</td><td>187178 .. 192453</td></tr>\n",
       "<tr><td>0</td><td>148</td><td>53068.03972685817</td><td>187008 .. 192439</td></tr>\n",
       "<tr><td>0</td><td>149</td><td>53068.039729172975</td><td>186796 .. 192353</td></tr>\n",
       "</table>"
      ],
      "text/plain": [
       "<Table length=149>\n",
       "IFFLAG SUBSCAN      TIMETAG          DATA [2,4]   \n",
       " CODE    CODE         DMJD             COUNTS     \n",
       "int16   int32       float64            int32      \n",
       "------ ------- ------------------ ----------------\n",
       "     0       1 53068.039386580334 188315 .. 211099\n",
       "     0       2  53068.03938889521 188380 .. 209369\n",
       "     0       3     53068.03939121 188290 .. 206591\n",
       "     0       4 53068.039393524814 188440 .. 202913\n",
       "     0       5  53068.03939584034 188634 .. 201291\n",
       "     0       6  53068.03939815451 188737 .. 197217\n",
       "     0       7  53068.03940046931 188785 .. 194893\n",
       "     0       8  53068.03940278415 188706 .. 194166\n",
       "     0       9  53068.03940509893 188497 .. 194098\n",
       "   ...     ...                ...              ...\n",
       "     0     140 53068.039708340344 186929 .. 191651\n",
       "     0     141   53068.0397106544 187060 .. 191859\n",
       "     0     142  53068.03971296925 186974 .. 192082\n",
       "     0     143  53068.03971528405 187040 .. 192077\n",
       "     0     144  53068.03971759876 187239 .. 192180\n",
       "     0     145  53068.03971991446 187126 .. 192334\n",
       "     0     146 53068.039722228554 187228 .. 192421\n",
       "     0     147  53068.03972454332 187178 .. 192453\n",
       "     0     148  53068.03972685817 187008 .. 192439\n",
       "     0     149 53068.039729172975 186796 .. 192353"
      ]
     },
     "execution_count": 36,
     "metadata": {},
     "output_type": "execute_result"
    }
   ],
   "source": [
    "dcr_data_table = Table.read(dcr_hdul[dcr_hdul.index_of('DATA')])\n",
    "dcr_data_table"
   ]
  },
  {
   "cell_type": "markdown",
   "metadata": {
    "slideshow": {
     "slide_type": "subslide"
    }
   },
   "source": [
    "### Step 2.3: IF IF Table Initialization"
   ]
  },
  {
   "cell_type": "markdown",
   "metadata": {
    "slideshow": {
     "slide_type": "-"
    }
   },
   "source": [
    "Initialize the table:"
   ]
  },
  {
   "cell_type": "code",
   "execution_count": 37,
   "metadata": {
    "slideshow": {
     "slide_type": "-"
    }
   },
   "outputs": [
    {
     "data": {
      "text/html": [
       "<i>Table length=10</i>\n",
       "<table id=\"table140158148858096\" class=\"table-striped table-bordered table-condensed\">\n",
       "<thead><tr><th>BACKEND</th><th>BANK</th><th>PORT</th><th>RECEIVER</th><th>FEED</th><th>SRFEED1</th><th>SRFEED2</th><th>RECEPTOR</th><th>LO_CIRCUIT</th><th>LO_COMPONENT</th><th>SIDEBAND</th><th>POLARIZE</th><th>CENTER_IF</th><th>CENTER_SKY</th><th>BANDWDTH</th><th>HIGH_CAL</th><th>TEST_TONE_IF</th><th>TEST_TONE_SKY</th><th>TEST_TONE_CIRCUIT</th><th>TEST_TONE_COMPONENT</th><th>SFF_MULTIPLIER</th><th>SFF_SIDEBAND</th><th>SFF_OFFSET</th><th>TRANSFORM_COUNT</th><th>TRANSFORMS</th></tr></thead>\n",
       "<thead><tr><th>none</th><th>none</th><th>none</th><th>none</th><th>none</th><th>none</th><th>none</th><th>none</th><th>none</th><th>none</th><th>none</th><th>none</th><th>Hz</th><th>Hz</th><th>Hz</th><th>none</th><th>Hz</th><th>Hz</th><th>none</th><th>none</th><th>none</th><th>none</th><th>none</th><th>none</th><th>none</th></tr></thead>\n",
       "<thead><tr><th>str32</th><th>str2</th><th>int32</th><th>str32</th><th>int32</th><th>int32</th><th>int32</th><th>str8</th><th>str32</th><th>str32</th><th>str2</th><th>str2</th><th>float32</th><th>float32</th><th>float32</th><th>int32</th><th>float32</th><th>float32</th><th>str32</th><th>str32</th><th>float64</th><th>float64</th><th>float64</th><th>int32</th><th>str4096</th></tr></thead>\n",
       "<tr><td>DCR</td><td>A</td><td>2</td><td>Rcvr12_18</td><td>1</td><td>1</td><td>2</td><td>L1</td><td>LO1A</td><td>synthesizer</td><td>U</td><td>L</td><td>2752000000.0</td><td>14098000000.0</td><td>3004000000.0</td><td>0</td><td>nan</td><td>nan</td><td></td><td></td><td>1.0</td><td>1.0</td><td>0.0</td><td>12</td><td>feed(Rcvr12_18:L1): 11800 to 15600, left_circular polarization; tone(Rcvr12_18:C1L): 0 x0; filter(Rcvr12_18:FL1L): 11800 to 15600; mixer(Rcvr12_18:MX1L): LO: 11346 (x1) from LO1A:synthesizer, IFo =  IFi - 11346; filter(Rcvr12_18:FL4L): 1250 to 4750; (Rcvr12_18:J5): ; (IFRouter:J10): ; (IFRouter:J66): ; (OpticalDriver2:J1): ; attenuator(OpticalDriver2:attenuator): ; (OpticalDriver2:J4): ; (DCR:J2): ;</td></tr>\n",
       "<tr><td>DCR</td><td>A</td><td>4</td><td>Rcvr12_18</td><td>1</td><td>1</td><td>2</td><td>R1</td><td>LO1A</td><td>synthesizer</td><td>U</td><td>R</td><td>2752000000.0</td><td>14098000000.0</td><td>3004000000.0</td><td>0</td><td>nan</td><td>nan</td><td></td><td></td><td>1.0</td><td>1.0</td><td>0.0</td><td>12</td><td>feed(Rcvr12_18:R1): 11800 to 15600, right_circular polarization; tone(Rcvr12_18:C1R): 0 x0; filter(Rcvr12_18:FL1R): 11800 to 15600; mixer(Rcvr12_18:MX1R): LO: 11346 (x1) from LO1A:synthesizer, IFo =  IFi - 11346; filter(Rcvr12_18:FL4R): 1250 to 4750; (Rcvr12_18:J3): ; (IFRouter:J26): ; (IFRouter:J68): ; (OpticalDriver4:J1): ; attenuator(OpticalDriver4:attenuator): ; (OpticalDriver4:J4): ; (DCR:J4): ;</td></tr>\n",
       "<tr><td>Spectrometer</td><td>A</td><td>1</td><td>Rcvr12_18</td><td>1</td><td>1</td><td>2</td><td>L1</td><td>LO1A</td><td>synthesizer</td><td>U</td><td>L</td><td>900000000.0</td><td>13457000000.0</td><td>200000000.0</td><td>0</td><td>nan</td><td>nan</td><td></td><td></td><td>1.0</td><td>1.0</td><td>1211000000.0</td><td>24</td><td>feed(Rcvr12_18:L1): 11800 to 15600, left_circular polarization; tone(Rcvr12_18:C1L): 0 x0; filter(Rcvr12_18:FL1L): 11800 to 15600; mixer(Rcvr12_18:MX1L): LO: 11346 (x1) from LO1A:synthesizer, IFo =  IFi - 11346; filter(Rcvr12_18:FL4L): 1250 to 4750; (Rcvr12_18:J5): ; (IFRouter:J10): ; (IFRouter:J66): ; (OpticalDriver2:J1): ; attenuator(OpticalDriver2:attenuator): ; (OpticalDriver2:J2): ; (OpticalReceiver2:J1): ; (OpticalReceiver2:J2): ; (ConverterModule1:J2): ; mixer(ConverterModule1:MX2): LO: 11711 (x1) from LO2_G1:synthesizer, IFo = 11711 - IFi; filter(ConverterModule1:FL1): 8500 to 10350; mixer(ConverterModule1:MX3): LO: 10500 (x1) from LO3Distribution1:synthesizer, IFo = 10500 - IFi; filter(ConverterModule1:FL2): 0 to 2200; attenuator(ConverterModule1:AT1): ; (ConverterModule1:J3): ; (SamplerFilter1:J1): ; filter(SamplerFilter1:FL2): 800 to 1000; (SamplerFilter1:J5): ; (Spectrometer:J1): ;</td></tr>\n",
       "<tr><td>Spectrometer</td><td>A</td><td>2</td><td>Rcvr12_18</td><td>1</td><td>1</td><td>2</td><td>R1</td><td>LO1A</td><td>synthesizer</td><td>U</td><td>R</td><td>900000000.0</td><td>13457000000.0</td><td>200000000.0</td><td>0</td><td>nan</td><td>nan</td><td></td><td></td><td>1.0</td><td>1.0</td><td>1211000000.0</td><td>24</td><td>feed(Rcvr12_18:R1): 11800 to 15600, right_circular polarization; tone(Rcvr12_18:C1R): 0 x0; filter(Rcvr12_18:FL1R): 11800 to 15600; mixer(Rcvr12_18:MX1R): LO: 11346 (x1) from LO1A:synthesizer, IFo =  IFi - 11346; filter(Rcvr12_18:FL4R): 1250 to 4750; (Rcvr12_18:J3): ; (IFRouter:J26): ; (IFRouter:J68): ; (OpticalDriver4:J1): ; attenuator(OpticalDriver4:attenuator): ; (OpticalDriver4:J2): ; (OpticalReceiver4:J1): ; (OpticalReceiver4:J2): ; (ConverterModule5:J2): ; mixer(ConverterModule5:MX2): LO: 11711 (x1) from LO2_G1:synthesizer, IFo = 11711 - IFi; filter(ConverterModule5:FL1): 8500 to 10350; mixer(ConverterModule5:MX3): LO: 10500 (x1) from LO3Distribution1:synthesizer, IFo = 10500 - IFi; filter(ConverterModule5:FL2): 0 to 2200; attenuator(ConverterModule5:AT1): ; (ConverterModule5:J3): ; (SamplerFilter5:J1): ; filter(SamplerFilter5:FL2): 800 to 1000; (SamplerFilter5:J5): ; (Spectrometer:J2): ;</td></tr>\n",
       "<tr><td>Spectrometer</td><td>B</td><td>3</td><td>Rcvr12_18</td><td>1</td><td>1</td><td>2</td><td>L1</td><td>LO1A</td><td>synthesizer</td><td>U</td><td>L</td><td>900000000.0</td><td>13879000000.0</td><td>200000000.0</td><td>0</td><td>nan</td><td>nan</td><td></td><td></td><td>1.0</td><td>1.0</td><td>1633000000.0</td><td>24</td><td>feed(Rcvr12_18:L1): 11800 to 15600, left_circular polarization; tone(Rcvr12_18:C1L): 0 x0; filter(Rcvr12_18:FL1L): 11800 to 15600; mixer(Rcvr12_18:MX1L): LO: 11346 (x1) from LO1A:synthesizer, IFo =  IFi - 11346; filter(Rcvr12_18:FL4L): 1250 to 4750; (Rcvr12_18:J5): ; (IFRouter:J10): ; (IFRouter:J66): ; (OpticalDriver2:J1): ; attenuator(OpticalDriver2:attenuator): ; (OpticalDriver2:J2): ; (OpticalReceiver2:J1): ; (OpticalReceiver2:J3): ; (ConverterModule2:J2): ; mixer(ConverterModule2:MX2): LO: 12133 (x1) from LO2_G2:synthesizer, IFo = 12133 - IFi; filter(ConverterModule2:FL1): 8500 to 10350; mixer(ConverterModule2:MX3): LO: 10500 (x1) from LO3Distribution1:synthesizer, IFo = 10500 - IFi; filter(ConverterModule2:FL2): 0 to 2200; attenuator(ConverterModule2:AT1): ; (ConverterModule2:J3): ; (SamplerFilter2:J1): ; filter(SamplerFilter2:FL2): 800 to 1000; (SamplerFilter2:J5): ; (Spectrometer:J3): ;</td></tr>\n",
       "<tr><td>Spectrometer</td><td>B</td><td>4</td><td>Rcvr12_18</td><td>1</td><td>1</td><td>2</td><td>R1</td><td>LO1A</td><td>synthesizer</td><td>U</td><td>R</td><td>900000000.0</td><td>13879000000.0</td><td>200000000.0</td><td>0</td><td>nan</td><td>nan</td><td></td><td></td><td>1.0</td><td>1.0</td><td>1633000000.0</td><td>24</td><td>feed(Rcvr12_18:R1): 11800 to 15600, right_circular polarization; tone(Rcvr12_18:C1R): 0 x0; filter(Rcvr12_18:FL1R): 11800 to 15600; mixer(Rcvr12_18:MX1R): LO: 11346 (x1) from LO1A:synthesizer, IFo =  IFi - 11346; filter(Rcvr12_18:FL4R): 1250 to 4750; (Rcvr12_18:J3): ; (IFRouter:J26): ; (IFRouter:J68): ; (OpticalDriver4:J1): ; attenuator(OpticalDriver4:attenuator): ; (OpticalDriver4:J2): ; (OpticalReceiver4:J1): ; (OpticalReceiver4:J3): ; (ConverterModule6:J2): ; mixer(ConverterModule6:MX2): LO: 12133 (x1) from LO2_G2:synthesizer, IFo = 12133 - IFi; filter(ConverterModule6:FL1): 8500 to 10350; mixer(ConverterModule6:MX3): LO: 10500 (x1) from LO3Distribution1:synthesizer, IFo = 10500 - IFi; filter(ConverterModule6:FL2): 0 to 2200; attenuator(ConverterModule6:AT1): ; (ConverterModule6:J3): ; (SamplerFilter6:J1): ; filter(SamplerFilter6:FL2): 800 to 1000; (SamplerFilter6:J5): ; (Spectrometer:J4): ;</td></tr>\n",
       "<tr><td>Spectrometer</td><td>C</td><td>5</td><td>Rcvr12_18</td><td>1</td><td>1</td><td>2</td><td>L1</td><td>LO1A</td><td>synthesizer</td><td>U</td><td>L</td><td>900000000.0</td><td>14500000000.0</td><td>200000000.0</td><td>0</td><td>nan</td><td>nan</td><td></td><td></td><td>1.0</td><td>1.0</td><td>2254000000.0</td><td>24</td><td>feed(Rcvr12_18:L1): 11800 to 15600, left_circular polarization; tone(Rcvr12_18:C1L): 0 x0; filter(Rcvr12_18:FL1L): 11800 to 15600; mixer(Rcvr12_18:MX1L): LO: 11346 (x1) from LO1A:synthesizer, IFo =  IFi - 11346; filter(Rcvr12_18:FL4L): 1250 to 4750; (Rcvr12_18:J5): ; (IFRouter:J10): ; (IFRouter:J66): ; (OpticalDriver2:J1): ; attenuator(OpticalDriver2:attenuator): ; (OpticalDriver2:J2): ; (OpticalReceiver2:J1): ; (OpticalReceiver2:J4): ; (ConverterModule3:J2): ; mixer(ConverterModule3:MX2): LO: 12754 (x1) from LO2_G3:synthesizer, IFo = 12754 - IFi; filter(ConverterModule3:FL1): 8500 to 10350; mixer(ConverterModule3:MX3): LO: 10500 (x1) from LO3Distribution1:synthesizer, IFo = 10500 - IFi; filter(ConverterModule3:FL2): 0 to 2200; attenuator(ConverterModule3:AT1): ; (ConverterModule3:J3): ; (SamplerFilter3:J1): ; filter(SamplerFilter3:FL2): 800 to 1000; (SamplerFilter3:J5): ; (Spectrometer:J5): ;</td></tr>\n",
       "<tr><td>Spectrometer</td><td>C</td><td>6</td><td>Rcvr12_18</td><td>1</td><td>1</td><td>2</td><td>R1</td><td>LO1A</td><td>synthesizer</td><td>U</td><td>R</td><td>900000000.0</td><td>14500000000.0</td><td>200000000.0</td><td>0</td><td>nan</td><td>nan</td><td></td><td></td><td>1.0</td><td>1.0</td><td>2254000000.0</td><td>24</td><td>feed(Rcvr12_18:R1): 11800 to 15600, right_circular polarization; tone(Rcvr12_18:C1R): 0 x0; filter(Rcvr12_18:FL1R): 11800 to 15600; mixer(Rcvr12_18:MX1R): LO: 11346 (x1) from LO1A:synthesizer, IFo =  IFi - 11346; filter(Rcvr12_18:FL4R): 1250 to 4750; (Rcvr12_18:J3): ; (IFRouter:J26): ; (IFRouter:J68): ; (OpticalDriver4:J1): ; attenuator(OpticalDriver4:attenuator): ; (OpticalDriver4:J2): ; (OpticalReceiver4:J1): ; (OpticalReceiver4:J4): ; (ConverterModule7:J2): ; mixer(ConverterModule7:MX2): LO: 12754 (x1) from LO2_G3:synthesizer, IFo = 12754 - IFi; filter(ConverterModule7:FL1): 8500 to 10350; mixer(ConverterModule7:MX3): LO: 10500 (x1) from LO3Distribution1:synthesizer, IFo = 10500 - IFi; filter(ConverterModule7:FL2): 0 to 2200; attenuator(ConverterModule7:AT1): ; (ConverterModule7:J3): ; (SamplerFilter7:J1): ; filter(SamplerFilter7:FL2): 800 to 1000; (SamplerFilter7:J5): ; (Spectrometer:J6): ;</td></tr>\n",
       "<tr><td>Spectrometer</td><td>D</td><td>7</td><td>Rcvr12_18</td><td>1</td><td>1</td><td>2</td><td>L1</td><td>LO1A</td><td>synthesizer</td><td>U</td><td>L</td><td>900000000.0</td><td>15235000000.0</td><td>200000000.0</td><td>0</td><td>nan</td><td>nan</td><td></td><td></td><td>1.0</td><td>1.0</td><td>2989000000.0</td><td>24</td><td>feed(Rcvr12_18:L1): 11800 to 15600, left_circular polarization; tone(Rcvr12_18:C1L): 0 x0; filter(Rcvr12_18:FL1L): 11800 to 15600; mixer(Rcvr12_18:MX1L): LO: 11346 (x1) from LO1A:synthesizer, IFo =  IFi - 11346; filter(Rcvr12_18:FL4L): 1250 to 4750; (Rcvr12_18:J5): ; (IFRouter:J10): ; (IFRouter:J66): ; (OpticalDriver2:J1): ; attenuator(OpticalDriver2:attenuator): ; (OpticalDriver2:J2): ; (OpticalReceiver2:J1): ; (OpticalReceiver2:J5): ; (ConverterModule4:J2): ; mixer(ConverterModule4:MX2): LO: 13489 (x1) from LO2_G4:synthesizer, IFo = 13489 - IFi; filter(ConverterModule4:FL1): 8500 to 10350; mixer(ConverterModule4:MX3): LO: 10500 (x1) from LO3Distribution1:synthesizer, IFo = 10500 - IFi; filter(ConverterModule4:FL2): 0 to 2200; attenuator(ConverterModule4:AT1): ; (ConverterModule4:J3): ; (SamplerFilter4:J1): ; filter(SamplerFilter4:FL2): 800 to 1000; (SamplerFilter4:J5): ; (Spectrometer:J7): ;</td></tr>\n",
       "<tr><td>Spectrometer</td><td>D</td><td>8</td><td>Rcvr12_18</td><td>1</td><td>1</td><td>2</td><td>R1</td><td>LO1A</td><td>synthesizer</td><td>U</td><td>R</td><td>900000000.0</td><td>15235000000.0</td><td>200000000.0</td><td>0</td><td>nan</td><td>nan</td><td></td><td></td><td>1.0</td><td>1.0</td><td>2989000000.0</td><td>24</td><td>feed(Rcvr12_18:R1): 11800 to 15600, right_circular polarization; tone(Rcvr12_18:C1R): 0 x0; filter(Rcvr12_18:FL1R): 11800 to 15600; mixer(Rcvr12_18:MX1R): LO: 11346 (x1) from LO1A:synthesizer, IFo =  IFi - 11346; filter(Rcvr12_18:FL4R): 1250 to 4750; (Rcvr12_18:J3): ; (IFRouter:J26): ; (IFRouter:J68): ; (OpticalDriver4:J1): ; attenuator(OpticalDriver4:attenuator): ; (OpticalDriver4:J2): ; (OpticalReceiver4:J1): ; (OpticalReceiver4:J5): ; (ConverterModule8:J2): ; mixer(ConverterModule8:MX2): LO: 13489 (x1) from LO2_G4:synthesizer, IFo = 13489 - IFi; filter(ConverterModule8:FL1): 8500 to 10350; mixer(ConverterModule8:MX3): LO: 10500 (x1) from LO3Distribution1:synthesizer, IFo = 10500 - IFi; filter(ConverterModule8:FL2): 0 to 2200; attenuator(ConverterModule8:AT1): ; (ConverterModule8:J3): ; (SamplerFilter8:J1): ; filter(SamplerFilter8:FL2): 800 to 1000; (SamplerFilter8:J5): ; (Spectrometer:J8): ;</td></tr>\n",
       "</table>"
      ],
      "text/plain": [
       "<Table length=10>\n",
       "            BACKEND              ...\n",
       "              none               ...\n",
       "             str32               ...\n",
       "-------------------------------- ...\n",
       "DCR                              ...\n",
       "DCR                              ...\n",
       "Spectrometer                     ...\n",
       "Spectrometer                     ...\n",
       "Spectrometer                     ...\n",
       "Spectrometer                     ...\n",
       "Spectrometer                     ...\n",
       "Spectrometer                     ...\n",
       "Spectrometer                     ...\n",
       "Spectrometer                     ..."
      ]
     },
     "execution_count": 37,
     "metadata": {},
     "output_type": "execute_result"
    }
   ],
   "source": [
    "if_if_table = Table.read(if_hdul[if_hdul.index_of('IF')])\n",
    "if_if_table"
   ]
  },
  {
   "cell_type": "markdown",
   "metadata": {
    "slideshow": {
     "slide_type": "subslide"
    }
   },
   "source": [
    "Throw out non-DCR rows:"
   ]
  },
  {
   "cell_type": "code",
   "execution_count": 38,
   "metadata": {
    "slideshow": {
     "slide_type": "-"
    }
   },
   "outputs": [
    {
     "data": {
      "text/html": [
       "<i>Table length=2</i>\n",
       "<table id=\"table140158148409384\" class=\"table-striped table-bordered table-condensed\">\n",
       "<thead><tr><th>BACKEND</th><th>BANK</th><th>PORT</th><th>RECEIVER</th><th>FEED</th><th>SRFEED1</th><th>SRFEED2</th><th>RECEPTOR</th><th>LO_CIRCUIT</th><th>LO_COMPONENT</th><th>SIDEBAND</th><th>POLARIZE</th><th>CENTER_IF</th><th>CENTER_SKY</th><th>BANDWDTH</th><th>HIGH_CAL</th><th>TEST_TONE_IF</th><th>TEST_TONE_SKY</th><th>TEST_TONE_CIRCUIT</th><th>TEST_TONE_COMPONENT</th><th>SFF_MULTIPLIER</th><th>SFF_SIDEBAND</th><th>SFF_OFFSET</th><th>TRANSFORM_COUNT</th><th>TRANSFORMS</th></tr></thead>\n",
       "<thead><tr><th>none</th><th>none</th><th>none</th><th>none</th><th>none</th><th>none</th><th>none</th><th>none</th><th>none</th><th>none</th><th>none</th><th>none</th><th>Hz</th><th>Hz</th><th>Hz</th><th>none</th><th>Hz</th><th>Hz</th><th>none</th><th>none</th><th>none</th><th>none</th><th>none</th><th>none</th><th>none</th></tr></thead>\n",
       "<thead><tr><th>str32</th><th>str2</th><th>int32</th><th>str32</th><th>int32</th><th>int32</th><th>int32</th><th>str8</th><th>str32</th><th>str32</th><th>str2</th><th>str2</th><th>float32</th><th>float32</th><th>float32</th><th>int32</th><th>float32</th><th>float32</th><th>str32</th><th>str32</th><th>float64</th><th>float64</th><th>float64</th><th>int32</th><th>str4096</th></tr></thead>\n",
       "<tr><td>DCR</td><td>A</td><td>2</td><td>Rcvr12_18</td><td>1</td><td>1</td><td>2</td><td>L1</td><td>LO1A</td><td>synthesizer</td><td>U</td><td>L</td><td>2752000000.0</td><td>14098000000.0</td><td>3004000000.0</td><td>0</td><td>nan</td><td>nan</td><td></td><td></td><td>1.0</td><td>1.0</td><td>0.0</td><td>12</td><td>feed(Rcvr12_18:L1): 11800 to 15600, left_circular polarization; tone(Rcvr12_18:C1L): 0 x0; filter(Rcvr12_18:FL1L): 11800 to 15600; mixer(Rcvr12_18:MX1L): LO: 11346 (x1) from LO1A:synthesizer, IFo =  IFi - 11346; filter(Rcvr12_18:FL4L): 1250 to 4750; (Rcvr12_18:J5): ; (IFRouter:J10): ; (IFRouter:J66): ; (OpticalDriver2:J1): ; attenuator(OpticalDriver2:attenuator): ; (OpticalDriver2:J4): ; (DCR:J2): ;</td></tr>\n",
       "<tr><td>DCR</td><td>A</td><td>4</td><td>Rcvr12_18</td><td>1</td><td>1</td><td>2</td><td>R1</td><td>LO1A</td><td>synthesizer</td><td>U</td><td>R</td><td>2752000000.0</td><td>14098000000.0</td><td>3004000000.0</td><td>0</td><td>nan</td><td>nan</td><td></td><td></td><td>1.0</td><td>1.0</td><td>0.0</td><td>12</td><td>feed(Rcvr12_18:R1): 11800 to 15600, right_circular polarization; tone(Rcvr12_18:C1R): 0 x0; filter(Rcvr12_18:FL1R): 11800 to 15600; mixer(Rcvr12_18:MX1R): LO: 11346 (x1) from LO1A:synthesizer, IFo =  IFi - 11346; filter(Rcvr12_18:FL4R): 1250 to 4750; (Rcvr12_18:J3): ; (IFRouter:J26): ; (IFRouter:J68): ; (OpticalDriver4:J1): ; attenuator(OpticalDriver4:attenuator): ; (OpticalDriver4:J4): ; (DCR:J4): ;</td></tr>\n",
       "</table>"
      ],
      "text/plain": [
       "<Table length=2>\n",
       "            BACKEND              ...\n",
       "              none               ...\n",
       "             str32               ...\n",
       "-------------------------------- ...\n",
       "DCR                              ...\n",
       "DCR                              ..."
      ]
     },
     "execution_count": 38,
     "metadata": {},
     "output_type": "execute_result"
    }
   ],
   "source": [
    "backend_mask = (np.char.rstrip(if_if_table['BACKEND']) == 'DCR')\n",
    "if_if_table = if_if_table[backend_mask]\n",
    "if_if_table"
   ]
  },
  {
   "cell_type": "markdown",
   "metadata": {
    "slideshow": {
     "slide_type": "subslide"
    }
   },
   "source": [
    "Trim off the columns that we don't need:"
   ]
  },
  {
   "cell_type": "code",
   "execution_count": 39,
   "metadata": {
    "slideshow": {
     "slide_type": "-"
    }
   },
   "outputs": [
    {
     "data": {
      "text/html": [
       "<i>Table length=2</i>\n",
       "<table id=\"table140158148357592\" class=\"table-striped table-bordered table-condensed\">\n",
       "<thead><tr><th>FEED</th><th>RECEPTOR</th><th>POLARIZE</th><th>CENTER_SKY</th><th>BANDWDTH</th><th>PORT</th><th>HIGH_CAL</th></tr></thead>\n",
       "<thead><tr><th>none</th><th>none</th><th>none</th><th>Hz</th><th>Hz</th><th>none</th><th>none</th></tr></thead>\n",
       "<thead><tr><th>int32</th><th>str8</th><th>str2</th><th>float32</th><th>float32</th><th>int32</th><th>int32</th></tr></thead>\n",
       "<tr><td>1</td><td>L1</td><td>L</td><td>14098000000.0</td><td>3004000000.0</td><td>2</td><td>0</td></tr>\n",
       "<tr><td>1</td><td>R1</td><td>R</td><td>14098000000.0</td><td>3004000000.0</td><td>4</td><td>0</td></tr>\n",
       "</table>"
      ],
      "text/plain": [
       "<Table length=2>\n",
       " FEED RECEPTOR POLARIZE   CENTER_SKY    BANDWDTH    PORT HIGH_CAL\n",
       " none   none     none         Hz           Hz       none   none  \n",
       "int32   str8     str2      float32      float32    int32  int32  \n",
       "----- -------- -------- ------------- ------------ ----- --------\n",
       "    1 L1             L  14098000000.0 3004000000.0     2        0\n",
       "    1 R1             R  14098000000.0 3004000000.0     4        0"
      ]
     },
     "execution_count": 39,
     "metadata": {},
     "output_type": "execute_result"
    }
   ],
   "source": [
    "if_if_table = if_if_table['FEED', 'RECEPTOR', 'POLARIZE', 'CENTER_SKY', 'BANDWDTH', 'PORT', 'HIGH_CAL']\n",
    "if_if_table"
   ]
  },
  {
   "cell_type": "markdown",
   "metadata": {
    "slideshow": {
     "slide_type": "subslide"
    }
   },
   "source": [
    "Strip the whitespace from our `str` columns:"
   ]
  },
  {
   "cell_type": "code",
   "execution_count": 40,
   "metadata": {
    "slideshow": {
     "slide_type": "-"
    }
   },
   "outputs": [
    {
     "data": {
      "text/html": [
       "<i>Table length=2</i>\n",
       "<table id=\"table140158148357592\" class=\"table-striped table-bordered table-condensed\">\n",
       "<thead><tr><th>FEED</th><th>RECEPTOR</th><th>POLARIZE</th><th>CENTER_SKY</th><th>BANDWDTH</th><th>PORT</th><th>HIGH_CAL</th></tr></thead>\n",
       "<thead><tr><th>none</th><th></th><th></th><th>Hz</th><th>Hz</th><th>none</th><th>none</th></tr></thead>\n",
       "<thead><tr><th>int32</th><th>str8</th><th>str2</th><th>float32</th><th>float32</th><th>int32</th><th>int32</th></tr></thead>\n",
       "<tr><td>1</td><td>L1</td><td>L</td><td>14098000000.0</td><td>3004000000.0</td><td>2</td><td>0</td></tr>\n",
       "<tr><td>1</td><td>R1</td><td>R</td><td>14098000000.0</td><td>3004000000.0</td><td>4</td><td>0</td></tr>\n",
       "</table>"
      ],
      "text/plain": [
       "<Table length=2>\n",
       " FEED RECEPTOR POLARIZE   CENTER_SKY    BANDWDTH    PORT HIGH_CAL\n",
       " none                         Hz           Hz       none   none  \n",
       "int32   str8     str2      float32      float32    int32  int32  \n",
       "----- -------- -------- ------------- ------------ ----- --------\n",
       "    1       L1        L 14098000000.0 3004000000.0     2        0\n",
       "    1       R1        R 14098000000.0 3004000000.0     4        0"
      ]
     },
     "execution_count": 40,
     "metadata": {},
     "output_type": "execute_result"
    }
   ],
   "source": [
    "# Uh oh, looks like the str columns are padded! Let's fix that\n",
    "if_if_table['RECEPTOR'] = np.char.rstrip(if_if_table['RECEPTOR'])\n",
    "if_if_table['POLARIZE'] = np.char.rstrip(if_if_table['POLARIZE'])\n",
    "if_if_table"
   ]
  },
  {
   "cell_type": "markdown",
   "metadata": {
    "slideshow": {
     "slide_type": "slide"
    }
   },
   "source": [
    "## Step 3: Joining the Tables"
   ]
  },
  {
   "cell_type": "markdown",
   "metadata": {
    "slideshow": {
     "slide_type": "-"
    }
   },
   "source": [
    "Okay, so we now have all of our tables set up! But for what purpose?\n",
    "\n",
    "We now need to map each physical attribute (beam/port/etc.) to every permutation of phase. This means that, in this simple case, we will end up with `numPols` * `numPhases` (more complicated cases will require more terms). So, we determine that we need to have 8 total rows:"
   ]
  },
  {
   "cell_type": "code",
   "execution_count": 41,
   "metadata": {
    "slideshow": {
     "slide_type": "-"
    }
   },
   "outputs": [
    {
     "data": {
      "text/plain": [
       "8"
      ]
     },
     "execution_count": 41,
     "metadata": {},
     "output_type": "execute_result"
    }
   ],
   "source": [
    "len(if_if_table) * len(dcr_state_table)"
   ]
  },
  {
   "cell_type": "markdown",
   "metadata": {
    "slideshow": {
     "slide_type": "subslide"
    }
   },
   "source": [
    "So, we need to \"inflate\" our tables using `vstack`:"
   ]
  },
  {
   "cell_type": "code",
   "execution_count": 42,
   "metadata": {
    "slideshow": {
     "slide_type": "-"
    }
   },
   "outputs": [
    {
     "data": {
      "text/html": [
       "<i>Table length=8</i>\n",
       "<table id=\"table140158148354680\" class=\"table-striped table-bordered table-condensed\">\n",
       "<thead><tr><th>FEED</th><th>RECEPTOR</th><th>POLARIZE</th><th>CENTER_SKY</th><th>BANDWDTH</th><th>PORT</th><th>HIGH_CAL</th></tr></thead>\n",
       "<thead><tr><th>none</th><th></th><th></th><th>Hz</th><th>Hz</th><th>none</th><th>none</th></tr></thead>\n",
       "<thead><tr><th>int32</th><th>str8</th><th>str2</th><th>float32</th><th>float32</th><th>int32</th><th>int32</th></tr></thead>\n",
       "<tr><td>1</td><td>L1</td><td>L</td><td>14098000000.0</td><td>3004000000.0</td><td>2</td><td>0</td></tr>\n",
       "<tr><td>1</td><td>L1</td><td>L</td><td>14098000000.0</td><td>3004000000.0</td><td>2</td><td>0</td></tr>\n",
       "<tr><td>1</td><td>L1</td><td>L</td><td>14098000000.0</td><td>3004000000.0</td><td>2</td><td>0</td></tr>\n",
       "<tr><td>1</td><td>L1</td><td>L</td><td>14098000000.0</td><td>3004000000.0</td><td>2</td><td>0</td></tr>\n",
       "<tr><td>1</td><td>R1</td><td>R</td><td>14098000000.0</td><td>3004000000.0</td><td>4</td><td>0</td></tr>\n",
       "<tr><td>1</td><td>R1</td><td>R</td><td>14098000000.0</td><td>3004000000.0</td><td>4</td><td>0</td></tr>\n",
       "<tr><td>1</td><td>R1</td><td>R</td><td>14098000000.0</td><td>3004000000.0</td><td>4</td><td>0</td></tr>\n",
       "<tr><td>1</td><td>R1</td><td>R</td><td>14098000000.0</td><td>3004000000.0</td><td>4</td><td>0</td></tr>\n",
       "</table>"
      ],
      "text/plain": [
       "<Table length=8>\n",
       " FEED RECEPTOR POLARIZE   CENTER_SKY    BANDWDTH    PORT HIGH_CAL\n",
       " none                         Hz           Hz       none   none  \n",
       "int32   str8     str2      float32      float32    int32  int32  \n",
       "----- -------- -------- ------------- ------------ ----- --------\n",
       "    1       L1        L 14098000000.0 3004000000.0     2        0\n",
       "    1       L1        L 14098000000.0 3004000000.0     2        0\n",
       "    1       L1        L 14098000000.0 3004000000.0     2        0\n",
       "    1       L1        L 14098000000.0 3004000000.0     2        0\n",
       "    1       R1        R 14098000000.0 3004000000.0     4        0\n",
       "    1       R1        R 14098000000.0 3004000000.0     4        0\n",
       "    1       R1        R 14098000000.0 3004000000.0     4        0\n",
       "    1       R1        R 14098000000.0 3004000000.0     4        0"
      ]
     },
     "execution_count": 42,
     "metadata": {},
     "output_type": "execute_result"
    }
   ],
   "source": [
    "from astropy.table import vstack\n",
    "\n",
    "# Inflate IF table to reach 8 total rows:\n",
    "stacked_if_table = vstack([if_if_table] * len(dcr_state_table))\n",
    "# We must sort here so that we can properly join with the state table later -- we need one port on top of the other,\n",
    "# not mixed together!\n",
    "stacked_if_table.sort('PORT')\n",
    "stacked_if_table"
   ]
  },
  {
   "cell_type": "code",
   "execution_count": 43,
   "metadata": {
    "slideshow": {
     "slide_type": "subslide"
    }
   },
   "outputs": [
    {
     "data": {
      "text/html": [
       "<i>Table length=8</i>\n",
       "<table id=\"table140158148408712\" class=\"table-striped table-bordered table-condensed\">\n",
       "<thead><tr><th>SIGREF</th><th>CAL</th><th>PHASE_ID</th><th>PHASE</th></tr></thead>\n",
       "<thead><tr><th>uint8</th><th>uint8</th><th>int64</th><th>str18</th></tr></thead>\n",
       "<tr><td>0</td><td>0</td><td>0</td><td>Signal / No Cal</td></tr>\n",
       "<tr><td>0</td><td>1</td><td>1</td><td>Signal / Cal</td></tr>\n",
       "<tr><td>1</td><td>0</td><td>2</td><td>Reference / No Cal</td></tr>\n",
       "<tr><td>1</td><td>1</td><td>3</td><td>Reference / Cal</td></tr>\n",
       "<tr><td>0</td><td>0</td><td>0</td><td>Signal / No Cal</td></tr>\n",
       "<tr><td>0</td><td>1</td><td>1</td><td>Signal / Cal</td></tr>\n",
       "<tr><td>1</td><td>0</td><td>2</td><td>Reference / No Cal</td></tr>\n",
       "<tr><td>1</td><td>1</td><td>3</td><td>Reference / Cal</td></tr>\n",
       "</table>"
      ],
      "text/plain": [
       "<Table length=8>\n",
       "SIGREF  CAL  PHASE_ID       PHASE       \n",
       "uint8  uint8  int64         str18       \n",
       "------ ----- -------- ------------------\n",
       "     0     0        0    Signal / No Cal\n",
       "     0     1        1       Signal / Cal\n",
       "     1     0        2 Reference / No Cal\n",
       "     1     1        3    Reference / Cal\n",
       "     0     0        0    Signal / No Cal\n",
       "     0     1        1       Signal / Cal\n",
       "     1     0        2 Reference / No Cal\n",
       "     1     1        3    Reference / Cal"
      ]
     },
     "execution_count": 43,
     "metadata": {},
     "output_type": "execute_result"
    }
   ],
   "source": [
    "# Inflate state table to reach 8 total rows\n",
    "stacked_state_table = vstack([dcr_state_table] * len(if_if_table))\n",
    "stacked_state_table"
   ]
  },
  {
   "cell_type": "markdown",
   "metadata": {
    "slideshow": {
     "slide_type": "subslide"
    }
   },
   "source": [
    "Great, now we have two tables of compatible shapes! We just need to stick them together:"
   ]
  },
  {
   "cell_type": "code",
   "execution_count": 44,
   "metadata": {
    "slideshow": {
     "slide_type": "-"
    }
   },
   "outputs": [
    {
     "data": {
      "text/html": [
       "<i>Table length=8</i>\n",
       "<table id=\"table140158148897424\" class=\"table-striped table-bordered table-condensed\">\n",
       "<thead><tr><th>FEED</th><th>RECEPTOR</th><th>POLARIZE</th><th>CENTER_SKY</th><th>BANDWDTH</th><th>PORT</th><th>HIGH_CAL</th><th>SIGREF</th><th>CAL</th><th>PHASE_ID</th><th>PHASE</th></tr></thead>\n",
       "<thead><tr><th>none</th><th></th><th></th><th>Hz</th><th>Hz</th><th>none</th><th>none</th><th></th><th></th><th></th><th></th></tr></thead>\n",
       "<thead><tr><th>int32</th><th>str8</th><th>str2</th><th>float32</th><th>float32</th><th>int32</th><th>int32</th><th>uint8</th><th>uint8</th><th>int64</th><th>str18</th></tr></thead>\n",
       "<tr><td>1</td><td>L1</td><td>L</td><td>14098000000.0</td><td>3004000000.0</td><td>2</td><td>0</td><td>0</td><td>0</td><td>0</td><td>Signal / No Cal</td></tr>\n",
       "<tr><td>1</td><td>L1</td><td>L</td><td>14098000000.0</td><td>3004000000.0</td><td>2</td><td>0</td><td>0</td><td>1</td><td>1</td><td>Signal / Cal</td></tr>\n",
       "<tr><td>1</td><td>L1</td><td>L</td><td>14098000000.0</td><td>3004000000.0</td><td>2</td><td>0</td><td>1</td><td>0</td><td>2</td><td>Reference / No Cal</td></tr>\n",
       "<tr><td>1</td><td>L1</td><td>L</td><td>14098000000.0</td><td>3004000000.0</td><td>2</td><td>0</td><td>1</td><td>1</td><td>3</td><td>Reference / Cal</td></tr>\n",
       "<tr><td>1</td><td>R1</td><td>R</td><td>14098000000.0</td><td>3004000000.0</td><td>4</td><td>0</td><td>0</td><td>0</td><td>0</td><td>Signal / No Cal</td></tr>\n",
       "<tr><td>1</td><td>R1</td><td>R</td><td>14098000000.0</td><td>3004000000.0</td><td>4</td><td>0</td><td>0</td><td>1</td><td>1</td><td>Signal / Cal</td></tr>\n",
       "<tr><td>1</td><td>R1</td><td>R</td><td>14098000000.0</td><td>3004000000.0</td><td>4</td><td>0</td><td>1</td><td>0</td><td>2</td><td>Reference / No Cal</td></tr>\n",
       "<tr><td>1</td><td>R1</td><td>R</td><td>14098000000.0</td><td>3004000000.0</td><td>4</td><td>0</td><td>1</td><td>1</td><td>3</td><td>Reference / Cal</td></tr>\n",
       "</table>"
      ],
      "text/plain": [
       "<Table length=8>\n",
       " FEED RECEPTOR POLARIZE   CENTER_SKY  ...  CAL  PHASE_ID       PHASE       \n",
       " none                         Hz      ...                                  \n",
       "int32   str8     str2      float32    ... uint8  int64         str18       \n",
       "----- -------- -------- ------------- ... ----- -------- ------------------\n",
       "    1       L1        L 14098000000.0 ...     0        0    Signal / No Cal\n",
       "    1       L1        L 14098000000.0 ...     1        1       Signal / Cal\n",
       "    1       L1        L 14098000000.0 ...     0        2 Reference / No Cal\n",
       "    1       L1        L 14098000000.0 ...     1        3    Reference / Cal\n",
       "    1       R1        R 14098000000.0 ...     0        0    Signal / No Cal\n",
       "    1       R1        R 14098000000.0 ...     1        1       Signal / Cal\n",
       "    1       R1        R 14098000000.0 ...     0        2 Reference / No Cal\n",
       "    1       R1        R 14098000000.0 ...     1        3    Reference / Cal"
      ]
     },
     "execution_count": 44,
     "metadata": {},
     "output_type": "execute_result"
    }
   ],
   "source": [
    "# Ignore the warnings here; don't care in this simple example\n",
    "import warnings\n",
    "from astropy.utils.exceptions import AstropyWarning\n",
    "warnings.simplefilter('ignore', AstropyWarning)\n",
    "\n",
    "from astropy.table import hstack\n",
    "\n",
    "dcr_table = hstack([stacked_if_table, stacked_state_table])\n",
    "dcr_table"
   ]
  },
  {
   "cell_type": "markdown",
   "metadata": {
    "slideshow": {
     "slide_type": "slide"
    }
   },
   "source": [
    "## Data Selection"
   ]
  },
  {
   "cell_type": "markdown",
   "metadata": {
    "slideshow": {
     "slide_type": "-"
    }
   },
   "source": [
    "Now, let's take a quick detour to discuss how the data selection is going to work. `DCR.DATA.DATA` is time-domain data (i.e. per-integration) of the shape `(integration, port, phase)`:"
   ]
  },
  {
   "cell_type": "code",
   "execution_count": 45,
   "metadata": {
    "slideshow": {
     "slide_type": "-"
    }
   },
   "outputs": [
    {
     "data": {
      "text/plain": [
       "(149, 2, 4)"
      ]
     },
     "execution_count": 45,
     "metadata": {},
     "output_type": "execute_result"
    }
   ],
   "source": [
    "dcr_data_table['DATA'].shape"
   ]
  },
  {
   "cell_type": "markdown",
   "metadata": {
    "slideshow": {
     "slide_type": "subslide"
    }
   },
   "source": [
    "We need to slice this out into the physical domain -- that is, get all of the data from all integrations that was taken for each unique set of physical attributes (port and phase). Let's take the first port (2) and the first phase (0, 0) as an example:"
   ]
  },
  {
   "cell_type": "code",
   "execution_count": 46,
   "metadata": {
    "slideshow": {
     "slide_type": "-"
    }
   },
   "outputs": [
    {
     "data": {
      "text/plain": [
       "array([[188315, 206737, 188401, 208401],\n",
       "       [175363, 188055, 199285, 211099]], dtype=int32)"
      ]
     },
     "execution_count": 46,
     "metadata": {},
     "output_type": "execute_result"
    }
   ],
   "source": [
    "data = dcr_data_table['DATA']\n",
    "# All data taken in the first integration\n",
    "data[0]"
   ]
  },
  {
   "cell_type": "code",
   "execution_count": 47,
   "metadata": {
    "slideshow": {
     "slide_type": "fragment"
    }
   },
   "outputs": [
    {
     "data": {
      "text/plain": [
       "array([188315, 206737, 188401, 208401], dtype=int32)"
      ]
     },
     "execution_count": 47,
     "metadata": {},
     "output_type": "execute_result"
    }
   ],
   "source": [
    "# All data taken via the first port in the first integration\n",
    "data[0][0]"
   ]
  },
  {
   "cell_type": "code",
   "execution_count": 48,
   "metadata": {
    "slideshow": {
     "slide_type": "fragment"
    }
   },
   "outputs": [
    {
     "data": {
      "text/plain": [
       "188315"
      ]
     },
     "execution_count": 48,
     "metadata": {},
     "output_type": "execute_result"
    }
   ],
   "source": [
    "# Phase \"Signal / No Cal\" datum taken via the first port in the first integration\n",
    "data[0][0][0]"
   ]
  },
  {
   "cell_type": "markdown",
   "metadata": {
    "slideshow": {
     "slide_type": "subslide"
    }
   },
   "source": [
    "#### NumPy Data Selection\n",
    "\n",
    "But, how do we select data from this port/phase over _all_ integrations?"
   ]
  },
  {
   "cell_type": "code",
   "execution_count": 49,
   "metadata": {
    "scrolled": true,
    "slideshow": {
     "slide_type": "fragment"
    }
   },
   "outputs": [
    {
     "data": {
      "text/html": [
       "&lt;Column name=&apos;DATA&apos; dtype=&apos;int32&apos; shape=(4,) unit=&apos;COUNTS&apos; length=149&gt;\n",
       "<table>\n",
       "<tr><td>188315 .. 208401</td></tr>\n",
       "<tr><td>188380 .. 206708</td></tr>\n",
       "<tr><td>188290 .. 203304</td></tr>\n",
       "<tr><td>188440 .. 199489</td></tr>\n",
       "<tr><td>188634 .. 197584</td></tr>\n",
       "<tr><td>188737 .. 193076</td></tr>\n",
       "<tr><td>188785 .. 190518</td></tr>\n",
       "<tr><td>188706 .. 189781</td></tr>\n",
       "<tr><td>188497 .. 189557</td></tr>\n",
       "<tr><td>188516 .. 189640</td></tr>\n",
       "<tr><td>188416 .. 189543</td></tr>\n",
       "<tr><td>188509 .. 189536</td></tr>\n",
       "<tr><td>...</td></tr>\n",
       "<tr><td>186905 .. 187411</td></tr>\n",
       "<tr><td>186874 .. 187410</td></tr>\n",
       "<tr><td>186929 .. 187395</td></tr>\n",
       "<tr><td>187060 .. 187396</td></tr>\n",
       "<tr><td>186974 .. 187359</td></tr>\n",
       "<tr><td>187040 .. 187448</td></tr>\n",
       "<tr><td>187239 .. 187491</td></tr>\n",
       "<tr><td>187126 .. 187595</td></tr>\n",
       "<tr><td>187228 .. 187621</td></tr>\n",
       "<tr><td>187178 .. 187386</td></tr>\n",
       "<tr><td>187008 .. 187516</td></tr>\n",
       "<tr><td>186796 .. 187340</td></tr>\n",
       "</table>"
      ],
      "text/plain": [
       "<Column name='DATA' dtype='int32' shape=(4,) unit='COUNTS' length=149>\n",
       "188315 .. 208401\n",
       "188380 .. 206708\n",
       "188290 .. 203304\n",
       "188440 .. 199489\n",
       "188634 .. 197584\n",
       "188737 .. 193076\n",
       "188785 .. 190518\n",
       "188706 .. 189781\n",
       "188497 .. 189557\n",
       "188516 .. 189640\n",
       "188416 .. 189543\n",
       "188509 .. 189536\n",
       "             ...\n",
       "186905 .. 187411\n",
       "186874 .. 187410\n",
       "186929 .. 187395\n",
       "187060 .. 187396\n",
       "186974 .. 187359\n",
       "187040 .. 187448\n",
       "187239 .. 187491\n",
       "187126 .. 187595\n",
       "187228 .. 187621\n",
       "187178 .. 187386\n",
       "187008 .. 187516\n",
       "186796 .. 187340"
      ]
     },
     "execution_count": 49,
     "metadata": {},
     "output_type": "execute_result"
    }
   ],
   "source": [
    "# All data taken via the first port\n",
    "data[:, 0]"
   ]
  },
  {
   "cell_type": "code",
   "execution_count": 50,
   "metadata": {
    "scrolled": true,
    "slideshow": {
     "slide_type": "fragment"
    }
   },
   "outputs": [
    {
     "data": {
      "text/html": [
       "&lt;Column name=&apos;DATA&apos; dtype=&apos;int32&apos; unit=&apos;COUNTS&apos; length=149&gt;\n",
       "<table>\n",
       "<tr><td>188315</td></tr>\n",
       "<tr><td>188380</td></tr>\n",
       "<tr><td>188290</td></tr>\n",
       "<tr><td>188440</td></tr>\n",
       "<tr><td>188634</td></tr>\n",
       "<tr><td>188737</td></tr>\n",
       "<tr><td>188785</td></tr>\n",
       "<tr><td>188706</td></tr>\n",
       "<tr><td>188497</td></tr>\n",
       "<tr><td>188516</td></tr>\n",
       "<tr><td>188416</td></tr>\n",
       "<tr><td>188509</td></tr>\n",
       "<tr><td>...</td></tr>\n",
       "<tr><td>186905</td></tr>\n",
       "<tr><td>186874</td></tr>\n",
       "<tr><td>186929</td></tr>\n",
       "<tr><td>187060</td></tr>\n",
       "<tr><td>186974</td></tr>\n",
       "<tr><td>187040</td></tr>\n",
       "<tr><td>187239</td></tr>\n",
       "<tr><td>187126</td></tr>\n",
       "<tr><td>187228</td></tr>\n",
       "<tr><td>187178</td></tr>\n",
       "<tr><td>187008</td></tr>\n",
       "<tr><td>186796</td></tr>\n",
       "</table>"
      ],
      "text/plain": [
       "<Column name='DATA' dtype='int32' unit='COUNTS' length=149>\n",
       "188315\n",
       "188380\n",
       "188290\n",
       "188440\n",
       "188634\n",
       "188737\n",
       "188785\n",
       "188706\n",
       "188497\n",
       "188516\n",
       "188416\n",
       "188509\n",
       "   ...\n",
       "186905\n",
       "186874\n",
       "186929\n",
       "187060\n",
       "186974\n",
       "187040\n",
       "187239\n",
       "187126\n",
       "187228\n",
       "187178\n",
       "187008\n",
       "186796"
      ]
     },
     "execution_count": 50,
     "metadata": {},
     "output_type": "execute_result"
    }
   ],
   "source": [
    "# All data with phase phase \"Signal / No Cal\" taken via the first port\n",
    "data[:, 0, 0]"
   ]
  },
  {
   "cell_type": "markdown",
   "metadata": {
    "slideshow": {
     "slide_type": "slide"
    }
   },
   "source": [
    "## Step 4: Map the Data"
   ]
  },
  {
   "cell_type": "markdown",
   "metadata": {
    "slideshow": {
     "slide_type": "-"
    }
   },
   "source": [
    "Add an empty DATA column as a placeholder:"
   ]
  },
  {
   "cell_type": "code",
   "execution_count": 51,
   "metadata": {
    "slideshow": {
     "slide_type": "-"
    }
   },
   "outputs": [
    {
     "data": {
      "text/html": [
       "<i>Table length=8</i>\n",
       "<table id=\"table140158148897424\" class=\"table-striped table-bordered table-condensed\">\n",
       "<thead><tr><th>FEED</th><th>RECEPTOR</th><th>POLARIZE</th><th>CENTER_SKY</th><th>BANDWDTH</th><th>PORT</th><th>HIGH_CAL</th><th>SIGREF</th><th>CAL</th><th>PHASE_ID</th><th>PHASE</th><th>DATA [149]</th></tr></thead>\n",
       "<thead><tr><th>none</th><th></th><th></th><th>Hz</th><th>Hz</th><th>none</th><th>none</th><th></th><th></th><th></th><th></th><th></th></tr></thead>\n",
       "<thead><tr><th>int32</th><th>str8</th><th>str2</th><th>float32</th><th>float32</th><th>int32</th><th>int32</th><th>uint8</th><th>uint8</th><th>int64</th><th>str18</th><th>int32</th></tr></thead>\n",
       "<tr><td>1</td><td>L1</td><td>L</td><td>14098000000.0</td><td>3004000000.0</td><td>2</td><td>0</td><td>0</td><td>0</td><td>0</td><td>Signal / No Cal</td><td>0 .. 0</td></tr>\n",
       "<tr><td>1</td><td>L1</td><td>L</td><td>14098000000.0</td><td>3004000000.0</td><td>2</td><td>0</td><td>0</td><td>1</td><td>1</td><td>Signal / Cal</td><td>0 .. 0</td></tr>\n",
       "<tr><td>1</td><td>L1</td><td>L</td><td>14098000000.0</td><td>3004000000.0</td><td>2</td><td>0</td><td>1</td><td>0</td><td>2</td><td>Reference / No Cal</td><td>0 .. 0</td></tr>\n",
       "<tr><td>1</td><td>L1</td><td>L</td><td>14098000000.0</td><td>3004000000.0</td><td>2</td><td>0</td><td>1</td><td>1</td><td>3</td><td>Reference / Cal</td><td>0 .. 0</td></tr>\n",
       "<tr><td>1</td><td>R1</td><td>R</td><td>14098000000.0</td><td>3004000000.0</td><td>4</td><td>0</td><td>0</td><td>0</td><td>0</td><td>Signal / No Cal</td><td>0 .. 0</td></tr>\n",
       "<tr><td>1</td><td>R1</td><td>R</td><td>14098000000.0</td><td>3004000000.0</td><td>4</td><td>0</td><td>0</td><td>1</td><td>1</td><td>Signal / Cal</td><td>0 .. 0</td></tr>\n",
       "<tr><td>1</td><td>R1</td><td>R</td><td>14098000000.0</td><td>3004000000.0</td><td>4</td><td>0</td><td>1</td><td>0</td><td>2</td><td>Reference / No Cal</td><td>0 .. 0</td></tr>\n",
       "<tr><td>1</td><td>R1</td><td>R</td><td>14098000000.0</td><td>3004000000.0</td><td>4</td><td>0</td><td>1</td><td>1</td><td>3</td><td>Reference / Cal</td><td>0 .. 0</td></tr>\n",
       "</table>"
      ],
      "text/plain": [
       "<Table length=8>\n",
       " FEED RECEPTOR POLARIZE   CENTER_SKY  ... PHASE_ID       PHASE        DATA [149]\n",
       " none                         Hz      ...                                       \n",
       "int32   str8     str2      float32    ...  int64         str18          int32   \n",
       "----- -------- -------- ------------- ... -------- ------------------ ----------\n",
       "    1       L1        L 14098000000.0 ...        0    Signal / No Cal     0 .. 0\n",
       "    1       L1        L 14098000000.0 ...        1       Signal / Cal     0 .. 0\n",
       "    1       L1        L 14098000000.0 ...        2 Reference / No Cal     0 .. 0\n",
       "    1       L1        L 14098000000.0 ...        3    Reference / Cal     0 .. 0\n",
       "    1       R1        R 14098000000.0 ...        0    Signal / No Cal     0 .. 0\n",
       "    1       R1        R 14098000000.0 ...        1       Signal / Cal     0 .. 0\n",
       "    1       R1        R 14098000000.0 ...        2 Reference / No Cal     0 .. 0\n",
       "    1       R1        R 14098000000.0 ...        3    Reference / Cal     0 .. 0"
      ]
     },
     "execution_count": 51,
     "metadata": {},
     "output_type": "execute_result"
    }
   ],
   "source": [
    "dcr_table.add_column(\n",
    "    Column(\n",
    "        name='DATA',\n",
    "        dtype=dcr_data_table['DATA'].dtype,\n",
    "        shape=dcr_data_table['DATA'].shape[0],\n",
    "        length=len(dcr_table)\n",
    "    )\n",
    ")\n",
    "dcr_table"
   ]
  },
  {
   "cell_type": "markdown",
   "metadata": {
    "slideshow": {
     "slide_type": "subslide"
    }
   },
   "source": [
    "Now, perform the actual selection of the data:"
   ]
  },
  {
   "cell_type": "code",
   "execution_count": 58,
   "metadata": {
    "slideshow": {
     "slide_type": "-"
    }
   },
   "outputs": [
    {
     "data": {
      "text/html": [
       "<i>Table length=8</i>\n",
       "<table id=\"table140158148897424\" class=\"table-striped table-bordered table-condensed\">\n",
       "<thead><tr><th>FEED</th><th>RECEPTOR</th><th>POLARIZE</th><th>CENTER_SKY</th><th>BANDWDTH</th><th>PORT</th><th>HIGH_CAL</th><th>SIGREF</th><th>CAL</th><th>PHASE_ID</th><th>PHASE</th><th>DATA [149]</th></tr></thead>\n",
       "<thead><tr><th>none</th><th></th><th></th><th>Hz</th><th>Hz</th><th>none</th><th>none</th><th></th><th></th><th></th><th></th><th></th></tr></thead>\n",
       "<thead><tr><th>int32</th><th>str8</th><th>str2</th><th>float32</th><th>float32</th><th>int32</th><th>int32</th><th>uint8</th><th>uint8</th><th>int64</th><th>str18</th><th>int32</th></tr></thead>\n",
       "<tr><td>1</td><td>L1</td><td>L</td><td>14098000000.0</td><td>3004000000.0</td><td>2</td><td>0</td><td>0</td><td>0</td><td>0</td><td>Signal / No Cal</td><td>188315 .. 186796</td></tr>\n",
       "<tr><td>1</td><td>L1</td><td>L</td><td>14098000000.0</td><td>3004000000.0</td><td>2</td><td>0</td><td>0</td><td>1</td><td>1</td><td>Signal / Cal</td><td>206737 .. 205060</td></tr>\n",
       "<tr><td>1</td><td>L1</td><td>L</td><td>14098000000.0</td><td>3004000000.0</td><td>2</td><td>0</td><td>1</td><td>0</td><td>2</td><td>Reference / No Cal</td><td>188401 .. 167530</td></tr>\n",
       "<tr><td>1</td><td>L1</td><td>L</td><td>14098000000.0</td><td>3004000000.0</td><td>2</td><td>0</td><td>1</td><td>1</td><td>3</td><td>Reference / Cal</td><td>208401 .. 187340</td></tr>\n",
       "<tr><td>1</td><td>R1</td><td>R</td><td>14098000000.0</td><td>3004000000.0</td><td>4</td><td>0</td><td>0</td><td>0</td><td>0</td><td>Signal / No Cal</td><td>175363 .. 174353</td></tr>\n",
       "<tr><td>1</td><td>R1</td><td>R</td><td>14098000000.0</td><td>3004000000.0</td><td>4</td><td>0</td><td>0</td><td>1</td><td>1</td><td>Signal / Cal</td><td>188055 .. 186965</td></tr>\n",
       "<tr><td>1</td><td>R1</td><td>R</td><td>14098000000.0</td><td>3004000000.0</td><td>4</td><td>0</td><td>1</td><td>0</td><td>2</td><td>Reference / No Cal</td><td>199285 .. 180831</td></tr>\n",
       "<tr><td>1</td><td>R1</td><td>R</td><td>14098000000.0</td><td>3004000000.0</td><td>4</td><td>0</td><td>1</td><td>1</td><td>3</td><td>Reference / Cal</td><td>211099 .. 192353</td></tr>\n",
       "</table>"
      ],
      "text/plain": [
       "<Table length=8>\n",
       " FEED RECEPTOR POLARIZE ... PHASE_ID       PHASE           DATA [149]   \n",
       " none                   ...                                             \n",
       "int32   str8     str2   ...  int64         str18             int32      \n",
       "----- -------- -------- ... -------- ------------------ ----------------\n",
       "    1       L1        L ...        0    Signal / No Cal 188315 .. 186796\n",
       "    1       L1        L ...        1       Signal / Cal 206737 .. 205060\n",
       "    1       L1        L ...        2 Reference / No Cal 188401 .. 167530\n",
       "    1       L1        L ...        3    Reference / Cal 208401 .. 187340\n",
       "    1       R1        R ...        0    Signal / No Cal 175363 .. 174353\n",
       "    1       R1        R ...        1       Signal / Cal 188055 .. 186965\n",
       "    1       R1        R ...        2 Reference / No Cal 199285 .. 180831\n",
       "    1       R1        R ...        3    Reference / Cal 211099 .. 192353"
      ]
     },
     "execution_count": 58,
     "metadata": {},
     "output_type": "execute_result"
    }
   ],
   "source": [
    "for ri, row in enumerate(dcr_table):\n",
    "    phase_id = row['PHASE_ID']\n",
    "    # Determine the index of the current port\n",
    "    # TODO: Big performance gain if port_index were tracked within dcr_table\n",
    "    port_index = np.where(np.unique(dcr_table['PORT']) == row['PORT'])[0][0]\n",
    "    # Select all data associated with phase and port\n",
    "    dcr_table['DATA'][ri] = dcr_data_table['DATA'][::, port_index, phase_id]\n",
    "    \n",
    "dcr_table"
   ]
  },
  {
   "cell_type": "markdown",
   "metadata": {
    "slideshow": {
     "slide_type": "slide"
    }
   },
   "source": [
    "Okay... but what can we *do* with this?\n",
    "\n",
    "Let's try out something similar to what you might do in GFM: plot the \"Signal / No Cal\" phase for both polarizations"
   ]
  },
  {
   "cell_type": "code",
   "execution_count": 65,
   "metadata": {
    "slideshow": {
     "slide_type": "slide"
    }
   },
   "outputs": [
    {
     "data": {
      "application/javascript": [
       "/* Put everything inside the global mpl namespace */\n",
       "window.mpl = {};\n",
       "\n",
       "\n",
       "mpl.get_websocket_type = function() {\n",
       "    if (typeof(WebSocket) !== 'undefined') {\n",
       "        return WebSocket;\n",
       "    } else if (typeof(MozWebSocket) !== 'undefined') {\n",
       "        return MozWebSocket;\n",
       "    } else {\n",
       "        alert('Your browser does not have WebSocket support.' +\n",
       "              'Please try Chrome, Safari or Firefox ≥ 6. ' +\n",
       "              'Firefox 4 and 5 are also supported but you ' +\n",
       "              'have to enable WebSockets in about:config.');\n",
       "    };\n",
       "}\n",
       "\n",
       "mpl.figure = function(figure_id, websocket, ondownload, parent_element) {\n",
       "    this.id = figure_id;\n",
       "\n",
       "    this.ws = websocket;\n",
       "\n",
       "    this.supports_binary = (this.ws.binaryType != undefined);\n",
       "\n",
       "    if (!this.supports_binary) {\n",
       "        var warnings = document.getElementById(\"mpl-warnings\");\n",
       "        if (warnings) {\n",
       "            warnings.style.display = 'block';\n",
       "            warnings.textContent = (\n",
       "                \"This browser does not support binary websocket messages. \" +\n",
       "                    \"Performance may be slow.\");\n",
       "        }\n",
       "    }\n",
       "\n",
       "    this.imageObj = new Image();\n",
       "\n",
       "    this.context = undefined;\n",
       "    this.message = undefined;\n",
       "    this.canvas = undefined;\n",
       "    this.rubberband_canvas = undefined;\n",
       "    this.rubberband_context = undefined;\n",
       "    this.format_dropdown = undefined;\n",
       "\n",
       "    this.image_mode = 'full';\n",
       "\n",
       "    this.root = $('<div/>');\n",
       "    this._root_extra_style(this.root)\n",
       "    this.root.attr('style', 'display: inline-block');\n",
       "\n",
       "    $(parent_element).append(this.root);\n",
       "\n",
       "    this._init_header(this);\n",
       "    this._init_canvas(this);\n",
       "    this._init_toolbar(this);\n",
       "\n",
       "    var fig = this;\n",
       "\n",
       "    this.waiting = false;\n",
       "\n",
       "    this.ws.onopen =  function () {\n",
       "            fig.send_message(\"supports_binary\", {value: fig.supports_binary});\n",
       "            fig.send_message(\"send_image_mode\", {});\n",
       "            if (mpl.ratio != 1) {\n",
       "                fig.send_message(\"set_dpi_ratio\", {'dpi_ratio': mpl.ratio});\n",
       "            }\n",
       "            fig.send_message(\"refresh\", {});\n",
       "        }\n",
       "\n",
       "    this.imageObj.onload = function() {\n",
       "            if (fig.image_mode == 'full') {\n",
       "                // Full images could contain transparency (where diff images\n",
       "                // almost always do), so we need to clear the canvas so that\n",
       "                // there is no ghosting.\n",
       "                fig.context.clearRect(0, 0, fig.canvas.width, fig.canvas.height);\n",
       "            }\n",
       "            fig.context.drawImage(fig.imageObj, 0, 0);\n",
       "        };\n",
       "\n",
       "    this.imageObj.onunload = function() {\n",
       "        fig.ws.close();\n",
       "    }\n",
       "\n",
       "    this.ws.onmessage = this._make_on_message_function(this);\n",
       "\n",
       "    this.ondownload = ondownload;\n",
       "}\n",
       "\n",
       "mpl.figure.prototype._init_header = function() {\n",
       "    var titlebar = $(\n",
       "        '<div class=\"ui-dialog-titlebar ui-widget-header ui-corner-all ' +\n",
       "        'ui-helper-clearfix\"/>');\n",
       "    var titletext = $(\n",
       "        '<div class=\"ui-dialog-title\" style=\"width: 100%; ' +\n",
       "        'text-align: center; padding: 3px;\"/>');\n",
       "    titlebar.append(titletext)\n",
       "    this.root.append(titlebar);\n",
       "    this.header = titletext[0];\n",
       "}\n",
       "\n",
       "\n",
       "\n",
       "mpl.figure.prototype._canvas_extra_style = function(canvas_div) {\n",
       "\n",
       "}\n",
       "\n",
       "\n",
       "mpl.figure.prototype._root_extra_style = function(canvas_div) {\n",
       "\n",
       "}\n",
       "\n",
       "mpl.figure.prototype._init_canvas = function() {\n",
       "    var fig = this;\n",
       "\n",
       "    var canvas_div = $('<div/>');\n",
       "\n",
       "    canvas_div.attr('style', 'position: relative; clear: both; outline: 0');\n",
       "\n",
       "    function canvas_keyboard_event(event) {\n",
       "        return fig.key_event(event, event['data']);\n",
       "    }\n",
       "\n",
       "    canvas_div.keydown('key_press', canvas_keyboard_event);\n",
       "    canvas_div.keyup('key_release', canvas_keyboard_event);\n",
       "    this.canvas_div = canvas_div\n",
       "    this._canvas_extra_style(canvas_div)\n",
       "    this.root.append(canvas_div);\n",
       "\n",
       "    var canvas = $('<canvas/>');\n",
       "    canvas.addClass('mpl-canvas');\n",
       "    canvas.attr('style', \"left: 0; top: 0; z-index: 0; outline: 0\")\n",
       "\n",
       "    this.canvas = canvas[0];\n",
       "    this.context = canvas[0].getContext(\"2d\");\n",
       "\n",
       "    var backingStore = this.context.backingStorePixelRatio ||\n",
       "\tthis.context.webkitBackingStorePixelRatio ||\n",
       "\tthis.context.mozBackingStorePixelRatio ||\n",
       "\tthis.context.msBackingStorePixelRatio ||\n",
       "\tthis.context.oBackingStorePixelRatio ||\n",
       "\tthis.context.backingStorePixelRatio || 1;\n",
       "\n",
       "    mpl.ratio = (window.devicePixelRatio || 1) / backingStore;\n",
       "\n",
       "    var rubberband = $('<canvas/>');\n",
       "    rubberband.attr('style', \"position: absolute; left: 0; top: 0; z-index: 1;\")\n",
       "\n",
       "    var pass_mouse_events = true;\n",
       "\n",
       "    canvas_div.resizable({\n",
       "        start: function(event, ui) {\n",
       "            pass_mouse_events = false;\n",
       "        },\n",
       "        resize: function(event, ui) {\n",
       "            fig.request_resize(ui.size.width, ui.size.height);\n",
       "        },\n",
       "        stop: function(event, ui) {\n",
       "            pass_mouse_events = true;\n",
       "            fig.request_resize(ui.size.width, ui.size.height);\n",
       "        },\n",
       "    });\n",
       "\n",
       "    function mouse_event_fn(event) {\n",
       "        if (pass_mouse_events)\n",
       "            return fig.mouse_event(event, event['data']);\n",
       "    }\n",
       "\n",
       "    rubberband.mousedown('button_press', mouse_event_fn);\n",
       "    rubberband.mouseup('button_release', mouse_event_fn);\n",
       "    // Throttle sequential mouse events to 1 every 20ms.\n",
       "    rubberband.mousemove('motion_notify', mouse_event_fn);\n",
       "\n",
       "    rubberband.mouseenter('figure_enter', mouse_event_fn);\n",
       "    rubberband.mouseleave('figure_leave', mouse_event_fn);\n",
       "\n",
       "    canvas_div.on(\"wheel\", function (event) {\n",
       "        event = event.originalEvent;\n",
       "        event['data'] = 'scroll'\n",
       "        if (event.deltaY < 0) {\n",
       "            event.step = 1;\n",
       "        } else {\n",
       "            event.step = -1;\n",
       "        }\n",
       "        mouse_event_fn(event);\n",
       "    });\n",
       "\n",
       "    canvas_div.append(canvas);\n",
       "    canvas_div.append(rubberband);\n",
       "\n",
       "    this.rubberband = rubberband;\n",
       "    this.rubberband_canvas = rubberband[0];\n",
       "    this.rubberband_context = rubberband[0].getContext(\"2d\");\n",
       "    this.rubberband_context.strokeStyle = \"#000000\";\n",
       "\n",
       "    this._resize_canvas = function(width, height) {\n",
       "        // Keep the size of the canvas, canvas container, and rubber band\n",
       "        // canvas in synch.\n",
       "        canvas_div.css('width', width)\n",
       "        canvas_div.css('height', height)\n",
       "\n",
       "        canvas.attr('width', width * mpl.ratio);\n",
       "        canvas.attr('height', height * mpl.ratio);\n",
       "        canvas.attr('style', 'width: ' + width + 'px; height: ' + height + 'px;');\n",
       "\n",
       "        rubberband.attr('width', width);\n",
       "        rubberband.attr('height', height);\n",
       "    }\n",
       "\n",
       "    // Set the figure to an initial 600x600px, this will subsequently be updated\n",
       "    // upon first draw.\n",
       "    this._resize_canvas(600, 600);\n",
       "\n",
       "    // Disable right mouse context menu.\n",
       "    $(this.rubberband_canvas).bind(\"contextmenu\",function(e){\n",
       "        return false;\n",
       "    });\n",
       "\n",
       "    function set_focus () {\n",
       "        canvas.focus();\n",
       "        canvas_div.focus();\n",
       "    }\n",
       "\n",
       "    window.setTimeout(set_focus, 100);\n",
       "}\n",
       "\n",
       "mpl.figure.prototype._init_toolbar = function() {\n",
       "    var fig = this;\n",
       "\n",
       "    var nav_element = $('<div/>')\n",
       "    nav_element.attr('style', 'width: 100%');\n",
       "    this.root.append(nav_element);\n",
       "\n",
       "    // Define a callback function for later on.\n",
       "    function toolbar_event(event) {\n",
       "        return fig.toolbar_button_onclick(event['data']);\n",
       "    }\n",
       "    function toolbar_mouse_event(event) {\n",
       "        return fig.toolbar_button_onmouseover(event['data']);\n",
       "    }\n",
       "\n",
       "    for(var toolbar_ind in mpl.toolbar_items) {\n",
       "        var name = mpl.toolbar_items[toolbar_ind][0];\n",
       "        var tooltip = mpl.toolbar_items[toolbar_ind][1];\n",
       "        var image = mpl.toolbar_items[toolbar_ind][2];\n",
       "        var method_name = mpl.toolbar_items[toolbar_ind][3];\n",
       "\n",
       "        if (!name) {\n",
       "            // put a spacer in here.\n",
       "            continue;\n",
       "        }\n",
       "        var button = $('<button/>');\n",
       "        button.addClass('ui-button ui-widget ui-state-default ui-corner-all ' +\n",
       "                        'ui-button-icon-only');\n",
       "        button.attr('role', 'button');\n",
       "        button.attr('aria-disabled', 'false');\n",
       "        button.click(method_name, toolbar_event);\n",
       "        button.mouseover(tooltip, toolbar_mouse_event);\n",
       "\n",
       "        var icon_img = $('<span/>');\n",
       "        icon_img.addClass('ui-button-icon-primary ui-icon');\n",
       "        icon_img.addClass(image);\n",
       "        icon_img.addClass('ui-corner-all');\n",
       "\n",
       "        var tooltip_span = $('<span/>');\n",
       "        tooltip_span.addClass('ui-button-text');\n",
       "        tooltip_span.html(tooltip);\n",
       "\n",
       "        button.append(icon_img);\n",
       "        button.append(tooltip_span);\n",
       "\n",
       "        nav_element.append(button);\n",
       "    }\n",
       "\n",
       "    var fmt_picker_span = $('<span/>');\n",
       "\n",
       "    var fmt_picker = $('<select/>');\n",
       "    fmt_picker.addClass('mpl-toolbar-option ui-widget ui-widget-content');\n",
       "    fmt_picker_span.append(fmt_picker);\n",
       "    nav_element.append(fmt_picker_span);\n",
       "    this.format_dropdown = fmt_picker[0];\n",
       "\n",
       "    for (var ind in mpl.extensions) {\n",
       "        var fmt = mpl.extensions[ind];\n",
       "        var option = $(\n",
       "            '<option/>', {selected: fmt === mpl.default_extension}).html(fmt);\n",
       "        fmt_picker.append(option)\n",
       "    }\n",
       "\n",
       "    // Add hover states to the ui-buttons\n",
       "    $( \".ui-button\" ).hover(\n",
       "        function() { $(this).addClass(\"ui-state-hover\");},\n",
       "        function() { $(this).removeClass(\"ui-state-hover\");}\n",
       "    );\n",
       "\n",
       "    var status_bar = $('<span class=\"mpl-message\"/>');\n",
       "    nav_element.append(status_bar);\n",
       "    this.message = status_bar[0];\n",
       "}\n",
       "\n",
       "mpl.figure.prototype.request_resize = function(x_pixels, y_pixels) {\n",
       "    // Request matplotlib to resize the figure. Matplotlib will then trigger a resize in the client,\n",
       "    // which will in turn request a refresh of the image.\n",
       "    this.send_message('resize', {'width': x_pixels, 'height': y_pixels});\n",
       "}\n",
       "\n",
       "mpl.figure.prototype.send_message = function(type, properties) {\n",
       "    properties['type'] = type;\n",
       "    properties['figure_id'] = this.id;\n",
       "    this.ws.send(JSON.stringify(properties));\n",
       "}\n",
       "\n",
       "mpl.figure.prototype.send_draw_message = function() {\n",
       "    if (!this.waiting) {\n",
       "        this.waiting = true;\n",
       "        this.ws.send(JSON.stringify({type: \"draw\", figure_id: this.id}));\n",
       "    }\n",
       "}\n",
       "\n",
       "\n",
       "mpl.figure.prototype.handle_save = function(fig, msg) {\n",
       "    var format_dropdown = fig.format_dropdown;\n",
       "    var format = format_dropdown.options[format_dropdown.selectedIndex].value;\n",
       "    fig.ondownload(fig, format);\n",
       "}\n",
       "\n",
       "\n",
       "mpl.figure.prototype.handle_resize = function(fig, msg) {\n",
       "    var size = msg['size'];\n",
       "    if (size[0] != fig.canvas.width || size[1] != fig.canvas.height) {\n",
       "        fig._resize_canvas(size[0], size[1]);\n",
       "        fig.send_message(\"refresh\", {});\n",
       "    };\n",
       "}\n",
       "\n",
       "mpl.figure.prototype.handle_rubberband = function(fig, msg) {\n",
       "    var x0 = msg['x0'] / mpl.ratio;\n",
       "    var y0 = (fig.canvas.height - msg['y0']) / mpl.ratio;\n",
       "    var x1 = msg['x1'] / mpl.ratio;\n",
       "    var y1 = (fig.canvas.height - msg['y1']) / mpl.ratio;\n",
       "    x0 = Math.floor(x0) + 0.5;\n",
       "    y0 = Math.floor(y0) + 0.5;\n",
       "    x1 = Math.floor(x1) + 0.5;\n",
       "    y1 = Math.floor(y1) + 0.5;\n",
       "    var min_x = Math.min(x0, x1);\n",
       "    var min_y = Math.min(y0, y1);\n",
       "    var width = Math.abs(x1 - x0);\n",
       "    var height = Math.abs(y1 - y0);\n",
       "\n",
       "    fig.rubberband_context.clearRect(\n",
       "        0, 0, fig.canvas.width, fig.canvas.height);\n",
       "\n",
       "    fig.rubberband_context.strokeRect(min_x, min_y, width, height);\n",
       "}\n",
       "\n",
       "mpl.figure.prototype.handle_figure_label = function(fig, msg) {\n",
       "    // Updates the figure title.\n",
       "    fig.header.textContent = msg['label'];\n",
       "}\n",
       "\n",
       "mpl.figure.prototype.handle_cursor = function(fig, msg) {\n",
       "    var cursor = msg['cursor'];\n",
       "    switch(cursor)\n",
       "    {\n",
       "    case 0:\n",
       "        cursor = 'pointer';\n",
       "        break;\n",
       "    case 1:\n",
       "        cursor = 'default';\n",
       "        break;\n",
       "    case 2:\n",
       "        cursor = 'crosshair';\n",
       "        break;\n",
       "    case 3:\n",
       "        cursor = 'move';\n",
       "        break;\n",
       "    }\n",
       "    fig.rubberband_canvas.style.cursor = cursor;\n",
       "}\n",
       "\n",
       "mpl.figure.prototype.handle_message = function(fig, msg) {\n",
       "    fig.message.textContent = msg['message'];\n",
       "}\n",
       "\n",
       "mpl.figure.prototype.handle_draw = function(fig, msg) {\n",
       "    // Request the server to send over a new figure.\n",
       "    fig.send_draw_message();\n",
       "}\n",
       "\n",
       "mpl.figure.prototype.handle_image_mode = function(fig, msg) {\n",
       "    fig.image_mode = msg['mode'];\n",
       "}\n",
       "\n",
       "mpl.figure.prototype.updated_canvas_event = function() {\n",
       "    // Called whenever the canvas gets updated.\n",
       "    this.send_message(\"ack\", {});\n",
       "}\n",
       "\n",
       "// A function to construct a web socket function for onmessage handling.\n",
       "// Called in the figure constructor.\n",
       "mpl.figure.prototype._make_on_message_function = function(fig) {\n",
       "    return function socket_on_message(evt) {\n",
       "        if (evt.data instanceof Blob) {\n",
       "            /* FIXME: We get \"Resource interpreted as Image but\n",
       "             * transferred with MIME type text/plain:\" errors on\n",
       "             * Chrome.  But how to set the MIME type?  It doesn't seem\n",
       "             * to be part of the websocket stream */\n",
       "            evt.data.type = \"image/png\";\n",
       "\n",
       "            /* Free the memory for the previous frames */\n",
       "            if (fig.imageObj.src) {\n",
       "                (window.URL || window.webkitURL).revokeObjectURL(\n",
       "                    fig.imageObj.src);\n",
       "            }\n",
       "\n",
       "            fig.imageObj.src = (window.URL || window.webkitURL).createObjectURL(\n",
       "                evt.data);\n",
       "            fig.updated_canvas_event();\n",
       "            fig.waiting = false;\n",
       "            return;\n",
       "        }\n",
       "        else if (typeof evt.data === 'string' && evt.data.slice(0, 21) == \"data:image/png;base64\") {\n",
       "            fig.imageObj.src = evt.data;\n",
       "            fig.updated_canvas_event();\n",
       "            fig.waiting = false;\n",
       "            return;\n",
       "        }\n",
       "\n",
       "        var msg = JSON.parse(evt.data);\n",
       "        var msg_type = msg['type'];\n",
       "\n",
       "        // Call the  \"handle_{type}\" callback, which takes\n",
       "        // the figure and JSON message as its only arguments.\n",
       "        try {\n",
       "            var callback = fig[\"handle_\" + msg_type];\n",
       "        } catch (e) {\n",
       "            console.log(\"No handler for the '\" + msg_type + \"' message type: \", msg);\n",
       "            return;\n",
       "        }\n",
       "\n",
       "        if (callback) {\n",
       "            try {\n",
       "                // console.log(\"Handling '\" + msg_type + \"' message: \", msg);\n",
       "                callback(fig, msg);\n",
       "            } catch (e) {\n",
       "                console.log(\"Exception inside the 'handler_\" + msg_type + \"' callback:\", e, e.stack, msg);\n",
       "            }\n",
       "        }\n",
       "    };\n",
       "}\n",
       "\n",
       "// from http://stackoverflow.com/questions/1114465/getting-mouse-location-in-canvas\n",
       "mpl.findpos = function(e) {\n",
       "    //this section is from http://www.quirksmode.org/js/events_properties.html\n",
       "    var targ;\n",
       "    if (!e)\n",
       "        e = window.event;\n",
       "    if (e.target)\n",
       "        targ = e.target;\n",
       "    else if (e.srcElement)\n",
       "        targ = e.srcElement;\n",
       "    if (targ.nodeType == 3) // defeat Safari bug\n",
       "        targ = targ.parentNode;\n",
       "\n",
       "    // jQuery normalizes the pageX and pageY\n",
       "    // pageX,Y are the mouse positions relative to the document\n",
       "    // offset() returns the position of the element relative to the document\n",
       "    var x = e.pageX - $(targ).offset().left;\n",
       "    var y = e.pageY - $(targ).offset().top;\n",
       "\n",
       "    return {\"x\": x, \"y\": y};\n",
       "};\n",
       "\n",
       "/*\n",
       " * return a copy of an object with only non-object keys\n",
       " * we need this to avoid circular references\n",
       " * http://stackoverflow.com/a/24161582/3208463\n",
       " */\n",
       "function simpleKeys (original) {\n",
       "  return Object.keys(original).reduce(function (obj, key) {\n",
       "    if (typeof original[key] !== 'object')\n",
       "        obj[key] = original[key]\n",
       "    return obj;\n",
       "  }, {});\n",
       "}\n",
       "\n",
       "mpl.figure.prototype.mouse_event = function(event, name) {\n",
       "    var canvas_pos = mpl.findpos(event)\n",
       "\n",
       "    if (name === 'button_press')\n",
       "    {\n",
       "        this.canvas.focus();\n",
       "        this.canvas_div.focus();\n",
       "    }\n",
       "\n",
       "    var x = canvas_pos.x * mpl.ratio;\n",
       "    var y = canvas_pos.y * mpl.ratio;\n",
       "\n",
       "    this.send_message(name, {x: x, y: y, button: event.button,\n",
       "                             step: event.step,\n",
       "                             guiEvent: simpleKeys(event)});\n",
       "\n",
       "    /* This prevents the web browser from automatically changing to\n",
       "     * the text insertion cursor when the button is pressed.  We want\n",
       "     * to control all of the cursor setting manually through the\n",
       "     * 'cursor' event from matplotlib */\n",
       "    event.preventDefault();\n",
       "    return false;\n",
       "}\n",
       "\n",
       "mpl.figure.prototype._key_event_extra = function(event, name) {\n",
       "    // Handle any extra behaviour associated with a key event\n",
       "}\n",
       "\n",
       "mpl.figure.prototype.key_event = function(event, name) {\n",
       "\n",
       "    // Prevent repeat events\n",
       "    if (name == 'key_press')\n",
       "    {\n",
       "        if (event.which === this._key)\n",
       "            return;\n",
       "        else\n",
       "            this._key = event.which;\n",
       "    }\n",
       "    if (name == 'key_release')\n",
       "        this._key = null;\n",
       "\n",
       "    var value = '';\n",
       "    if (event.ctrlKey && event.which != 17)\n",
       "        value += \"ctrl+\";\n",
       "    if (event.altKey && event.which != 18)\n",
       "        value += \"alt+\";\n",
       "    if (event.shiftKey && event.which != 16)\n",
       "        value += \"shift+\";\n",
       "\n",
       "    value += 'k';\n",
       "    value += event.which.toString();\n",
       "\n",
       "    this._key_event_extra(event, name);\n",
       "\n",
       "    this.send_message(name, {key: value,\n",
       "                             guiEvent: simpleKeys(event)});\n",
       "    return false;\n",
       "}\n",
       "\n",
       "mpl.figure.prototype.toolbar_button_onclick = function(name) {\n",
       "    if (name == 'download') {\n",
       "        this.handle_save(this, null);\n",
       "    } else {\n",
       "        this.send_message(\"toolbar_button\", {name: name});\n",
       "    }\n",
       "};\n",
       "\n",
       "mpl.figure.prototype.toolbar_button_onmouseover = function(tooltip) {\n",
       "    this.message.textContent = tooltip;\n",
       "};\n",
       "mpl.toolbar_items = [[\"Home\", \"Reset original view\", \"fa fa-home icon-home\", \"home\"], [\"Back\", \"Back to  previous view\", \"fa fa-arrow-left icon-arrow-left\", \"back\"], [\"Forward\", \"Forward to next view\", \"fa fa-arrow-right icon-arrow-right\", \"forward\"], [\"\", \"\", \"\", \"\"], [\"Pan\", \"Pan axes with left mouse, zoom with right\", \"fa fa-arrows icon-move\", \"pan\"], [\"Zoom\", \"Zoom to rectangle\", \"fa fa-square-o icon-check-empty\", \"zoom\"], [\"\", \"\", \"\", \"\"], [\"Download\", \"Download plot\", \"fa fa-floppy-o icon-save\", \"download\"]];\n",
       "\n",
       "mpl.extensions = [\"eps\", \"pdf\", \"png\", \"ps\", \"raw\", \"svg\"];\n",
       "\n",
       "mpl.default_extension = \"png\";var comm_websocket_adapter = function(comm) {\n",
       "    // Create a \"websocket\"-like object which calls the given IPython comm\n",
       "    // object with the appropriate methods. Currently this is a non binary\n",
       "    // socket, so there is still some room for performance tuning.\n",
       "    var ws = {};\n",
       "\n",
       "    ws.close = function() {\n",
       "        comm.close()\n",
       "    };\n",
       "    ws.send = function(m) {\n",
       "        //console.log('sending', m);\n",
       "        comm.send(m);\n",
       "    };\n",
       "    // Register the callback with on_msg.\n",
       "    comm.on_msg(function(msg) {\n",
       "        //console.log('receiving', msg['content']['data'], msg);\n",
       "        // Pass the mpl event to the overridden (by mpl) onmessage function.\n",
       "        ws.onmessage(msg['content']['data'])\n",
       "    });\n",
       "    return ws;\n",
       "}\n",
       "\n",
       "mpl.mpl_figure_comm = function(comm, msg) {\n",
       "    // This is the function which gets called when the mpl process\n",
       "    // starts-up an IPython Comm through the \"matplotlib\" channel.\n",
       "\n",
       "    var id = msg.content.data.id;\n",
       "    // Get hold of the div created by the display call when the Comm\n",
       "    // socket was opened in Python.\n",
       "    var element = $(\"#\" + id);\n",
       "    var ws_proxy = comm_websocket_adapter(comm)\n",
       "\n",
       "    function ondownload(figure, format) {\n",
       "        window.open(figure.imageObj.src);\n",
       "    }\n",
       "\n",
       "    var fig = new mpl.figure(id, ws_proxy,\n",
       "                           ondownload,\n",
       "                           element.get(0));\n",
       "\n",
       "    // Call onopen now - mpl needs it, as it is assuming we've passed it a real\n",
       "    // web socket which is closed, not our websocket->open comm proxy.\n",
       "    ws_proxy.onopen();\n",
       "\n",
       "    fig.parent_element = element.get(0);\n",
       "    fig.cell_info = mpl.find_output_cell(\"<div id='\" + id + \"'></div>\");\n",
       "    if (!fig.cell_info) {\n",
       "        console.error(\"Failed to find cell for figure\", id, fig);\n",
       "        return;\n",
       "    }\n",
       "\n",
       "    var output_index = fig.cell_info[2]\n",
       "    var cell = fig.cell_info[0];\n",
       "\n",
       "};\n",
       "\n",
       "mpl.figure.prototype.handle_close = function(fig, msg) {\n",
       "    var width = fig.canvas.width/mpl.ratio\n",
       "    fig.root.unbind('remove')\n",
       "\n",
       "    // Update the output cell to use the data from the current canvas.\n",
       "    fig.push_to_output();\n",
       "    var dataURL = fig.canvas.toDataURL();\n",
       "    // Re-enable the keyboard manager in IPython - without this line, in FF,\n",
       "    // the notebook keyboard shortcuts fail.\n",
       "    IPython.keyboard_manager.enable()\n",
       "    $(fig.parent_element).html('<img src=\"' + dataURL + '\" width=\"' + width + '\">');\n",
       "    fig.close_ws(fig, msg);\n",
       "}\n",
       "\n",
       "mpl.figure.prototype.close_ws = function(fig, msg){\n",
       "    fig.send_message('closing', msg);\n",
       "    // fig.ws.close()\n",
       "}\n",
       "\n",
       "mpl.figure.prototype.push_to_output = function(remove_interactive) {\n",
       "    // Turn the data on the canvas into data in the output cell.\n",
       "    var width = this.canvas.width/mpl.ratio\n",
       "    var dataURL = this.canvas.toDataURL();\n",
       "    this.cell_info[1]['text/html'] = '<img src=\"' + dataURL + '\" width=\"' + width + '\">';\n",
       "}\n",
       "\n",
       "mpl.figure.prototype.updated_canvas_event = function() {\n",
       "    // Tell IPython that the notebook contents must change.\n",
       "    IPython.notebook.set_dirty(true);\n",
       "    this.send_message(\"ack\", {});\n",
       "    var fig = this;\n",
       "    // Wait a second, then push the new image to the DOM so\n",
       "    // that it is saved nicely (might be nice to debounce this).\n",
       "    setTimeout(function () { fig.push_to_output() }, 1000);\n",
       "}\n",
       "\n",
       "mpl.figure.prototype._init_toolbar = function() {\n",
       "    var fig = this;\n",
       "\n",
       "    var nav_element = $('<div/>')\n",
       "    nav_element.attr('style', 'width: 100%');\n",
       "    this.root.append(nav_element);\n",
       "\n",
       "    // Define a callback function for later on.\n",
       "    function toolbar_event(event) {\n",
       "        return fig.toolbar_button_onclick(event['data']);\n",
       "    }\n",
       "    function toolbar_mouse_event(event) {\n",
       "        return fig.toolbar_button_onmouseover(event['data']);\n",
       "    }\n",
       "\n",
       "    for(var toolbar_ind in mpl.toolbar_items){\n",
       "        var name = mpl.toolbar_items[toolbar_ind][0];\n",
       "        var tooltip = mpl.toolbar_items[toolbar_ind][1];\n",
       "        var image = mpl.toolbar_items[toolbar_ind][2];\n",
       "        var method_name = mpl.toolbar_items[toolbar_ind][3];\n",
       "\n",
       "        if (!name) { continue; };\n",
       "\n",
       "        var button = $('<button class=\"btn btn-default\" href=\"#\" title=\"' + name + '\"><i class=\"fa ' + image + ' fa-lg\"></i></button>');\n",
       "        button.click(method_name, toolbar_event);\n",
       "        button.mouseover(tooltip, toolbar_mouse_event);\n",
       "        nav_element.append(button);\n",
       "    }\n",
       "\n",
       "    // Add the status bar.\n",
       "    var status_bar = $('<span class=\"mpl-message\" style=\"text-align:right; float: right;\"/>');\n",
       "    nav_element.append(status_bar);\n",
       "    this.message = status_bar[0];\n",
       "\n",
       "    // Add the close button to the window.\n",
       "    var buttongrp = $('<div class=\"btn-group inline pull-right\"></div>');\n",
       "    var button = $('<button class=\"btn btn-mini btn-primary\" href=\"#\" title=\"Stop Interaction\"><i class=\"fa fa-power-off icon-remove icon-large\"></i></button>');\n",
       "    button.click(function (evt) { fig.handle_close(fig, {}); } );\n",
       "    button.mouseover('Stop Interaction', toolbar_mouse_event);\n",
       "    buttongrp.append(button);\n",
       "    var titlebar = this.root.find($('.ui-dialog-titlebar'));\n",
       "    titlebar.prepend(buttongrp);\n",
       "}\n",
       "\n",
       "mpl.figure.prototype._root_extra_style = function(el){\n",
       "    var fig = this\n",
       "    el.on(\"remove\", function(){\n",
       "\tfig.close_ws(fig, {});\n",
       "    });\n",
       "}\n",
       "\n",
       "mpl.figure.prototype._canvas_extra_style = function(el){\n",
       "    // this is important to make the div 'focusable\n",
       "    el.attr('tabindex', 0)\n",
       "    // reach out to IPython and tell the keyboard manager to turn it's self\n",
       "    // off when our div gets focus\n",
       "\n",
       "    // location in version 3\n",
       "    if (IPython.notebook.keyboard_manager) {\n",
       "        IPython.notebook.keyboard_manager.register_events(el);\n",
       "    }\n",
       "    else {\n",
       "        // location in version 2\n",
       "        IPython.keyboard_manager.register_events(el);\n",
       "    }\n",
       "\n",
       "}\n",
       "\n",
       "mpl.figure.prototype._key_event_extra = function(event, name) {\n",
       "    var manager = IPython.notebook.keyboard_manager;\n",
       "    if (!manager)\n",
       "        manager = IPython.keyboard_manager;\n",
       "\n",
       "    // Check for shift+enter\n",
       "    if (event.shiftKey && event.which == 13) {\n",
       "        this.canvas_div.blur();\n",
       "        event.shiftKey = false;\n",
       "        // Send a \"J\" for go to next cell\n",
       "        event.which = 74;\n",
       "        event.keyCode = 74;\n",
       "        manager.command_mode();\n",
       "        manager.handle_keydown(event);\n",
       "    }\n",
       "}\n",
       "\n",
       "mpl.figure.prototype.handle_save = function(fig, msg) {\n",
       "    fig.ondownload(fig, null);\n",
       "}\n",
       "\n",
       "\n",
       "mpl.find_output_cell = function(html_output) {\n",
       "    // Return the cell and output element which can be found *uniquely* in the notebook.\n",
       "    // Note - this is a bit hacky, but it is done because the \"notebook_saving.Notebook\"\n",
       "    // IPython event is triggered only after the cells have been serialised, which for\n",
       "    // our purposes (turning an active figure into a static one), is too late.\n",
       "    var cells = IPython.notebook.get_cells();\n",
       "    var ncells = cells.length;\n",
       "    for (var i=0; i<ncells; i++) {\n",
       "        var cell = cells[i];\n",
       "        if (cell.cell_type === 'code'){\n",
       "            for (var j=0; j<cell.output_area.outputs.length; j++) {\n",
       "                var data = cell.output_area.outputs[j];\n",
       "                if (data.data) {\n",
       "                    // IPython >= 3 moved mimebundle to data attribute of output\n",
       "                    data = data.data;\n",
       "                }\n",
       "                if (data['text/html'] == html_output) {\n",
       "                    return [cell, data, j];\n",
       "                }\n",
       "            }\n",
       "        }\n",
       "    }\n",
       "}\n",
       "\n",
       "// Register the function which deals with the matplotlib target/channel.\n",
       "// The kernel may be null if the page has been refreshed.\n",
       "if (IPython.notebook.kernel != null) {\n",
       "    IPython.notebook.kernel.comm_manager.register_target('matplotlib', mpl.mpl_figure_comm);\n",
       "}\n"
      ],
      "text/plain": [
       "<IPython.core.display.Javascript object>"
      ]
     },
     "metadata": {},
     "output_type": "display_data"
    },
    {
     "data": {
      "text/html": [
       "<img src=\"data:image/png;base64,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\" width=\"640\">"
      ],
      "text/plain": [
       "<IPython.core.display.HTML object>"
      ]
     },
     "metadata": {},
     "output_type": "display_data"
    },
    {
     "data": {
      "text/html": [
       "<i>Table length=2</i>\n",
       "<table id=\"table140158148480864\" class=\"table-striped table-bordered table-condensed\">\n",
       "<thead><tr><th>FEED</th><th>RECEPTOR</th><th>POLARIZE</th><th>CENTER_SKY</th><th>BANDWDTH</th><th>PORT</th><th>HIGH_CAL</th><th>SIGREF</th><th>CAL</th><th>PHASE_ID</th><th>PHASE</th><th>DATA [149]</th></tr></thead>\n",
       "<thead><tr><th>none</th><th></th><th></th><th>Hz</th><th>Hz</th><th>none</th><th>none</th><th></th><th></th><th></th><th></th><th></th></tr></thead>\n",
       "<thead><tr><th>int32</th><th>str8</th><th>str2</th><th>float32</th><th>float32</th><th>int32</th><th>int32</th><th>uint8</th><th>uint8</th><th>int64</th><th>str18</th><th>int32</th></tr></thead>\n",
       "<tr><td>1</td><td>L1</td><td>L</td><td>14098000000.0</td><td>3004000000.0</td><td>2</td><td>0</td><td>0</td><td>0</td><td>0</td><td>Signal / No Cal</td><td>188315 .. 186796</td></tr>\n",
       "<tr><td>1</td><td>R1</td><td>R</td><td>14098000000.0</td><td>3004000000.0</td><td>4</td><td>0</td><td>0</td><td>0</td><td>0</td><td>Signal / No Cal</td><td>175363 .. 174353</td></tr>\n",
       "</table>"
      ],
      "text/plain": [
       "<Table length=2>\n",
       " FEED RECEPTOR POLARIZE ... PHASE_ID      PHASE         DATA [149]   \n",
       " none                   ...                                          \n",
       "int32   str8     str2   ...  int64        str18           int32      \n",
       "----- -------- -------- ... -------- --------------- ----------------\n",
       "    1       L1        L ...        0 Signal / No Cal 188315 .. 186796\n",
       "    1       R1        R ...        0 Signal / No Cal 175363 .. 174353"
      ]
     },
     "execution_count": 65,
     "metadata": {},
     "output_type": "execute_result"
    }
   ],
   "source": [
    "%matplotlib notebook\n",
    "\n",
    "from astropy import units\n",
    "import matplotlib.pyplot as plt\n",
    "\n",
    "# Mask out everything but 'Signal / No Cal' data\n",
    "row_mask = dcr_table['PHASE'] == 'Signal / No Cal'\n",
    "sig_no_cal = dcr_table[row_mask]\n",
    "data = sig_no_cal['DATA']\n",
    "\n",
    "# Transpose data here so that each row results in a new axis (instead of each column, which makes little sense)\n",
    "plt.plot(data.T)\n",
    "# Convert our center freq to GHz\n",
    "center_freq = dcr_table['CENTER_SKY'].to('GHz')[0]\n",
    "plt.xlabel('Integrations')\n",
    "plt.ylabel('Counts')\n",
    "plt.legend(['1 L - Signal / No Cal - {:0.2f}'.format(center_freq),\n",
    "            '1 R - Signal / No Cal - {:0.2f}'.format(center_freq)],\n",
    "          bbox_to_anchor=(1.15, 1.0))\n",
    "# Display the plot\n",
    "plt.show()\n",
    "# Display the table being plotted\n",
    "sig_no_cal"
   ]
  }
 ],
 "metadata": {
  "celltoolbar": "Slideshow",
  "kernelspec": {
   "display_name": "Python 3",
   "language": "python",
   "name": "python3"
  },
  "language_info": {
   "codemirror_mode": {
    "name": "ipython",
    "version": 3
   },
   "file_extension": ".py",
   "mimetype": "text/x-python",
   "name": "python",
   "nbconvert_exporter": "python",
   "pygments_lexer": "ipython3",
   "version": "3.5.2"
  },
  "rise": {
   "transition": "none"
  }
 },
 "nbformat": 4,
 "nbformat_minor": 2
}
